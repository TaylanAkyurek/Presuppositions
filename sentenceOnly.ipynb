{
  "cells": [
    {
      "cell_type": "code",
      "execution_count": 1,
      "metadata": {
        "colab": {
          "base_uri": "https://localhost:8080/"
        },
        "id": "MOsHUjgdIrIW",
        "outputId": "a382457d-5125-4221-be79-f4c530303a98"
      },
      "outputs": [
        {
          "output_type": "stream",
          "name": "stdout",
          "text": [
            "Looking in indexes: https://pypi.org/simple, https://us-python.pkg.dev/colab-wheels/public/simple/\n",
            "Requirement already satisfied: datasets in /usr/local/lib/python3.10/dist-packages (2.13.0)\n",
            "Requirement already satisfied: transformers in /usr/local/lib/python3.10/dist-packages (4.30.2)\n",
            "Requirement already satisfied: numpy>=1.17 in /usr/local/lib/python3.10/dist-packages (from datasets) (1.22.4)\n",
            "Requirement already satisfied: pyarrow>=8.0.0 in /usr/local/lib/python3.10/dist-packages (from datasets) (9.0.0)\n",
            "Requirement already satisfied: dill<0.3.7,>=0.3.0 in /usr/local/lib/python3.10/dist-packages (from datasets) (0.3.6)\n",
            "Requirement already satisfied: pandas in /usr/local/lib/python3.10/dist-packages (from datasets) (1.5.3)\n",
            "Requirement already satisfied: requests>=2.19.0 in /usr/local/lib/python3.10/dist-packages (from datasets) (2.27.1)\n",
            "Requirement already satisfied: tqdm>=4.62.1 in /usr/local/lib/python3.10/dist-packages (from datasets) (4.65.0)\n",
            "Requirement already satisfied: xxhash in /usr/local/lib/python3.10/dist-packages (from datasets) (3.2.0)\n",
            "Requirement already satisfied: multiprocess in /usr/local/lib/python3.10/dist-packages (from datasets) (0.70.14)\n",
            "Requirement already satisfied: fsspec[http]>=2021.11.1 in /usr/local/lib/python3.10/dist-packages (from datasets) (2023.4.0)\n",
            "Requirement already satisfied: aiohttp in /usr/local/lib/python3.10/dist-packages (from datasets) (3.8.4)\n",
            "Requirement already satisfied: huggingface-hub<1.0.0,>=0.11.0 in /usr/local/lib/python3.10/dist-packages (from datasets) (0.15.1)\n",
            "Requirement already satisfied: packaging in /usr/local/lib/python3.10/dist-packages (from datasets) (23.1)\n",
            "Requirement already satisfied: pyyaml>=5.1 in /usr/local/lib/python3.10/dist-packages (from datasets) (6.0)\n",
            "Requirement already satisfied: filelock in /usr/local/lib/python3.10/dist-packages (from transformers) (3.12.0)\n",
            "Requirement already satisfied: regex!=2019.12.17 in /usr/local/lib/python3.10/dist-packages (from transformers) (2022.10.31)\n",
            "Requirement already satisfied: tokenizers!=0.11.3,<0.14,>=0.11.1 in /usr/local/lib/python3.10/dist-packages (from transformers) (0.13.3)\n",
            "Requirement already satisfied: safetensors>=0.3.1 in /usr/local/lib/python3.10/dist-packages (from transformers) (0.3.1)\n",
            "Requirement already satisfied: attrs>=17.3.0 in /usr/local/lib/python3.10/dist-packages (from aiohttp->datasets) (23.1.0)\n",
            "Requirement already satisfied: charset-normalizer<4.0,>=2.0 in /usr/local/lib/python3.10/dist-packages (from aiohttp->datasets) (2.0.12)\n",
            "Requirement already satisfied: multidict<7.0,>=4.5 in /usr/local/lib/python3.10/dist-packages (from aiohttp->datasets) (6.0.4)\n",
            "Requirement already satisfied: async-timeout<5.0,>=4.0.0a3 in /usr/local/lib/python3.10/dist-packages (from aiohttp->datasets) (4.0.2)\n",
            "Requirement already satisfied: yarl<2.0,>=1.0 in /usr/local/lib/python3.10/dist-packages (from aiohttp->datasets) (1.9.2)\n",
            "Requirement already satisfied: frozenlist>=1.1.1 in /usr/local/lib/python3.10/dist-packages (from aiohttp->datasets) (1.3.3)\n",
            "Requirement already satisfied: aiosignal>=1.1.2 in /usr/local/lib/python3.10/dist-packages (from aiohttp->datasets) (1.3.1)\n",
            "Requirement already satisfied: typing-extensions>=3.7.4.3 in /usr/local/lib/python3.10/dist-packages (from huggingface-hub<1.0.0,>=0.11.0->datasets) (4.5.0)\n",
            "Requirement already satisfied: urllib3<1.27,>=1.21.1 in /usr/local/lib/python3.10/dist-packages (from requests>=2.19.0->datasets) (1.26.15)\n",
            "Requirement already satisfied: certifi>=2017.4.17 in /usr/local/lib/python3.10/dist-packages (from requests>=2.19.0->datasets) (2022.12.7)\n",
            "Requirement already satisfied: idna<4,>=2.5 in /usr/local/lib/python3.10/dist-packages (from requests>=2.19.0->datasets) (3.4)\n",
            "Requirement already satisfied: python-dateutil>=2.8.1 in /usr/local/lib/python3.10/dist-packages (from pandas->datasets) (2.8.2)\n",
            "Requirement already satisfied: pytz>=2020.1 in /usr/local/lib/python3.10/dist-packages (from pandas->datasets) (2022.7.1)\n",
            "Requirement already satisfied: six>=1.5 in /usr/local/lib/python3.10/dist-packages (from python-dateutil>=2.8.1->pandas->datasets) (1.16.0)\n"
          ]
        }
      ],
      "source": [
        "! pip install datasets transformers"
      ]
    },
    {
      "cell_type": "code",
      "execution_count": 3,
      "metadata": {
        "colab": {
          "base_uri": "https://localhost:8080/"
        },
        "id": "GWMZSKS824Rj",
        "outputId": "6e3541fd-2ca3-4c2a-8f3c-f6da8e431a89"
      },
      "outputs": [
        {
          "output_type": "stream",
          "name": "stdout",
          "text": [
            "4.30.2\n"
          ]
        }
      ],
      "source": [
        "import transformers\n",
        "\n",
        "print(transformers.__version__)"
      ]
    },
    {
      "cell_type": "code",
      "execution_count": 5,
      "metadata": {
        "id": "uxSaGa_l3l-W",
        "colab": {
          "base_uri": "https://localhost:8080/",
          "height": 87,
          "referenced_widgets": [
            "70948450102d4959bd4d4ce8810fea11",
            "1f769202ccd441e68d4dc65d3e9bb4de",
            "495d99d8cf6341afb0ce8827bef749f7",
            "8a92c60560b14ab0bcbef5cfd4bbdcc9",
            "77bc94813a7941be955ca32d3a34e95f",
            "fd4f1ad8ecbb48c1b4722bc107339ce4",
            "9cfd012410a843e8af43d0130b4120b5",
            "127332d3bd4245468d982a04de7bff44",
            "64f3c1af34654b22867ca09e888e4c37",
            "8eb21439ee524a0ebe8c92c99bdcdbb9",
            "87f6ed2bc05f46e7a114b3dc9d189b89"
          ]
        },
        "outputId": "2a7cd780-c430-4095-d492-766b89419eed"
      },
      "outputs": [
        {
          "output_type": "stream",
          "name": "stderr",
          "text": [
            "WARNING:datasets.builder:Found cached dataset text (/root/.cache/huggingface/datasets/text/default-38539a5e691c3886/0.0.0/cb1e9bd71a82ad27976be3b12b407850fe2837d80c22c5e03a28949843a8ace2)\n"
          ]
        },
        {
          "output_type": "display_data",
          "data": {
            "text/plain": [
              "  0%|          | 0/2 [00:00<?, ?it/s]"
            ],
            "application/vnd.jupyter.widget-view+json": {
              "version_major": 2,
              "version_minor": 0,
              "model_id": "70948450102d4959bd4d4ce8810fea11"
            }
          },
          "metadata": {}
        }
      ],
      "source": [
        "from datasets import load_dataset\n",
        "\n",
        "datasets = load_dataset(\"text\", data_files={\"train\": \"big-cleanSentenceOnlyFinal.txt\", \"validation\": \"testData.txt\"})"
      ]
    },
    {
      "cell_type": "code",
      "execution_count": 7,
      "metadata": {
        "id": "ur5sNUcZ3l-g"
      },
      "outputs": [],
      "source": [
        "from datasets import ClassLabel\n",
        "import random\n",
        "import pandas as pd\n",
        "from IPython.display import display, HTML\n",
        "\n",
        "def show_random_elements(dataset, num_examples=10):\n",
        "    assert num_examples <= len(dataset), \"Can't pick more elements than there are in the dataset.\"\n",
        "    picks = []\n",
        "    for _ in range(num_examples):\n",
        "        pick = random.randint(0, len(dataset)-1)\n",
        "        while pick in picks:\n",
        "            pick = random.randint(0, len(dataset)-1)\n",
        "        picks.append(pick)\n",
        "\n",
        "    df = pd.DataFrame(dataset[picks])\n",
        "    for column, typ in dataset.features.items():\n",
        "        if isinstance(typ, ClassLabel):\n",
        "            df[column] = df[column].transform(lambda i: typ.names[i])\n",
        "    display(HTML(df.to_html()))"
      ]
    },
    {
      "cell_type": "code",
      "execution_count": 8,
      "metadata": {
        "id": "1Uk8NROQ3l-k",
        "outputId": "2c5e5c97-ecb9-4497-df84-6c69496a91a6",
        "colab": {
          "base_uri": "https://localhost:8080/",
          "height": 1000
        }
      },
      "outputs": [
        {
          "output_type": "display_data",
          "data": {
            "text/plain": [
              "<IPython.core.display.HTML object>"
            ],
            "text/html": [
              "<table border=\"1\" class=\"dataframe\">\n",
              "  <thead>\n",
              "    <tr style=\"text-align: right;\">\n",
              "      <th></th>\n",
              "      <th>text</th>\n",
              "    </tr>\n",
              "  </thead>\n",
              "  <tbody>\n",
              "    <tr>\n",
              "      <th>0</th>\n",
              "      <td>Bradycardia secondary to acute hypercalcemia is pretty rare (I didn't even know hypercalcemia could cause bradycardia). It is sufficiently rare that a case report was written about it -- &gt;  _URL_0_The authors speculate about the cause, but hypercalcemia and bradycardia aren't even listed in multiple medical textbooks as related. My guess is that the precipitating cause of the hypercalcemia you are referring to is also the cause of the bradycardia. bradycardia = slow heart rate  &lt; 60 beats/min andtachycardia = fast heart rate  &gt; 100 beats/min.Both of those are approximations and completely vary with age and physical status.</td>\n",
              "    </tr>\n",
              "    <tr>\n",
              "      <th>1</th>\n",
              "      <td>That's actually a pretty common misconception - The heart is located in the centre of the chest. There's no reason it should have to be there though, the distance that the blood would have to travel would be the same regardless. The reason you can feel your heart pumping on the left side is probably because the left side is the one that pumps oxygenated blood out to the rest of the body, so it is larger due to the increased muscle mass required compared to the right side (Which only pumps to the lungs).</td>\n",
              "    </tr>\n",
              "    <tr>\n",
              "      <th>2</th>\n",
              "      <td>Best I could find was the monthly stats in Canada. They do indicate more deaths in the winter months vs the summer. It is a reasonable assumption to translate this across age groups (perhaps not proportionately)._URL_0_Seasonality does have an effect on mortality rates.</td>\n",
              "    </tr>\n",
              "    <tr>\n",
              "      <th>3</th>\n",
              "      <td>First, let's examine how a potato/fruit battery works. In this example we use a [lemon](_URL_1_):You stick two pieces of metal into the lemon, commonly copper and zinc. You hook up the two electrodes into your load, and voila, it powers something.The key here is that you're using two **different** metals. That's because different metals have different [reduction potentials](_URL_0_). So it is actually the fact that the two metals hold onto electrons differently that allows electrons to flow and the battery to run - it has little to do with the lemon/potato.So if you just plug a USB cable into a potato, nothing will happen, because the positive and negative pins are made of the same material.</td>\n",
              "    </tr>\n",
              "    <tr>\n",
              "      <th>4</th>\n",
              "      <td>**Short answer:** Yes, in some sense, even moons can have moons, but eventually you get to the point where they cease to be stable and will more likely be disrupted and lost. **Long answer:** A lot of things are satellites to other satellites. The earth orbits the sun. The moon orbits the earth. NASA certainly has made various man-made satellites orbit the moon, so I wouldn't be surprised if there was a small asteroid or two there as well. I'm sure if you took something (perhaps a single screw from one of those satellites) and moved a foot or so away and gave it a kick in just the right way, it would orbit that satellite. In some sense, the sun is a satellite around the center of the galaxy, though not exactly in the same way as a two-body system like a planet-moon system. Anyway, you notice that each of these pairs that I mentioned, with a primary and a secondary, are orders of magnitude different in scales. For example, the sun is 10^(6)x the mass of the earth, the earth is 100x the mass the moon, and the satellites orbiting the moon are certainly way smaller than the moon. Eventually you hit the point where you simply can't get a smaller mass to put in orbit around the bigger mass- it'll get disrupted too easily or be pushed off by the solar wind, etc. Additionally, the distance scales have to be such that the satellite of the satellite (hereafter, the satellite satellite) is much closer to the satellite than the primary member of the system. This is because tidal forces from the primary will disrupt the satellite satellite if it is not tightly bound. For example, the distance to the moon is 1 light second, while the distance to the sun is 8 light minutes- a factor of 500 difference. If the moon orbit was bigger (for example, if it was halfway between the sun and the earth), the change in the sun's pull of gravity would be too disruptive and would produce a far more chaotic trajectory for the moon, which I would hesitate to call an orbit. As another example, consider the size of the earth moon system. The earth's radius is 3.7x the radius of the moon (and 81x more massive, because mass increases proportional to volume, and volume is proportional to radius^3). If the earth was the size of a quarter, the moon isn't much bigger than a pencil eraser. Go ahead and get a quarter and a pencil eraser (or two things comparably sized) and hold them at arms length, about two feet apart. That's the actual scale of the earth, moon, and the moon's orbit. The height of the Apollo lunar orbiter would barely be a finger nail's width at this scale.Anyway, to answer your question, yes, you can have these very very fractal 'daisy chains' of satellites orbiting satellites, so long as your satellites are orders of magnitude smaller (and closer) than the primary and satellite one step up in the chain. **Given known astronomical objects, what's the longest 'daisy chain' we could make by placing these objects in orbit around each other?**If we imagine 2-3 orders of magnitude difference in length and mass for each of these orbits, then our central object is S5 0014+81, a distant black hole whose mass is 4x10^10 times the mass of the sun. This has a mass of about 8x10^40 kilograms, so let's just round up to an even 10^41 kg. If we allow the smallest satellite in our daisy chain to be 10 grams, then we can get somewhere between 15-20 objects into our chain. The first two or three would all be supermassive black holes, each 100-1000x less massive than the one it orbits, eventually giving way to stellar mass black holes (which are only several times the mass of the sun). After about two or three of these you hit the biggest known star, R136a1, which is 265x the mass of the sun. Orbitting that would be a star like our sun, then a planet like Jupiter, then a moon comparable to the earth, and then the earth's moon, and then a significantly smaller moon like Dione or Rhea from the Saturn system, then a significantly smaller moon still (probably comparable to Phobos and Deimos, the asteroid moons of Mars). I suppose at this point you have about 4 or 5 more asteroids, each 100x smaller than the last, until finally you just have the last moon, which would be little more than a pebble. If you want that pebble to have an orbit of one meter from its primary boulder-sized asteroid, then this chain of about 15 bodies should extend over about (50)^15 meters, which is about 10^9 light years, which is very nearly the radius of the observable universe. If you want 20 objects in your chain, then you'll want another 10^5 orders of magnitude in distance, so that's about 10,000x the size of the observable universe.</td>\n",
              "    </tr>\n",
              "    <tr>\n",
              "      <th>5</th>\n",
              "      <td>No. The freezing of light actually involves absorbing light in a very cold gas. It's so cold that the atoms have an \"absorbed\" state that lasts a very long time before re-emitting the light in its former trajectory. Not directly related to relativity or anything like that.</td>\n",
              "    </tr>\n",
              "    <tr>\n",
              "      <th>6</th>\n",
              "      <td>There is no minimum size, at least until the molecular level (at which point \"drop\" doesn't have much meaning). For a spherical drop, the total \"inwards force\" keeping a drop intact is proportional to the surface area of the drop, while the mass of the drop is proportional to the volume, so small drops can be very stable. For a 10nm drop, the surface tension integrated over the surface area exerts about 150 atmospheres of inward pressure keeping the bubble spherical, while a 10mm drop exerts only about 0.001 atm. [[1]](_URL_0_)There is, however, an expected mass for a drop of water if you allow for air disturbances and a gravitational field; this is the reason that all rain drops are of similar size.</td>\n",
              "    </tr>\n",
              "    <tr>\n",
              "      <th>7</th>\n",
              "      <td>EMP's are exactly what it says on the tin: Electromagnetic pulses. The only known way to create a large EMP is by [detonating a nuclear warhead](_URL_0_). This type of EMP has three different phases. In the most visible phase, called E1, electrons are launched from the detonation towards the earth, overloading electronic components with their vast energy. More details on the [wikipedia article](_URL_3_).It is possible to create EMP's using less dramatic means, but they are really, really, small compared to their nuclear counterparts. ~~The easiest way is charging a capacitator and hooking it up to an antenna. It's as effective as it sounds.~~ **Edit**: *It's more complicated than that, see [TheSov's comment](_URL_1_). [SuperAngryGuy](_URL_2_) also brought up flux compression generators.*</td>\n",
              "    </tr>\n",
              "    <tr>\n",
              "      <th>8</th>\n",
              "      <td>Being pedantic, objects don't emit light rays at all, they emit photons. Light rays are mathematical constructs which help us solve some problem. But, the heart of the question remains- does a light source really put out an infinite number of photons? Well- no, because that would require an infinite amount of energy. However, they do release photons in random directions, and the photons are dense enough that for your case, it is a good approximation to say that the photons \"fill\" the space. Some math to show this:Imagine you have a single Compact Fluorescent Bulb (13 W), and you're about 3 meters away from it. [Reading up on CFBs](_URL_2_) we see that they are about 10% efficient (so about 1.3 Ws are actually making visible light) and they put out their light at a color of about 4000 K. By looking at the charts on that graph, you can see that the average wavelength of a photon emitted from a CF is about 600 nm. A photon of this energy has an energy of about [3E-19 Js](_URL_0_) which means a 13 W CF bulb (at 10% efficiency) releases about 4.3E18 photons per second. Ok, if you are 3 meters from that bulb, then those 4.3E18 photons are spread over a surface area of [113 m^2 ](_URL_1_). That means that every square cm, 3 meters from the bulb have 3E8 photons passing through it, per second (that's 300 million!). So, there is not an infinite number of light rays, but it might as well be. There are 300 million photons coming through any square mm piece 3 meters away.</td>\n",
              "    </tr>\n",
              "    <tr>\n",
              "      <th>9</th>\n",
              "      <td>There are a lot of answers. As a tech for a wireless carrier, I can answer most of them. I'll keep it short because I'm on a phone (LTE of course).First, frequency. At &amp; t and Verizon run LTE in the 700 mhz band, which goes through obstacles better than Wi-Fi. It also carries farther. Second, power levels. Typical Cell towers put out much more power than a 1 watt router. Third, receive sensitivity. Cell antennas are very high gain, often with tower top amplifiers, and internal amplifiers to boost almost nothing into readable signal. Fourth, mimo. Multiple in, multiple out. The wireless carriers use multiple radios and antennas per sector to boost not only throughput, but power. I can elaborate on this if needed.Ninja edit : spelling</td>\n",
              "    </tr>\n",
              "  </tbody>\n",
              "</table>"
            ]
          },
          "metadata": {}
        }
      ],
      "source": [
        "show_random_elements(datasets[\"train\"])"
      ]
    },
    {
      "cell_type": "code",
      "execution_count": 9,
      "metadata": {
        "id": "-WGBCO343l-q"
      },
      "outputs": [],
      "source": [
        "model_checkpoint = \"distilgpt2\""
      ]
    },
    {
      "cell_type": "code",
      "execution_count": 10,
      "metadata": {
        "id": "iAYlS40Z3l-v"
      },
      "outputs": [],
      "source": [
        "from transformers import AutoTokenizer\n",
        "\n",
        "tokenizer = AutoTokenizer.from_pretrained(model_checkpoint, use_fast=True)"
      ]
    },
    {
      "cell_type": "code",
      "execution_count": 11,
      "metadata": {
        "id": "lS2m25YM3l-z"
      },
      "outputs": [],
      "source": [
        "def tokenize_function(examples):\n",
        "    return tokenizer(examples[\"text\"])"
      ]
    },
    {
      "cell_type": "code",
      "execution_count": 12,
      "metadata": {
        "id": "NVAO0H8u3l-3",
        "outputId": "f203c8b9-34e3-4ba3-ce06-8e0d19c85049",
        "colab": {
          "base_uri": "https://localhost:8080/"
        }
      },
      "outputs": [
        {
          "output_type": "stream",
          "name": "stderr",
          "text": [
            "WARNING:datasets.arrow_dataset:Loading cached processed dataset at /root/.cache/huggingface/datasets/text/default-38539a5e691c3886/0.0.0/cb1e9bd71a82ad27976be3b12b407850fe2837d80c22c5e03a28949843a8ace2/cache-00622e358c20f780_*_of_00004.arrow\n",
            "WARNING:datasets.arrow_dataset:Loading cached processed dataset at /root/.cache/huggingface/datasets/text/default-38539a5e691c3886/0.0.0/cb1e9bd71a82ad27976be3b12b407850fe2837d80c22c5e03a28949843a8ace2/cache-029947818608dcdd_*_of_00004.arrow\n"
          ]
        }
      ],
      "source": [
        "tokenized_datasets = datasets.map(tokenize_function, batched=True, num_proc=4, remove_columns=[\"text\"])"
      ]
    },
    {
      "cell_type": "code",
      "execution_count": 14,
      "metadata": {
        "id": "DVHs5aCA3l-_"
      },
      "outputs": [],
      "source": [
        "# block_size = tokenizer.model_max_length\n",
        "block_size = 128"
      ]
    },
    {
      "cell_type": "code",
      "execution_count": 15,
      "metadata": {
        "id": "iaAJy5Hu3l_B"
      },
      "outputs": [],
      "source": [
        "def group_texts(examples):\n",
        "    # Concatenate all texts.\n",
        "    concatenated_examples = {k: sum(examples[k], []) for k in examples.keys()}\n",
        "    total_length = len(concatenated_examples[list(examples.keys())[0]])\n",
        "    # We drop the small remainder, we could add padding if the model supported it instead of this drop, you can\n",
        "        # customize this part to your needs.\n",
        "    total_length = (total_length // block_size) * block_size\n",
        "    # Split by chunks of max_len.\n",
        "    result = {\n",
        "        k: [t[i : i + block_size] for i in range(0, total_length, block_size)]\n",
        "        for k, t in concatenated_examples.items()\n",
        "    }\n",
        "    result[\"labels\"] = result[\"input_ids\"].copy()\n",
        "    return result"
      ]
    },
    {
      "cell_type": "code",
      "execution_count": 16,
      "metadata": {
        "id": "gXUSfBrq3l_C",
        "outputId": "6f0c658a-42dd-43fb-e5cd-ae40db2084f0",
        "colab": {
          "base_uri": "https://localhost:8080/"
        }
      },
      "outputs": [
        {
          "output_type": "stream",
          "name": "stderr",
          "text": [
            "WARNING:datasets.arrow_dataset:Loading cached processed dataset at /root/.cache/huggingface/datasets/text/default-38539a5e691c3886/0.0.0/cb1e9bd71a82ad27976be3b12b407850fe2837d80c22c5e03a28949843a8ace2/cache-755f3ca73495dce4_*_of_00004.arrow\n",
            "WARNING:datasets.arrow_dataset:Loading cached processed dataset at /root/.cache/huggingface/datasets/text/default-38539a5e691c3886/0.0.0/cb1e9bd71a82ad27976be3b12b407850fe2837d80c22c5e03a28949843a8ace2/cache-7e51f27f82cbd111_*_of_00004.arrow\n"
          ]
        }
      ],
      "source": [
        "lm_datasets = tokenized_datasets.map(\n",
        "    group_texts,\n",
        "    batched=True,\n",
        "    batch_size=1000,\n",
        "    num_proc=4,\n",
        ")"
      ]
    },
    {
      "cell_type": "code",
      "execution_count": 17,
      "metadata": {
        "id": "hTeGCLl_3l_G",
        "colab": {
          "base_uri": "https://localhost:8080/",
          "height": 107
        },
        "outputId": "a41b1f0c-92d3-4aae-ceea-5080ff5e9408"
      },
      "outputs": [
        {
          "output_type": "execute_result",
          "data": {
            "text/plain": [
              "\"), they needn't be aligned.  But eventually, they'll be aligned.Rings can only effectively extend out to the Roche Radius - beyond that, their self-gravity will result in them accumulating into moons.  This has probably happened with Saturn, at least (which has rings extending to the Roche Radius, then small, icy moons of the same composition beyond.You are probably talking about herbicides with 2,4-Dichlorophenoxyacetic acid/2,4-D as the active ingredient. 2,4-D works by dramatically increasing auxin production. Auxins are a class of plant growth regulators\""
            ],
            "application/vnd.google.colaboratory.intrinsic+json": {
              "type": "string"
            }
          },
          "metadata": {},
          "execution_count": 17
        }
      ],
      "source": [
        "tokenizer.decode(lm_datasets[\"train\"][1][\"input_ids\"])"
      ]
    },
    {
      "cell_type": "code",
      "execution_count": 18,
      "metadata": {
        "id": "sPqQA3TT3l_I"
      },
      "outputs": [],
      "source": [
        "from transformers import AutoModelForCausalLM\n",
        "model = AutoModelForCausalLM.from_pretrained(model_checkpoint)"
      ]
    },
    {
      "cell_type": "code",
      "execution_count": 19,
      "metadata": {
        "id": "jElf8LJ33l_K"
      },
      "outputs": [],
      "source": [
        "from transformers import Trainer, TrainingArguments"
      ]
    },
    {
      "cell_type": "code",
      "source": [
        "!pip install accelerate -U"
      ],
      "metadata": {
        "colab": {
          "base_uri": "https://localhost:8080/"
        },
        "id": "iH_APN5atwVT",
        "outputId": "00ea9d47-1837-4717-9960-09efbdbdc659"
      },
      "execution_count": 20,
      "outputs": [
        {
          "output_type": "stream",
          "name": "stdout",
          "text": [
            "Looking in indexes: https://pypi.org/simple, https://us-python.pkg.dev/colab-wheels/public/simple/\n",
            "Requirement already satisfied: accelerate in /usr/local/lib/python3.10/dist-packages (0.20.3)\n",
            "Requirement already satisfied: numpy>=1.17 in /usr/local/lib/python3.10/dist-packages (from accelerate) (1.22.4)\n",
            "Requirement already satisfied: packaging>=20.0 in /usr/local/lib/python3.10/dist-packages (from accelerate) (23.1)\n",
            "Requirement already satisfied: psutil in /usr/local/lib/python3.10/dist-packages (from accelerate) (5.9.5)\n",
            "Requirement already satisfied: pyyaml in /usr/local/lib/python3.10/dist-packages (from accelerate) (6.0)\n",
            "Requirement already satisfied: torch>=1.6.0 in /usr/local/lib/python3.10/dist-packages (from accelerate) (2.0.1+cu118)\n",
            "Requirement already satisfied: filelock in /usr/local/lib/python3.10/dist-packages (from torch>=1.6.0->accelerate) (3.12.0)\n",
            "Requirement already satisfied: typing-extensions in /usr/local/lib/python3.10/dist-packages (from torch>=1.6.0->accelerate) (4.5.0)\n",
            "Requirement already satisfied: sympy in /usr/local/lib/python3.10/dist-packages (from torch>=1.6.0->accelerate) (1.11.1)\n",
            "Requirement already satisfied: networkx in /usr/local/lib/python3.10/dist-packages (from torch>=1.6.0->accelerate) (3.1)\n",
            "Requirement already satisfied: jinja2 in /usr/local/lib/python3.10/dist-packages (from torch>=1.6.0->accelerate) (3.1.2)\n",
            "Requirement already satisfied: triton==2.0.0 in /usr/local/lib/python3.10/dist-packages (from torch>=1.6.0->accelerate) (2.0.0)\n",
            "Requirement already satisfied: cmake in /usr/local/lib/python3.10/dist-packages (from triton==2.0.0->torch>=1.6.0->accelerate) (3.25.2)\n",
            "Requirement already satisfied: lit in /usr/local/lib/python3.10/dist-packages (from triton==2.0.0->torch>=1.6.0->accelerate) (16.0.5)\n",
            "Requirement already satisfied: MarkupSafe>=2.0 in /usr/local/lib/python3.10/dist-packages (from jinja2->torch>=1.6.0->accelerate) (2.1.2)\n",
            "Requirement already satisfied: mpmath>=0.19 in /usr/local/lib/python3.10/dist-packages (from sympy->torch>=1.6.0->accelerate) (1.3.0)\n"
          ]
        }
      ]
    },
    {
      "cell_type": "code",
      "execution_count": 21,
      "metadata": {
        "id": "YbSwEhQ63l_L"
      },
      "outputs": [],
      "source": [
        "model_name = model_checkpoint.split(\"/\")[-1]\n",
        "training_args = TrainingArguments(\n",
        "    f\"{model_name}-finetuned-eli5\",\n",
        "    evaluation_strategy = \"epoch\",\n",
        "    learning_rate=2e-5,\n",
        "    weight_decay=0.01,\n",
        ")"
      ]
    },
    {
      "cell_type": "code",
      "execution_count": 22,
      "metadata": {
        "id": "OEuqwIra3l_N"
      },
      "outputs": [],
      "source": [
        "trainer = Trainer(\n",
        "    model=model,\n",
        "    args=training_args,\n",
        "    train_dataset=lm_datasets[\"train\"],\n",
        "    eval_dataset=lm_datasets[\"validation\"],\n",
        ")"
      ]
    },
    {
      "cell_type": "code",
      "execution_count": 23,
      "metadata": {
        "id": "NyZvu_MF3l_P",
        "colab": {
          "base_uri": "https://localhost:8080/",
          "height": 279
        },
        "outputId": "ca59975b-012f-486a-dca6-be093b82393e"
      },
      "outputs": [
        {
          "output_type": "stream",
          "name": "stderr",
          "text": [
            "/usr/local/lib/python3.10/dist-packages/transformers/optimization.py:411: FutureWarning: This implementation of AdamW is deprecated and will be removed in a future version. Use the PyTorch implementation torch.optim.AdamW instead, or set `no_deprecation_warning=True` to disable this warning\n",
            "  warnings.warn(\n"
          ]
        },
        {
          "output_type": "display_data",
          "data": {
            "text/plain": [
              "<IPython.core.display.HTML object>"
            ],
            "text/html": [
              "\n",
              "    <div>\n",
              "      \n",
              "      <progress value='1974' max='1974' style='width:300px; height:20px; vertical-align: middle;'></progress>\n",
              "      [1974/1974 07:07, Epoch 3/3]\n",
              "    </div>\n",
              "    <table border=\"1\" class=\"dataframe\">\n",
              "  <thead>\n",
              " <tr style=\"text-align: left;\">\n",
              "      <th>Epoch</th>\n",
              "      <th>Training Loss</th>\n",
              "      <th>Validation Loss</th>\n",
              "    </tr>\n",
              "  </thead>\n",
              "  <tbody>\n",
              "    <tr>\n",
              "      <td>1</td>\n",
              "      <td>3.956500</td>\n",
              "      <td>3.811060</td>\n",
              "    </tr>\n",
              "    <tr>\n",
              "      <td>2</td>\n",
              "      <td>3.842900</td>\n",
              "      <td>3.799772</td>\n",
              "    </tr>\n",
              "    <tr>\n",
              "      <td>3</td>\n",
              "      <td>3.795200</td>\n",
              "      <td>3.799114</td>\n",
              "    </tr>\n",
              "  </tbody>\n",
              "</table><p>"
            ]
          },
          "metadata": {}
        },
        {
          "output_type": "execute_result",
          "data": {
            "text/plain": [
              "TrainOutput(global_step=1974, training_loss=3.841529730243161, metrics={'train_runtime': 430.5489, 'train_samples_per_second': 36.658, 'train_steps_per_second': 4.585, 'total_flos': 515505826824192.0, 'train_loss': 3.841529730243161, 'epoch': 3.0})"
            ]
          },
          "metadata": {},
          "execution_count": 23
        }
      ],
      "source": [
        "trainer.train()"
      ]
    },
    {
      "cell_type": "code",
      "execution_count": 24,
      "metadata": {
        "id": "diKZnB1I3l_R",
        "outputId": "132d56eb-d750-43f6-c05c-2f9456052cf7",
        "colab": {
          "base_uri": "https://localhost:8080/",
          "height": 55
        }
      },
      "outputs": [
        {
          "output_type": "display_data",
          "data": {
            "text/plain": [
              "<IPython.core.display.HTML object>"
            ],
            "text/html": [
              "\n",
              "    <div>\n",
              "      \n",
              "      <progress value='149' max='149' style='width:300px; height:20px; vertical-align: middle;'></progress>\n",
              "      [149/149 00:08]\n",
              "    </div>\n",
              "    "
            ]
          },
          "metadata": {}
        },
        {
          "output_type": "stream",
          "name": "stdout",
          "text": [
            "Perplexity: 44.66\n"
          ]
        }
      ],
      "source": [
        "import math\n",
        "eval_results = trainer.evaluate()\n",
        "print(f\"Perplexity: {math.exp(eval_results['eval_loss']):.2f}\")"
      ]
    },
    {
      "cell_type": "code",
      "source": [
        "!pip install bert_score\n"
      ],
      "metadata": {
        "colab": {
          "base_uri": "https://localhost:8080/"
        },
        "id": "kfJ9uUIlCYwZ",
        "outputId": "1adf82a3-cf2f-4cd1-9565-4845ad3b8181"
      },
      "execution_count": 25,
      "outputs": [
        {
          "output_type": "stream",
          "name": "stdout",
          "text": [
            "Looking in indexes: https://pypi.org/simple, https://us-python.pkg.dev/colab-wheels/public/simple/\n",
            "Collecting bert_score\n",
            "  Downloading bert_score-0.3.13-py3-none-any.whl (61 kB)\n",
            "\u001b[2K     \u001b[90m━━━━━━━━━━━━━━━━━━━━━━━━━━━━━━━━━━━━━━━━\u001b[0m \u001b[32m61.1/61.1 kB\u001b[0m \u001b[31m3.5 MB/s\u001b[0m eta \u001b[36m0:00:00\u001b[0m\n",
            "\u001b[?25hRequirement already satisfied: torch>=1.0.0 in /usr/local/lib/python3.10/dist-packages (from bert_score) (2.0.1+cu118)\n",
            "Requirement already satisfied: pandas>=1.0.1 in /usr/local/lib/python3.10/dist-packages (from bert_score) (1.5.3)\n",
            "Requirement already satisfied: transformers>=3.0.0 in /usr/local/lib/python3.10/dist-packages (from bert_score) (4.30.2)\n",
            "Requirement already satisfied: numpy in /usr/local/lib/python3.10/dist-packages (from bert_score) (1.22.4)\n",
            "Requirement already satisfied: requests in /usr/local/lib/python3.10/dist-packages (from bert_score) (2.27.1)\n",
            "Requirement already satisfied: tqdm>=4.31.1 in /usr/local/lib/python3.10/dist-packages (from bert_score) (4.65.0)\n",
            "Requirement already satisfied: matplotlib in /usr/local/lib/python3.10/dist-packages (from bert_score) (3.7.1)\n",
            "Requirement already satisfied: packaging>=20.9 in /usr/local/lib/python3.10/dist-packages (from bert_score) (23.1)\n",
            "Requirement already satisfied: python-dateutil>=2.8.1 in /usr/local/lib/python3.10/dist-packages (from pandas>=1.0.1->bert_score) (2.8.2)\n",
            "Requirement already satisfied: pytz>=2020.1 in /usr/local/lib/python3.10/dist-packages (from pandas>=1.0.1->bert_score) (2022.7.1)\n",
            "Requirement already satisfied: filelock in /usr/local/lib/python3.10/dist-packages (from torch>=1.0.0->bert_score) (3.12.0)\n",
            "Requirement already satisfied: typing-extensions in /usr/local/lib/python3.10/dist-packages (from torch>=1.0.0->bert_score) (4.5.0)\n",
            "Requirement already satisfied: sympy in /usr/local/lib/python3.10/dist-packages (from torch>=1.0.0->bert_score) (1.11.1)\n",
            "Requirement already satisfied: networkx in /usr/local/lib/python3.10/dist-packages (from torch>=1.0.0->bert_score) (3.1)\n",
            "Requirement already satisfied: jinja2 in /usr/local/lib/python3.10/dist-packages (from torch>=1.0.0->bert_score) (3.1.2)\n",
            "Requirement already satisfied: triton==2.0.0 in /usr/local/lib/python3.10/dist-packages (from torch>=1.0.0->bert_score) (2.0.0)\n",
            "Requirement already satisfied: cmake in /usr/local/lib/python3.10/dist-packages (from triton==2.0.0->torch>=1.0.0->bert_score) (3.25.2)\n",
            "Requirement already satisfied: lit in /usr/local/lib/python3.10/dist-packages (from triton==2.0.0->torch>=1.0.0->bert_score) (16.0.5)\n",
            "Requirement already satisfied: huggingface-hub<1.0,>=0.14.1 in /usr/local/lib/python3.10/dist-packages (from transformers>=3.0.0->bert_score) (0.15.1)\n",
            "Requirement already satisfied: pyyaml>=5.1 in /usr/local/lib/python3.10/dist-packages (from transformers>=3.0.0->bert_score) (6.0)\n",
            "Requirement already satisfied: regex!=2019.12.17 in /usr/local/lib/python3.10/dist-packages (from transformers>=3.0.0->bert_score) (2022.10.31)\n",
            "Requirement already satisfied: tokenizers!=0.11.3,<0.14,>=0.11.1 in /usr/local/lib/python3.10/dist-packages (from transformers>=3.0.0->bert_score) (0.13.3)\n",
            "Requirement already satisfied: safetensors>=0.3.1 in /usr/local/lib/python3.10/dist-packages (from transformers>=3.0.0->bert_score) (0.3.1)\n",
            "Requirement already satisfied: contourpy>=1.0.1 in /usr/local/lib/python3.10/dist-packages (from matplotlib->bert_score) (1.0.7)\n",
            "Requirement already satisfied: cycler>=0.10 in /usr/local/lib/python3.10/dist-packages (from matplotlib->bert_score) (0.11.0)\n",
            "Requirement already satisfied: fonttools>=4.22.0 in /usr/local/lib/python3.10/dist-packages (from matplotlib->bert_score) (4.39.3)\n",
            "Requirement already satisfied: kiwisolver>=1.0.1 in /usr/local/lib/python3.10/dist-packages (from matplotlib->bert_score) (1.4.4)\n",
            "Requirement already satisfied: pillow>=6.2.0 in /usr/local/lib/python3.10/dist-packages (from matplotlib->bert_score) (8.4.0)\n",
            "Requirement already satisfied: pyparsing>=2.3.1 in /usr/local/lib/python3.10/dist-packages (from matplotlib->bert_score) (3.0.9)\n",
            "Requirement already satisfied: urllib3<1.27,>=1.21.1 in /usr/local/lib/python3.10/dist-packages (from requests->bert_score) (1.26.15)\n",
            "Requirement already satisfied: certifi>=2017.4.17 in /usr/local/lib/python3.10/dist-packages (from requests->bert_score) (2022.12.7)\n",
            "Requirement already satisfied: charset-normalizer~=2.0.0 in /usr/local/lib/python3.10/dist-packages (from requests->bert_score) (2.0.12)\n",
            "Requirement already satisfied: idna<4,>=2.5 in /usr/local/lib/python3.10/dist-packages (from requests->bert_score) (3.4)\n",
            "Requirement already satisfied: fsspec in /usr/local/lib/python3.10/dist-packages (from huggingface-hub<1.0,>=0.14.1->transformers>=3.0.0->bert_score) (2023.4.0)\n",
            "Requirement already satisfied: six>=1.5 in /usr/local/lib/python3.10/dist-packages (from python-dateutil>=2.8.1->pandas>=1.0.1->bert_score) (1.16.0)\n",
            "Requirement already satisfied: MarkupSafe>=2.0 in /usr/local/lib/python3.10/dist-packages (from jinja2->torch>=1.0.0->bert_score) (2.1.2)\n",
            "Requirement already satisfied: mpmath>=0.19 in /usr/local/lib/python3.10/dist-packages (from sympy->torch>=1.0.0->bert_score) (1.3.0)\n",
            "Installing collected packages: bert_score\n",
            "Successfully installed bert_score-0.3.13\n"
          ]
        }
      ]
    },
    {
      "cell_type": "code",
      "source": [
        "!pip install evaluate"
      ],
      "metadata": {
        "colab": {
          "base_uri": "https://localhost:8080/"
        },
        "id": "krfiFHJSV-mV",
        "outputId": "31e266ee-a98d-43eb-e315-d006a881a1cf"
      },
      "execution_count": 38,
      "outputs": [
        {
          "output_type": "stream",
          "name": "stdout",
          "text": [
            "Looking in indexes: https://pypi.org/simple, https://us-python.pkg.dev/colab-wheels/public/simple/\n",
            "Collecting evaluate\n",
            "  Downloading evaluate-0.4.0-py3-none-any.whl (81 kB)\n",
            "\u001b[2K     \u001b[90m━━━━━━━━━━━━━━━━━━━━━━━━━━━━━━━━━━━━━━━━\u001b[0m \u001b[32m81.4/81.4 kB\u001b[0m \u001b[31m4.7 MB/s\u001b[0m eta \u001b[36m0:00:00\u001b[0m\n",
            "\u001b[?25hRequirement already satisfied: datasets>=2.0.0 in /usr/local/lib/python3.10/dist-packages (from evaluate) (2.13.0)\n",
            "Requirement already satisfied: numpy>=1.17 in /usr/local/lib/python3.10/dist-packages (from evaluate) (1.22.4)\n",
            "Requirement already satisfied: dill in /usr/local/lib/python3.10/dist-packages (from evaluate) (0.3.6)\n",
            "Requirement already satisfied: pandas in /usr/local/lib/python3.10/dist-packages (from evaluate) (1.5.3)\n",
            "Requirement already satisfied: requests>=2.19.0 in /usr/local/lib/python3.10/dist-packages (from evaluate) (2.27.1)\n",
            "Requirement already satisfied: tqdm>=4.62.1 in /usr/local/lib/python3.10/dist-packages (from evaluate) (4.65.0)\n",
            "Requirement already satisfied: xxhash in /usr/local/lib/python3.10/dist-packages (from evaluate) (3.2.0)\n",
            "Requirement already satisfied: multiprocess in /usr/local/lib/python3.10/dist-packages (from evaluate) (0.70.14)\n",
            "Requirement already satisfied: fsspec[http]>=2021.05.0 in /usr/local/lib/python3.10/dist-packages (from evaluate) (2023.4.0)\n",
            "Requirement already satisfied: huggingface-hub>=0.7.0 in /usr/local/lib/python3.10/dist-packages (from evaluate) (0.15.1)\n",
            "Requirement already satisfied: packaging in /usr/local/lib/python3.10/dist-packages (from evaluate) (23.1)\n",
            "Collecting responses<0.19 (from evaluate)\n",
            "  Downloading responses-0.18.0-py3-none-any.whl (38 kB)\n",
            "Requirement already satisfied: pyarrow>=8.0.0 in /usr/local/lib/python3.10/dist-packages (from datasets>=2.0.0->evaluate) (9.0.0)\n",
            "Requirement already satisfied: aiohttp in /usr/local/lib/python3.10/dist-packages (from datasets>=2.0.0->evaluate) (3.8.4)\n",
            "Requirement already satisfied: pyyaml>=5.1 in /usr/local/lib/python3.10/dist-packages (from datasets>=2.0.0->evaluate) (6.0)\n",
            "Requirement already satisfied: filelock in /usr/local/lib/python3.10/dist-packages (from huggingface-hub>=0.7.0->evaluate) (3.12.0)\n",
            "Requirement already satisfied: typing-extensions>=3.7.4.3 in /usr/local/lib/python3.10/dist-packages (from huggingface-hub>=0.7.0->evaluate) (4.5.0)\n",
            "Requirement already satisfied: urllib3<1.27,>=1.21.1 in /usr/local/lib/python3.10/dist-packages (from requests>=2.19.0->evaluate) (1.26.15)\n",
            "Requirement already satisfied: certifi>=2017.4.17 in /usr/local/lib/python3.10/dist-packages (from requests>=2.19.0->evaluate) (2022.12.7)\n",
            "Requirement already satisfied: charset-normalizer~=2.0.0 in /usr/local/lib/python3.10/dist-packages (from requests>=2.19.0->evaluate) (2.0.12)\n",
            "Requirement already satisfied: idna<4,>=2.5 in /usr/local/lib/python3.10/dist-packages (from requests>=2.19.0->evaluate) (3.4)\n",
            "Requirement already satisfied: python-dateutil>=2.8.1 in /usr/local/lib/python3.10/dist-packages (from pandas->evaluate) (2.8.2)\n",
            "Requirement already satisfied: pytz>=2020.1 in /usr/local/lib/python3.10/dist-packages (from pandas->evaluate) (2022.7.1)\n",
            "Requirement already satisfied: attrs>=17.3.0 in /usr/local/lib/python3.10/dist-packages (from aiohttp->datasets>=2.0.0->evaluate) (23.1.0)\n",
            "Requirement already satisfied: multidict<7.0,>=4.5 in /usr/local/lib/python3.10/dist-packages (from aiohttp->datasets>=2.0.0->evaluate) (6.0.4)\n",
            "Requirement already satisfied: async-timeout<5.0,>=4.0.0a3 in /usr/local/lib/python3.10/dist-packages (from aiohttp->datasets>=2.0.0->evaluate) (4.0.2)\n",
            "Requirement already satisfied: yarl<2.0,>=1.0 in /usr/local/lib/python3.10/dist-packages (from aiohttp->datasets>=2.0.0->evaluate) (1.9.2)\n",
            "Requirement already satisfied: frozenlist>=1.1.1 in /usr/local/lib/python3.10/dist-packages (from aiohttp->datasets>=2.0.0->evaluate) (1.3.3)\n",
            "Requirement already satisfied: aiosignal>=1.1.2 in /usr/local/lib/python3.10/dist-packages (from aiohttp->datasets>=2.0.0->evaluate) (1.3.1)\n",
            "Requirement already satisfied: six>=1.5 in /usr/local/lib/python3.10/dist-packages (from python-dateutil>=2.8.1->pandas->evaluate) (1.16.0)\n",
            "Installing collected packages: responses, evaluate\n",
            "Successfully installed evaluate-0.4.0 responses-0.18.0\n"
          ]
        }
      ]
    },
    {
      "cell_type": "code",
      "source": [
        "import locale\n",
        "locale.getpreferredencoding = lambda: \"UTF-8\"\n"
      ],
      "metadata": {
        "id": "fCcQPRsJWCvG"
      },
      "execution_count": 37,
      "outputs": []
    },
    {
      "cell_type": "code",
      "source": [
        "import torch\n",
        "from transformers import AutoTokenizer, AutoModelForCausalLM\n",
        "from bert_score import score\n",
        "\n",
        "tokenizer = AutoTokenizer.from_pretrained('distilgpt2')\n",
        "\n",
        "device = torch.device(\"cuda\" if torch.cuda.is_available() else \"cpu\")\n",
        "model.to(device)\n",
        "\n",
        "test_data = []\n",
        "\n",
        "with open('testData.txt', 'r', encoding='utf-8') as file:\n",
        "    test_data = [line.strip() for line in file if line.strip()]\n",
        "\n",
        "predictions = []\n",
        "refs = []\n",
        "\n",
        "# Function to split string at the middle but not cut a word into half\n",
        "def split_string(s):\n",
        "    if ' ' not in s:  # If the text doesn't contain a space, return the text as is\n",
        "        return s, ''\n",
        "    else:\n",
        "        midpoint = len(s) // 2  # Integer division to get the middle index\n",
        "        while midpoint < len(s) - 1 and s[midpoint] != ' ':\n",
        "            midpoint += 1\n",
        "        return s[:midpoint], s[midpoint:]\n",
        "\n",
        "i = 0\n",
        "# Generate predictions\n",
        "for line in test_data[:200]:\n",
        "    prompt, expected_completion = split_string(line)\n",
        "    inputs = tokenizer.encode(prompt, return_tensors='pt').to(device)\n",
        "    outputs = model.generate(inputs, max_length=250, num_return_sequences=1, pad_token_id=tokenizer.eos_token_id)\n",
        "    generated_completion = tokenizer.decode(outputs[0])[len(tokenizer.decode(inputs[0])):]\n",
        "    print(generated_completion.strip())\n",
        "    print(expected_completion.strip())\n",
        "    predictions.append(generated_completion.strip())\n",
        "    refs.append(expected_completion.strip())\n",
        "    print(i)\n",
        "    i = i + 1\n",
        "\n",
        "print(len(hyps))\n",
        "print(len(predictions))\n",
        "print(len(refs))\n",
        "# Calculate BERTScore\n",
        "hyps = [pred for pred in predictions if pred]\n",
        "\n",
        "P, R, F1 = score(predictions, refs, lang='en', model_type='bert-base-uncased')\n",
        "\n",
        "print(f\"Mean F1 BERTScore: {F1.mean().item()}\")\n"
      ],
      "metadata": {
        "colab": {
          "base_uri": "https://localhost:8080/"
        },
        "id": "WOGMN5_Fa06P",
        "outputId": "ddfe133f-f6b6-49fc-879c-ea7ffd84efe8"
      },
      "execution_count": 48,
      "outputs": [
        {
          "output_type": "stream",
          "name": "stdout",
          "text": [
            "our brain. This is why we are so sensitive to pain. The brain is also a very sensitive place to perceive pain. This is why we are so sensitive to pain. This is why we are so sensitive to pain. This is why we are so sensitive to pain. This is why we are so sensitive to pain. This is why we are so sensitive to pain. This is why we are so sensitive to pain. This is why we are so sensitive to pain. This is why we are so sensitive to pain. This is why we are so sensitive to pain. This is why we are so sensitive to pain. This is why we are so sensitive to pain. This is why we are so sensitive to pain. This is why we are so sensitive to pain. This is why we are so sensitive to pain. This is why we are so sensitive to pain. This is why we are so sensitive to pain. This is why we are so sensitive to pain. This is why we are so sensitive to pain. This is\n",
            "our brains. The pain and pleasure areas lie fairly closely together in the brain. Neurons from one \"area\" can grow across to the other, or get crossed over, resulting in a type of mixed signal.\n",
            "0\n",
            "and the rest are just a few atoms. The most common deuterium is the [B-238](_URL_0_) which is the most common deuterium. The most common deuterium is the [B-238](_URL_1_) which is the most common deuterium.The most common deuterium is the [B-238](_URL_1_) which is the most common deuterium. The most common deuterium is the [B-238](_URL_2_) which is the most common deuterium.The most common deuterium is the [B-238](_URL_3_) which is the most common deuterium.The most common deuterium is the [B-238](_URL_4_) which is the most common deuterium.The most common deuterium is the [B-238](_URL\n",
            "during the transition from protostar to main-sequence star. Hydrogen fusion is dramatically slower, which is why stars live so long, they *can't* burn their fuel any faster.No. There are no closed orbits around a cosmic string.\n",
            "1\n",
            "The cone is a circle of triangles, which is a circle of triangles. The circle is a circle of triangles. The circle is a circle of triangles. The circle is a circle of triangles. The circle is a circle of triangles. The circle is a circle of triangles. The circle is a circle of triangles. The circle is a circle of triangles. The circle is a circle of triangles. The circle is a circle of triangles. The circle is a circle of triangles. The circle is a circle of triangles. The circle is a circle of triangles. The circle is a circle of triangles. The circle is a circle of triangles. The circle is a circle of triangles. The circle is a circle of triangles. The circle is a circle of triangles. The circle is a circle of triangles. The circle is a circle of triangles. The circle is a circle of triangles. The circle is a circle of triangles. The circle is a circle of triangles. The circle is a circle of triangles\n",
            "There is no attraction from the string as the spacetime around it is actually flat. So your planet will move on geodesic (straight) lines on the paper. Take a ruler and try to draw a line that is straight and closed in a loop.\n",
            "2\n",
            "the body will be able to adapt to the different stresses placed on it. This is because the body is able to adapt to the different stresses placed on it.2) the body will be able to adapt to the different stresses placed on it. This is because the body is able to adapt to the different stresses placed on it. This is because the body is able to adapt to the\n",
            "a trained person's heart actually grows larger as well. This means that the volume of fluid ejected with each pump, something known as stroke volume, will increase. Thus a trained heart will utilize less energy for the same task. Also, studies have shown that changes in heart cell surface receptors will also make trained hearts more sensitive to adrenaline and noradrenaline. (2) the type of muscle fiber determines how energy is used. With enough training, some studies have shown individuals to have an increase in total mitochondrial mass. Mitochondria are essential for energy production during aerobic exercise. Therefore, a trained person will have more mitochondria, which also means they can utilize oxygen more efficiently (this is also part of the reason why people with more muscle mass have higher resting metabolic rates).\n",
            "3\n",
            "\"quantum\" particle, you need to have a very specific set of parameters. For example, you need to have a set of parameters that are \"quantum\" and \"quantum\" and \"quantum\" and \"quantum\" and \"quantum\" and \"quantum\" and \"quantum\" and \"quantum\" and \"quantum\" and \"quantum\" and \"quantum\" and \"quantum\" and \"quantum\" and \"quantum\" and \"quantum\" and \"quantum\" and \"quantum\" and \"quantum\" and \"quantum\" and \"quantum\" and \"quantum\" and \"quantum\" and \"quantum\" and \"quantum\" and \"quantum\" and \"quantum\" and \"quantum\" and \"quantum\" and \"quantum\" and \"quantum\" and \"quantum\"\n",
            "different isotope of the same element, you add or remove neutrons. We can add neutrons using neutron capture (for example (n,γ)) reactions, and remove neutrons using neutron removal (for example (n,2n)) reactions.The teen pregnancy stats are generally higher in the \"bible-belt\" states which preach abstinence.  Map:  _URL_1_\n",
            "4\n",
            "the ability of people to identify with others.\n",
            "teen pregnancy:  _URL_0_\n",
            "5\n",
            "The Earth is a very small planet, and the moon is a very large moon. The moon is a very small moon, and the moon is a very large moon. The moon is a very small moon, and the moon is a very large moon. The moon is a very small moon, and the moon is a very large moon. The moon is a very small moon, and the moon is a very large moon. The moon is a very small moon, and the moon is a very large moon. The moon is a very small moon, and the moon is a very large moon. The moon is a very small moon, and the moon is a very large moon. The moon is a very small moon, and the moon is a very large moon. The moon is a very small moon, and the moon is a very large moon. The moon is a very small moon, and the moon is a very large moon. The moon is a very small moon, and the moon is a very large moon. The moon\n",
            "Latitude is naturally defined by the equator and the poles, so the only decision that needs to be made when setting up a planetary coordinte system is where to put the prime meridian.\n",
            "6\n",
            "the same thing.\n",
            "\n",
            "7\n",
            "can't really answer for. First, the Earth is not a perfect planet, and the planet is not a perfect planet. Secondly, the planet is not a perfect planet. The Earth is not a perfect planet. The Earth is a perfect planet. The Earth is a perfect planet. The Earth is a perfect planet. The Earth is a perfect planet. The Earth is a perfect planet. The Earth is a perfect planet. The Earth is a perfect planet. The Earth is a perfect planet. The Earth is a perfect planet. The Earth is a perfect planet. The Earth is a perfect planet. The Earth is a perfect planet. The Earth is a perfect planet. The Earth is a perfect planet. The Earth is a perfect planet. The Earth is a perfect planet. The Earth is a perfect planet. The Earth is\n",
            "can discuss speculatively, and likely many more that we can't speak on for certain (like the aforementioned selection argument) which matter less, are dependent themselves on other variables, etc. So let's stick to the two we know about to get the discussion started about what does influence height. I'm sure there are more but others can add.\n",
            "8\n",
            "climates, but the difference is not as large as the difference between warmer climates.  The difference is that the difference between warmer climates and colder climates is not as large as the difference between warmer climates.  The difference is that the difference between warmer climates and colder climates is not as large as the difference between warmer climates.  The difference is that the difference between warmer climates and colder climates is not as large as the difference between warmer climates.  The difference is that the difference between warmer climates and colder climates is not as large as the difference between warmer climates.  The difference is that the difference between warmer climates and colder climates is not as large as the difference between warmer climates.  The difference is that the difference between warmer climates and colder climates is not as large as the difference between warmer climates.  The difference is that the difference between warmer climates and colder climates is not as large as the difference between warmer climates.  The difference is that the difference between warmer climates and colder climates is not\n",
            "locations and taller people. One could potentially analyze the frequency of hot-climate lineages in some population as compared to some time in the past (assuming it's possible) and make an argument based on this if the occurence of warm-climate lineage is higher now than in the past.\n",
            "9\n",
            "changes in the body's metabolism, such as increased blood pressure, increased blood pressure, and increased blood pressure, have been associated with increased risk of developing diabetes. The body's ability to metabolize carbohydrates and sugars has been linked to increased risk of developing diabetes. The body's ability to metabolize carbohydrates and sugars has been linked to increased risk of developing diabetes. The body's ability to metabolize carbohydrates and sugars has been linked to increased risk of developing diabetes. The body's ability to metabolize carbohydrates and sugars has been linked to increased risk of developing diabetes. The body's ability to metabolize carbohydrates and sugars has been linked to increased risk of developing diabetes. The body's ability to metabolize carbohydrates and sugars has been linked to increased risk of developing diabetes.\n",
            "stressors such as illness, cold, starvation, etc definitely hinder development.Most of the everyday, practical aspects of forecasting have improved quite a bit.  Models are more sophisticated and the observation network has grown by leaps and bounds in the last 30 years.  Day-10 forecasts haven't been made for the whole 30 year period, but day-5 forecasts have improved substantially over that time frame, using the 500 hPa height anomaly correlation as a metric [(see here)](_URL_0_).\n",
            "10\n",
            "be in the next 30 years.  The big gains will be in the next 30 years.  The big gains will be in the next 30 years.  The big gains will be in the next 30 years.  The big gains will be in the next 30 years.  The big gains will be in the next 30 years.  The big gains will be in the next 30 years.  The big gains will be in the next 30 years.  The big gains will be in the next 30 years.  The big gains will be in the next 30 years.  The big gains will be in the next 30 years.  The big gains will be in the next 30 years.  The big gains will be in the next 30 years.  The big gains will be in the\n",
            "be made in expansion of the observation network through on-demand, targeted satellite observations, the implementation of non-standard data, greater time-resolution, and ensemble forecasting techniques.  The question is if the forecasting of small-scale phenomena we're interested in have basically already reached saturation.  The other option would be to offer on-demand, short-range forecasts.F=G * m_1 * m_2 / r^2\n",
            "11\n",
            "sun.\n",
            "moon or the earth and r as the distance between the two objects.\n",
            "12\n",
            "_d_d_d_d_d_d_d_d_d_d_d_d_d_d_d_d_d_d_d_d_d_d_d_d_d_d_d_d_d_d_d_d_d_d_d_d_d_d_d_d_d_d_d_d_d_d_d_d_d_d_d_d_d_d_d_d_d_d_d_d_d_d_d_d_d_d_d_d_d_d_d_d_d_d_d_d_d_d_d_d_d_d_d_d_d_d_d_d_d_d_d_d_d_d_d_d_d_d_d_d_d_d_d_d_d_d_d_d_d_d_d_d_d_d_d_d_d_d_d_d_d\n",
            "?\n",
            "13\n",
            "be roughly equal to the mass of the Earth.  The mass of the Earth is to be roughly equal to the mass of the Earth.  The mass of the Earth is to be roughly equal to the mass of the Earth.  The mass of the Earth is to be roughly equal to the mass of the Earth.  The mass of the Earth is to be roughly equal to the mass of the Earth.  The mass of the Earth is to be roughly equal to the mass of the Earth.  The mass of the Earth is to be roughly equal to the mass of the Earth.  The mass of the Earth is to be roughly equal to the mass of the Earth.  The mass of the Earth is to be roughly equal to the mass of the Earth.  The mass of the Earth is to be roughly equal to the mass of the Earth.  The mass of the Earth is to be roughly equal to the mass of the Earth.  The mass of the Earth is to be roughly equal to the mass of the Earth.  The mass of the Earth is to be roughly equal to the mass of the Earth.  The mass of the Earth is to be roughly equal to the mass of the Earth.  The\n",
            "see as dots.\n",
            "14\n",
            ") and the rest of the universe is just a few billion years old.\n",
            "· 10^24 kg\n",
            "15\n",
            ",000,000,000,000,000,000,000,000,000,000,000,000,000,000,000,000,000,000,000,000,000,000,000,000,000,000,000,000,000,000,000,000,000,000,000,000,000,000,000,000,000,000,000,000,000,000,000,000,000,000,000,000,000,000,000,000,000,000,000,000,000,000,000,000,000,000,000,000,000,000,000,000,000,000,000,000,000,000,000,000,000,000,000,000,000,000,000,000,000,000,000,000,000,000,000,000,000,000,000,000,000,000,000,000,000,000,000,000,000,000,000,000,000,000,000,000,000,000,000,000,000,\n",
            "· 10^22 kg\n",
            "16\n",
            "_d_d_d_d_d_d_d_d_d_d_d_d_d_d_d_d_d_d_d_d_d_d_d_d_d_d_d_d_d_d_d_d_d_d_d_d_d_d_d_d_d_d_d_d_d_d_d_d_d_d_d_d_d_d_d_d_d_d_d_d_d_d_d_d_d_d_d_d_d_d_d_d_d_d_d_d_d_d_d_d_d_d_d_d_d_d_d_d_d_d_d_d_d_d_d_d_d_d_d_d_d_d_d_d_d_d_d_d_d_d_d_d_d_d_d_d_d_d_d_d_\n",
            "we get:\n",
            "17\n",
            "0.05.\n",
            "m_m/r_m^2\n",
            "18\n",
            "out by the mass of the sun).  The mass of the sun is the mass of the sun.  The mass of the sun is the mass of the sun.  The mass of the sun is the mass of the sun.  The mass of the sun is the mass of the sun.  The mass of the sun is the mass of the sun.  The mass of the sun is the mass of the sun.  The mass of the sun is the mass of the sun.  The mass of the sun is the mass of the sun.  The mass of the sun is the mass of the sun.  The mass of the sun is the mass of the sun.  The mass of the sun is the mass of the sun.  The mass of the sun is the mass of the sun.  The mass of the sun is the mass of the sun.  The mass of the sun is the mass of the sun.  The mass of the sun is the mass of the sun.  The mass of the sun is the mass of the sun.  The mass of the sun is the mass of the sun.  The mass of the sun is the mass of the sun.\n",
            "on both sides)\n",
            "19\n",
            "this by using the height of the chair.  The height of the chair is the height of the chair.  The height of the chair is the height of the chair.  The height of the chair is the height of the chair.  The height of the chair is the height of the chair.  The height of the chair is the height of the chair.  The height of the chair is the height of the chair.  The height of the chair is the height of the chair.  The height of the chair is the height of the chair.  The height of the chair is the height of the chair.  The height of the chair is the height of the chair.  The height of the chair is the height of the chair.  The height of the chair is the height of the chair.  The height of the chair is the height of the chair.  The height of the chair is the height of the chair.  The height of the chair is the height of the chair.  The height of the chair is the height of the chair.  The height of the chair is the height of the chair.  The height of the chair\n",
            "for r, and put r_m for the radius of the moon (1738 km)\n",
            "20\n",
            "can't really know for sure what the actual temperature is, but it's certainly a bit more complicated than that.  The temperature of the Earth is about 1.5 degrees C, so it's not a very accurate estimate.  The temperature of the Earth is about 1.5 degrees C, so it's not a very accurate estimate.  The temperature of the Earth is about 1.5 degrees C, so it's not a very accurate estimate.  The temperature of the Earth is about 1.5 degrees C, so it's not a very accurate estimate.  The temperature of the Earth is about 1.5 degrees C, so it's not a very accurate estimate.  The temperature of the Earth is about 1.5 degrees C, so it's not a very accurate estimate.  The temperature of the Earth is about 1.5 degrees C, so it's not a very accurate estimate.  The temperature of the Earth is about 1.5 degrees C, so it's not a very accurate estimate.  The temperature of the Earth is about 1.5 degrees C, so it's not a very accurate estimate.  The temperature of the Earth is about 1.5 degrees C, so it's not\n",
            "get\n",
            "21\n",
            "'m not sure if that's the case, but I'm sure it's possible).\n",
            "didn't fuck up the math there)\n",
            "22\n",
            "like this:\n",
            "like 15670 km.\n",
            "23\n",
            "Moon.\n",
            "earth and you get 9292km.\n",
            "24\n",
            "first question.\n",
            "chairheight. :)\n",
            "25\n",
            "explosion is about 1.5%. The probability of a nuclear explosion is about 1.5%. The probability of a nuclear explosion is about 1.5%. The probability of a nuclear explosion is about 1.5%.The probability of a nuclear explosion is about 1.5%. The probability of a nuclear explosion is about 1.5%.The probability of a nuclear explosion is about 1.5%. The probability of a nuclear explosion is about 1.5%.The probability of a nuclear explosion is about 1.5%. The probability of a nuclear explosion is about 1.5%.The probability of a nuclear explosion is about 1.5%.The probability of a nuclear explosion is about 1.5%.The probability of a nuclear explosion is about 1.5%.The probability of a nuclear explosion is about 1.5%.The probability of a nuclear explosion is about 1.5%.The probability of a nuclear explosion is about 1.5%.The probability of a nuclear explosion is about 1.5%.The probability of a nuclear explosion is about 1.5%.The probability of a nuclear explosion is about 1.5%.The probability of a nuclear explosion is about 1.5\n",
            "reaction or decay depends on many things, one of them being the Q-value.\n",
            "26\n",
            "to the decay of the electron. The decay of the electron is the decay of the electron. The decay of the electron is the decay of the electron. The decay of the electron is the decay of the electron. The decay of the electron is the decay of the electron. The decay of the electron is the decay of the electron. The decay of the electron is the decay of the electron. The decay of the electron is the decay of the electron. The decay of the electron is the decay of the electron. The decay of the electron is the decay of the electron. The decay of the electron is the decay of the electron. The decay of the electron is the decay of the electron. The decay of the electron is the decay of the electron. The decay of the electron is the decay of the electron. The decay of the electron is the decay of the electron. The decay of the electron is the decay of the electron. The decay of the electron is the decay of the electron. The decay of the electron is the decay of the electron\n",
            "lifetimes to the Q-value. You can see that the lifetime depends very strongly on the Q-value, and higher Q-value decays tend to have shorter lifetimes.\n",
            "27\n",
            "a type of desertification. It is a type of desertification that is characterized by a high degree of desertification. It is a type of desertification that is characterized by a high degree of desertification. It is a type of desertification that is characterized by a high degree of desertification. It is a type of desertification that is characterized by a high degree of desertification. It is a type of desertification that is characterized by a high degree of desertification. It is a type of desertification that is characterized by a high degree of desertification. It is a type of desertification that is characterized by a high degree of desertification. It is a type of desertification that is characterized by a high degree of desertification. It is a type of desertification that is characterized by a high degree of desertification. It is a type of desertification that is characterized by a high degree of desertification\n",
            "like a pressure cooker, with the difference that its temperature and pressure are more well controlled, so that you can be sure whatever was inside got exposed to a certain pressure at a certain temperature for at least a certain amount of time (the exact values depend on standard sterilization procedures).\n",
            "28\n",
            "is not a good solution.\n",
            "needs to be sterile and it would be contaminated anyway as soon as you took it out of the pressure cooker, unless you individually packed each utensil in a special package as it is done with surgical instruments.Yes, we have a lot of imagery of this happening.\n",
            "29\n",
            "dust) is a very small fraction of the mass of the Sun. The mass of the Sun is about 1.5 times that of the Sun. The mass of the Sun is about 1.5 times that of the Sun. The mass of the Sun is about 1.5 times that of the Sun. The mass of the Sun is about 1.5 times that of the Sun. The mass of the Sun is about 1.5 times that of the Sun. The mass of the Sun is about 1.5 times that of the Sun. The mass of the Sun is about 1.5 times that of the Sun. The mass of the Sun is about 1.5 times that of the Sun. The mass of the Sun is about 1.5 times that of the Sun. The mass of the Sun is about 1.5 times that of the Sun. The mass of the Sun is about 1.5 times that of the Sun. The mass of the Sun is about 1.5 times that of the Sun. The mass of the Sun is about 1.5 times that of the Sun. The mass of the Sun is about 1.5 times that of the Sun. The mass of the Sun is about\n",
            "collisions](_URL_0_)\n",
            "30\n",
            ") are the most common examples of the formation of galaxies. The Mice Galaxies are the most common examples of the formation of galaxies. The Mice Galaxies are the most common examples of the formation of galaxies. The Mice Galaxies are the most common examples of the formation of galaxies. The Mice Galaxies are the most common examples of the formation of galaxies. The Mice Galaxies are the most common examples of the formation of galaxies. The Mice Galaxies are the most common examples of the formation of galaxies. The Mice Galaxies are the most common examples of the formation of galaxies. The Mice Galaxies are the most common examples of the formation of galaxies. The Mice Galaxies are the most common examples of the formation of galaxies. The Mice Galaxies are the most common examples of the formation of galaxies. The Mice Galaxies are the most common examples of the formation of galaxies. The Mice Galaxies are the most common examples of the formation of galaxies. The Mice Galaxies are the most common examples of the formation of galaxies. The Mice Galaxies are the most common examples of the formation of galaxies. The M\n",
            ")\n",
            "31\n",
            "The Antennae Galaxies are very similar in size to the Antennae Galaxies, but they are not as dense as the Antennae Galaxies.  The Antennae Galaxies are very similar in size to the Antennae Galaxies, but they are not as dense as the Antennae Galaxies.  The Antennae Galaxies are very similar in size to the Antennae Galaxies, but they are not as dense as the Antennae Galaxies.  The Antennae Galaxies are very similar in size to the Antennae Galaxies, but they are not as dense as the Antennae Galaxies.  The Antennae Galaxies are very similar in size to the Antennae Galaxies, but they are not as dense as the Antennae Galaxies.  The Antennae Galaxies are very similar in size to the Antennae Galaxies, but they are not as dense as the Antennae Galaxies\n",
            "I don't know of any practical limit to the charge you could remove from the planet. There must be one, but I imagine it would be extremely large. And where would you put it?\n",
            "32\n",
            ".\n",
            "(all values are ohm-meters):\n",
            "33\n",
            "is a very simple example of how a person can make a difference. The first thing you need to do is to make a difference. The second thing you need to do is to make a difference. The third thing you need to do is to make a difference. The fourth thing you need to do is to make a difference. The fourth thing you need to do is to make a difference. The fifth thing you need to do is to make a difference. The fourth thing you need to do is to make a difference. The fourth thing you need to do is to make a difference. The fifth thing you need to do is to make a difference. The fourth thing you need to do is to make a difference. The fourth thing you need to do is to make a difference. The fourth thing you need to do is to make a difference. The fourth thing you need to do is to make a difference. The fourth thing you need to do is to make a difference. The fourth thing you need to do is to make a difference. The fourth thing you need to do is to make a difference. The fourth thing you need to do is to make a difference. The fourth thing you need to do is to make\n",
            "6-70\n",
            "34\n",
            "is a chemical that is used to make a lot of light. It is also used to make a lot of light. It is also used to make a lot of light. It is also used to make a lot of light. It is also used to make a lot of light. It is also used to make a lot of light. It is also used to make a lot of light. It is also used to make a lot of light. It is also used to make a lot of light. It is also used to make a lot of light. It is also used to make a lot of light. It is also used to make a lot of light. It is also used to make a lot of light. It is also used to make a lot of light. It is also used to make a lot of light. It is also used to make a lot of light. It is also used to make a lot of light. It is also used to make a lot of light. It is also used to make a lot of light. It is also used to make a lot of light. It is also used to make a lot of light. It is also used to make a lot of light.\n",
            "14-30\n",
            "35\n",
            "is a chemical that is used to make a lot of things. It is also used to make a lot of things. It is also used to make a lot of things. It is also used to make a lot of things. It is also used to make a lot of things. It is also used to make a lot of things. It is also used to make a lot of things. It is also used to make a lot of things. It is also used to make a lot of things. It is also used to make a lot of things. It is also used to make a lot of things. It is also used to make a lot of things. It is also used to make a lot of things. It is also used to make a lot of things. It is also used to make a lot of things. It is also used to make a lot of things. It is also used to make a lot of things. It is also used to make a lot of things. It is also used to make a lot of things. It is also used to make a lot of things. It is also used to make a lot of things. It is also used to make a lot\n",
            "100-200\n",
            "36\n",
            "nm.\n",
            "0\n",
            "37\n",
            ", the most common form of cancer, is a type of cancer that is most commonly treated with chemotherapy. It is also known as a \"cancerous\" form of cancer. It is also known as a \"cancerous\" form of cancer. It is also known as a \"cancerous\" form of cancer.It is also known as a \"cancerous\" form of cancer. It is also known as a \"cancerous\" form of cancer. It is also known as a \"cancerous\" form of cancer. It is also known as a \"cancerous\" form of cancer. It is also known as a \"cancerous\" form of cancer. It is also known as a \"cancerous\" form of cancer. It is also known as a \"cancerous\" form of cancer. It is also known as a \"cancerous\" form of cancer. It is also known as a \"cancerous\" form of cancer. It is also known as a \"cancerous\" form of cancer. It is also known as a \"cancerous\" form of cancer. It is also known as a \"cancerous\" form of cancer. It is also known as a \"cancerous\" form of cancer. It is also\n",
            "1000-5000\n",
            "38\n",
            "is a very small organism that is very small. It is a very small organism that is very small. It is a very small organism that is very small. It is a very small organism that is very small. It is a very small organism that is very small. It is a very small organism that is very small. It is a very small organism that is very small. It is a very small organism that is very small. It is a very small organism that is very small. It is a very small organism that is very small. It is a very small organism that is very small. It is a very small organism that is very small. It is a very small organism that is very small. It is a very small organism that is very small. It is a very small organism that is very small. It is a very small organism that is very small. It is a very small organism that is very small. It is a very small organism that is very small. It is a very small organism that is very small. It is a very small organism that is very small. It is a very small organism that is very small. It is a very small organism that is very small. It is a\n",
            "200-400\n",
            "39\n",
            "Water) is a very complex molecule. It is a very complex molecule, and it is very complex. It is a very complex molecule, and it is very complex. It is a very complex molecule, and it is very complex. It is a very complex molecule, and it is very complex. It is a very complex molecule, and it is very complex. It is a very complex molecule, and it is very complex. It is a very complex molecule, and it is very complex. It is a very complex molecule, and it is very complex. It is a very complex molecule, and it is very complex. It is a very complex molecule, and it is very complex. It is a very complex molecule, and it is very complex. It is a very complex molecule, and it is very complex. It is a very complex molecule, and it is very complex. It is a very complex molecule, and it is very complex. It is a very complex molecule, and it is very complex. It is a very complex molecule, and it is very complex. It is a very complex molecule, and it is very complex. It is a very complex molecule, and it is very complex. It is\n",
            "Gravel) 30-50\n",
            "40\n",
            "other factors) is a very complex system of particles that can be formed in a very small amount of time.  The first thing to notice is that the particles are not very large, and the particles are very small.  The second thing to notice is that the particles are very small.  The first thing to notice is that the particles are very small.  The second thing to notice is that the particles are very small.  The third thing to notice is that the particles are very small.  The fourth thing to notice is that the particles are very small.  The fourth thing to notice is that the particles are very small.  The fourth thing to notice is that the particles are very small.  The fourth thing to notice is that the particles are very small.  The fourth thing to notice is that the particles are very small.  The fourth thing to notice is that the particles are very small.  The fourth thing to notice is that the particles are very small.  The fourth thing to notice is that the particles are very small.  The fourth thing to notice is that the particles are very small.  The fourth thing to notice is that the particles are very small.  The fourth thing to\n",
            "stones) 100-300\n",
            "41\n",
            "materials) and the other two are the same.  The reason for this is that the stones are not the same as the stones, they are the same as the stones.  The reason for this is that the stones are not the same as the stones, they are the same as the stones.  The reason for this is that the stones are not the same as the stones, they are the same as the stones.  The reason for this is that the stones are not the same as the stones.  The reason for this is that the stones are not the same as the stones.  The reason for this is that the stones are not the same as the stones.  The reason for this is that the stones are not the same as the stones.  The reason for this is that the stones are not the same as the stones.  The reason for this is that the stones are not the same as the stones.  The reason for this is that the stones are not the same as the stones.  The reason for this is that the stones are not the same as the stones.  The reason for this is that the stones are not the same as the stones.  The reason for this\n",
            "vegetation) 200-350\n",
            "42\n",
            ", and the Earth's crust.\n",
            "300-400\n",
            "43\n",
            "or no water) are a very thin layer of rock that is very thin and very dense. The rock is very dense and has a very thin layer of rock that is very dense. The rock is very dense and has a very thin layer of rock that is very dense. The rock is very dense and has a very thin layer of rock that is very dense. The rock is very dense and has a very thin layer of rock that is very dense. The rock is very dense and has a very thin layer of rock that is very dense. The rock is very dense and has a very thin layer of rock that is very dense. The rock is very dense and has a very thin layer of rock that is very dense. The rock is very dense and has a very thin layer of rock that is very dense. The rock is very dense and has a very thin layer of rock that is very dense. The rock is very dense and has a very thin layer of rock that is very dense. The rock is very dense and has a very thin layer of rock that is very dense. The rock is very dense and has a very thin layer of rock that is very dense. The rock is very dense and has a very\n",
            "or not soil) 5-40\n",
            "44\n",
            "the top) is a very thin layer of water that is very dense and very dense. The water is very dense and very dense. The water is very dense and very dense. The water is very dense and very dense. The water is very dense and very dense. The water is very dense and very dense. The water is very dense and very dense. The water is very dense and very dense. The water is very dense and very dense. The water is very dense and very dense. The water is very dense and very dense. The water is very dense and very dense. The water is very dense and very dense. The water is very dense and very dense. The water is very dense and very dense. The water is very dense and very dense. The water is very dense and very dense. The water is very dense and very dense. The water is very dense and very dense. The water is very dense and very dense. The water is very dense and very dense. The water is very dense and very dense. The water is very dense and very dense. The water is very dense and very dense. The water is very dense and very dense. The water is very dense and\n",
            "Rock Base) 1000-5000\n",
            "45\n",
            "flow) is a process that is called \"flow\" in the air. The flow is a process that is called \"flow\" in the air. The flow is a process that is called \"flow\" in the air. The flow is a process that is called \"flow\" in the air. The flow is a process that is called \"flow\" in the air. The flow is a process that is called \"flow\" in the air. The flow is a process that is called \"flow\" in the air. The flow is a process that is called \"flow\" in the air. The flow is a process that is called \"flow\" in the air. The flow is a process that is called \"flow\" in the air. The flow is a process that is called \"flow\" in the air. The flow is a process that is called \"flow\" in the air. The flow is a process that is called \"flow\" in the air. The flow is a process that is called \"flow\" in the air. The flow is a process that is called \"flow\" in the air. The flow is a process that is called \"flow\" in the air. The flow is a\n",
            "Rock Base) 150-300\n",
            "46\n",
            ", which are a very common species of birds, are a very common species of birds.  They are very common in the wild, and are very common in the wild.  They are very common in the wild, and are very common in the wild.  They are very common in the wild, and are very common in the wild.  They are very common in the wild, and are very common in the wild.  They are very common in the wild, and are very common in the wild.  They are very common in the wild, and are very common in the wild.  They are very common in the wild, and are very common in the wild.  They are very common in the wild, and are very common in the wild.  They are very common in the wild, and are very common in the wild.  They are very common in the wild, and are very common in the wild.  They are very common in the wild, and are very common in the wild.  They are very common in the wild, and are very common in the wild.  They are very common in the wild, and are very common in the wild.  They are very common in the wild\n",
            "300-1000\n",
            "47\n",
            "fall) is a waterfall that occurs when the water is in a shallow water column. The water is not in a shallow water column, but in a shallow water column. The water is not in a shallow water column, but in a shallow water column. The water is not in a shallow water column, but in a shallow water column. The water is not in a shallow water column, but in a shallow water column. The water is not in a shallow water column, but in a shallow water column. The water is not in a shallow water column, but in a shallow water column. The water is not in a shallow water column, but in a shallow water column. The water is not in a shallow water column, but in a shallow water column. The water is not in a shallow water column, but in a shallow water column. The water is not in a shallow water column, but in a shallow water column. The water is not in a shallow water column, but in a shallow water column. The water is not in a shallow water column, but in a shallow water column. The water is not in a shallow water column, but in a shallow water column. The water is not in a shallow\n",
            "Table) 6-70\n",
            "48\n",
            "is a very small molecule that is not very stable.  It is a very small molecule that is not very stable.  It is a very small molecule that is not very stable.  It is a very small molecule that is not very stable.  It is a very small molecule that is not very stable.  It is a very small molecule that is not very stable.  It is a very small molecule that is not very stable.  It is a very small molecule that is not very stable.  It is a very small molecule that is not very stable.  It is a very small molecule that is not very stable.  It is a very small molecule that is not very stable.  It is a very small molecule that is not very stable.  It is a very small molecule that is not very stable.  It is a very small molecule that is not very stable.  It is a very small molecule that is not very stable.  It is a very small molecule that is not very stable.  It is a very small molecule that is not very stable.  It is a very small molecule that is not very stable.  It is a very small molecule that is not very stable.\n",
            "60-130\n",
            "49\n",
            "is a very complex system of molecules that are not just molecules but also molecules that are not just molecules but also molecules that are not just molecules but also molecules that are not just molecules but also molecules that are not just molecules but also molecules that are not just molecules but also molecules that are not just molecules but also molecules that are not just molecules but also molecules that are not just molecules but also molecules that are not just molecules but also molecules that are not just molecules but also molecules that are not just molecules but also molecules that are not just molecules but also molecules that are not just molecules but also molecules that are not just molecules but also molecules that are not just molecules but also molecules that are not just molecules but also molecules that are not just molecules but also molecules that are not just molecules but also molecules that are not just molecules but also molecules that are not just molecules but also molecules that are not just molecules but also molecules that are not just molecules but also molecules that are not just molecules but also molecules that are not just molecules but also molecules that are not just molecules but also molecules that are not just molecules but also molecules that are not just molecules but also molecules that are not just molecules but also molecules that are not just molecules but\n",
            "1000-5000\n",
            "50\n",
            "is a very small molecule that is not very stable. It is a very small molecule that is not very stable. It is a very small molecule that is not very stable. It is a very small molecule that is not very stable. It is a very small molecule that is not very stable. It is a very small molecule that is not very stable. It is a very small molecule that is not very stable. It is a very small molecule that is not very stable. It is a very small molecule that is not very stable. It is a very small molecule that is not very stable. It is a very small molecule that is not very stable. It is a very small molecule that is not very stable. It is a very small molecule that is not very stable. It is a very small molecule that is not very stable. It is a very small molecule that is not very stable. It is a very small molecule that is not very stable. It is a very small molecule that is not very stable. It is a very small molecule that is not very stable. It is a very small molecule that is not very stable. It is a very small molecule that is not very stable. It is a very small molecule\n",
            "1000-5000\n",
            "51\n",
            ", the most important element of the Earth's crust, is the crust.\n",
            "120-7000\n",
            "52\n",
            ",000 km/s, and the Earth's atmosphere is about 1.5 times larger than the Earth's surface.  The Earth's atmosphere is about 1.5 times larger than the Earth's surface.  The Earth's atmosphere is about 1.5 times larger than the Earth's surface.  The Earth's atmosphere is about 1.5 times larger than the Earth's surface.  The Earth's atmosphere is about 1.5 times larger than the Earth's surface.  The Earth's atmosphere is about 1.5 times larger than the Earth's surface.  The Earth's atmosphere is about 1.5 times larger than the Earth's surface.  The Earth's atmosphere is about 1.5 times larger than the Earth's surface.  The Earth's atmosphere is about 1.5 times larger than the Earth's surface.  The Earth's atmosphere is about 1.5 times larger than the Earth's surface.  The Earth's atmosphere is about 1.5 times larger than the Earth's surface.  The Earth's atmosphere is about 1.5 times larger than the Earth's surface.  The Earth's atmosphere is about 1.5 times larger than the Earth's surface.  The Earth's atmosphere\n",
            "0\n",
            "53\n",
            "\n",
            "\n",
            "54\n",
            "explain the difference between the two.\n",
            "answer this one:\n",
            "55\n",
            ") and the other two are the same.  The reason for this is that the two are not mutually exclusive.  The reason for this is that the two are mutually exclusive.  The reason for this is that the two are mutually exclusive.  The reason for this is that the two are mutually exclusive.  The reason for this is that the two are mutually exclusive.  The reason for this is that the two are mutually exclusive.  The reason for this is that the two are mutually exclusive.  The reason for this is that the two are mutually exclusive.  The reason for this is that the two are mutually exclusive.  The reason for this is that the two are mutually exclusive.  The reason for this is that the two are mutually exclusive.  The reason for this is that the two are mutually exclusive.  The reason for this is that the two are mutually exclusive.  The reason for this is that the two are mutually exclusive.  The reason for this is that the two are mutually exclusive.  The reason for this is that the two are mutually exclusive.  The reason for this is that the two are mutually exclusive.  The reason for this is that the two are mutually exclusive.\n",
            "\n",
            "56\n",
            "with each other.  This is why the wave function is called wave function, and it is a function of the wave function.  This is why the wave function is called wave function, and it is a function of the wave function.  This is why the wave function is called wave function, and it is a function of the wave function.  This is why the wave function is called wave function, and it is a function of the wave function.  This is why the wave function is called wave function, and it is a function of the wave function.  This is why the wave function is called wave function, and it is a function of the wave function.  This is why the wave function is called wave function, and it is a function of the wave function.  This is why the wave function is called wave function, and it is a function of the wave function.  This is why the wave function is called wave function, and it is a function of the wave function.  This is why the wave function is called wave function, and it is a function of the wave function\n",
            "perfectly, converting into energy.I got to this one a bit late, but people are throwing out guesses so I'll post a response anyway.\n",
            "57\n",
            "it is, to prevent the production of the morphine. The morphine is also used to treat the pain of the stomach. The morphine is also used to treat the stomach. The morphine is also used to treat the stomach. The morphine is also used to treat the stomach. The morphine is also used to treat the stomach. The morphine is also used to treat the stomach. The morphine is also used to treat the stomach. The morphine is also used to treat the stomach. The morphine is also used to treat the stomach. The morphine is also used to treat the stomach. The morphine is also used to treat the stomach. The morphine is also used to treat the stomach. The morphine is also used to treat the stomach. The morphine is also used to treat the stomach. The morphine is also used to treat the stomach. The morphine is also used to treat the stomach. The morphine is also used to treat the stomach. The morphine is also used to treat the stomach. The\n",
            "some users have pointed out, primarily as a defensive mechanism against herbivory. Opium itself is just one of a variety of tertiary metabolites that are dumped into the milky latex to serve this end.\n",
            "58\n",
            "that are not present in the material.  The most common is the [polarized](_URL_0_) compound.  The most common is [polarized](_URL_1_) and [polarized](_URL_2_).  The most common is [polarized](_URL_1_).  The most common is [polarized](_URL_3_).  The most common is [polarized](_URL_1_).  The most common is [polarized](_URL_2_).  The most common is [polarized](_URL_3_).  The most common is [polarized](_URL_1_).  The most common is [polarized](_URL_2_).  The most common is [polarized](_URL_3_).  The most common is [polarized](_URL_1_).  The most common is [polarized](_URL_2_).\n",
            "and has a broad negative effect on herbivores. The texture of the substance destroys the mouth parts of insects and has serious toxic effects on most animals.\n",
            "59\n",
            "effects on the body.  The effects of the morphine and morphine are not known.  The effects of the morphine and morphine are not known.  The effects of the morphine and morphine are not known.  The effects of the morphine and morphine are not known.  The effects of the morphine and morphine are not known.  The effects of the morphine and morphine are not known.  The effects of the morphine and morphine are not known.  The effects of the morphine and morphine are not known.  The effects of the morphine and morphine are not known.  The effects of the morphine and morphine are not known.  The effects of the morphine and morphine are not known.  The effects of the morphine and morphine are not known.  The effects of the morphine and morphine are not known.  The effects of the morphine and morphine are not known.  The effects of the morphine and morphine are not known.  The effects of the morphine and morphine are not known.  The effects of the\n",
            "effects on the lining of organs and is generally toxic. Also, the milky latex is produced by vessels on all parts of the plan, with the exception of the seeds, and is not just produced in the maturing capsule.\n",
            "60\n",
            "not known.  The only way to get rid of the alkaloids is to use a chemical called \"tetrahydrocannabinol\" (THC).  The THC is a chemical that is used to make the body feel better.  The THC is a chemical that is used to make the body feel better.  The THC is a chemical that is used to make the body feel better.  The THC is a chemical that is used to make the body feel better.  The THC is a chemical that is used to make the body feel better.  The THC is a chemical that is used to make the body feel better.  The THC is a chemical that is used to make the body feel better.  The THC is a chemical that is used to make the body feel better.  The THC is a chemical that is used to make the body feel better.  The THC is a chemical that is used to make the body feel better.  The THC is a chemical that is used to make the body feel better.\n",
            "variable. The milky latex, once harvested, is refined in order to produce a useable product. People have selected for opium poppys just as they have with other agricultural cultivars.\n",
            "61\n",
            "\n",
            "Selection for ideal harvest time is chosen based on maximum production of desired compounds, this is why it seemed that the desired alkaloids were only produced in a short window - they are just produced in higher quantities during that window in modern cultivars.Because neurologically, being asleep and being unconscious are two different things.\n",
            "62\n",
            "in a room is a good indicator of your ability to perceive the surroundings.  It's why you're awake when you're awake.  It's why you're awake when you're awake.  It's why you're awake when you're awake.  It's why you're awake when you're awake.  It's why you're awake when you're awake.  It's why you're awake when you're awake.  It's why you're awake when you're awake.  It's why you're awake when you're awake.  It's why you're awake when you're awake.  It's why you're awake when you're awake.  It's why you're awake when you're awake.  It's why you're awake when you're awake.  It's why you're awake when you're awake.  It's why you're awake when you're awake.  It's why you're awake when you're awake.  It's why you're awake when you're awake.  It's why\n",
            "shaken can wake you up, or how sounds around you can make their way into your dreams. While you may not be aware of it, while you're asleep you're still processing sensory input.\n",
            "63\n",
            "in a state of consciousness.\n",
            "fully unconscious. Your brain isn't processing sensory input or recording memories.\n",
            "64\n",
            "they would be able to do it.\n",
            "you could build a system cost effectively that would have main memory with the same latency as the L1 cache.  The relevant factor is here the ratio between latency of main memory and the L1 cache.   On modern systems, this ratio is about 1:200.\n",
            "65\n",
            "you're using a computer) to about 1 (if you're using a computer).  If you're using a computer, you're going to have to do a lot of things to get it to work.  If you're using a computer, you're going to have to do a lot of things to get it to work.  If you're using a computer, you're going to have to do a lot of things to get it to work.  If you're using a computer, you're going to have to do a lot of things to get it to work.  If you're using a computer, you're going to have to do a lot of things to get it to work.  If you're using a computer, you're going to have to do a lot of things to get it to work.  If you're using a computer, you're going to have to do a lot of things to get it to work.  If you're using a computer, you're going to have to do a lot of things to get it to work.  If you're using\n",
            "cache misses never occur now) up to the full ratio of the latency differences (If you use a workload that forces every access to miss cache).\n",
            "66\n",
            "computer, you can say that the cache hierarchy is a lot larger than the one you're talking about.  But if you're talking about a computer that's a lot larger than the one you're talking about, you can say that the cache hierarchy is a lot larger than the one you're talking about.  But if you're talking about a computer that's a lot larger than the one you're talking about, you can say that the cache hierarchy is a lot larger than the one you're talking about.  But if you're talking about a computer that's a lot larger than the one you're talking about, you can say that the cache hierarchy is a lot larger than the one you're talking about.  But if you're talking about a computer that's a lot larger than the one you're talking about, you can say that the cache hierarchy is a lot larger than the one you're talking about.  But if you're talking about a computer that's a lot larger than the one\n",
            "chip running a SPEC CPU2000 benchmark, where you increase the L1 cache from the current size of 64kB per core to infinity, then according to [this chart](_URL_1_) the cache miss rate would drop pretty substantially.\n",
            "67\n",
            "between the two.  The difference is that the L2 cache size is much larger than the L1 cache size, and the L1 cache size is much larger than the L1 cache size.  The difference is that the L1 cache size is much larger than the L1 cache size, and the L1 cache size is much larger than the L1 cache size.  The difference is that the L1 cache size is much larger than the L1 cache size, and the L1 cache size is much larger than the L1 cache size.  The difference is that the L1 cache size is much larger than the L1 cache size, and the L1 cache size is much larger than the L1 cache size.  The difference is that the L1 cache size is much larger than the L1 cache size, and the L1 cache size is much\n",
            "at all.I think the phrase generally refers to our perception of time.  When you are having a good time then it feels like time passes quickly, but if you are bored then it seems to drag on. Time can be thought of as this constant abstract thing separate from ourselves, or it can be thought of as something that is connected to our experience.\n",
            "68\n",
            ", which is the time that the universe is in a constant state, and the time that the universe is in a constant state).  The time that the universe is in a constant state is the time that the universe is in a constant state.  The time that the universe is in a constant state is the time that the universe is in a constant state.  The time that the universe is in a constant state is the time that the universe is in a constant state.  The time that the universe is in a constant state is the time that the universe is in a constant state.  The time that the universe is in a constant state is the time that the universe is in a constant state.  The time that the universe is in a constant state is the time that the universe is in a constant state.  The time that the universe is in a constant state is the time that the universe is in a constant state.  The time that the universe is in a constant state is the time that the universe is in a constant state.  The time that the universe is in a constant state is the time that the universe is in a constant state.  The time that the universe is in\n",
            "vs. relative time in science.](_URL_0_)\n",
            "69\n",
            "time.  The idea was that time was a continuum, and that time was a continuum.  The idea was that time was a continuum, and that time was a continuum.  The idea was that time was a continuum, and that time was a continuum.  The idea was that time was a continuum, and that time was a continuum.  The idea was that time was a continuum, and that time was a continuum.  The idea was that time was a continuum, and that time was a continuum.  The idea was that time was a continuum, and that time was a continuum.  The idea was that time was a continuum, and that time was a continuum.  The idea was that time was a continuum, and that time was a continuum.  The idea was that time was a continuum, and that time was a continuum.  The idea was that time was a continuum, and that time was a continuum.\n",
            "experience in it differently because the speed of light (300,000 km per second) is the same for all observers. In other words, if all observers have to agree on the speed of light being 300,000 km per second, then they can't agree on the time it takes for other objects to travel relative to them.\n",
            "70\n",
            "They're orbiting around the sun, orbiting around the sun.  The Earth is orbiting around the sun, and the sun is orbiting around the sun.  The Earth is orbiting around the sun, and the sun is orbiting around the sun.  The Earth is orbiting around the sun, and the sun is orbiting around the sun.  The Earth is orbiting around the sun, and the sun is orbiting around the sun.  The Earth is orbiting around the sun, and the sun is orbiting around the sun.  The Earth is orbiting around the sun, and the sun is orbiting around the sun.  The Earth is orbiting around the sun, and the sun is orbiting around the sun.  The Earth is orbiting around the sun, and the sun is orbiting around the sun.  The Earth is orbiting around the sun, and the sun is orbiting around the sun.  The Earth is orbiting around the sun, and the sun is orbiting around the sun.  The Earth is orbiting around the sun, and the sun\n",
            "Instead, imagine an apple resting on a stretched out blanket -- the weight of the apple warps the sheet. If the Earth is an apple, then we can imagine the Earth's blanket as space-time.\n",
            "71\n",
            ", was placed at the top, and the one closer to the massive center. The clock at the bottom was placed at the top, and the one closer to the massive center. The clock at the bottom was placed at the top, and the one closer to the massive center. The clock at the bottom was placed at the top, and the one closer to the massive center. The clock at the bottom was placed at the top, and the one closer to the massive center. The clock at the bottom was placed at the top, and the one closer to the massive center. The clock at the bottom was placed at the top, and the one closer to the massive center. The clock at the bottom was placed at the top, and the one closer to the massive center. The clock at the bottom was placed at the top, and the one closer to the\n",
            "of the Earth, was running slower than the clock at the top. Einstein called this phenomenon time dilation.There is research being done at the moment, it's still in the very early stage, to use computer games to correct amblyopia (lazy eye) as an alternative to patching. Early findings are promising but it's too early to say conclusively whether it will prove effective in the long term.\n",
            "72\n",
            "all of the words in the brain are related to the same thing.  The brain is also responsible for the visual processing of words.  The brain is also responsible for the visual processing of words.  The brain is also responsible for the visual processing of words.  The brain is also responsible for the visual processing of words.  The brain is also responsible for the visual processing of words.  The brain is also responsible for the visual processing of words.  The brain is also responsible for the visual processing of words.  The brain is also responsible for the visual processing of words.  The brain is also responsible for the visual processing of words.  The brain is also responsible for the visual processing of words.  The brain is also responsible for the visual processing of words.  The brain is also responsible for the visual processing of words.  The brain is also responsible for the visual processing of words.\n",
            "every dyslexic person has a unique case, but they can get categorized into different types. Lastly, one main thing to know is that most heat maps are different for people with vs without dyslexia. Most dyslexic people deal with reading and words in a different section in the brain, compared to a person without dyslexia.\n",
            "73\n",
            ".  Alcohol is a very complex chemical, and it is not a simple chemical.  Alcohol is a very complex chemical, and it is not a simple chemical.  Alcohol is a very complex chemical, and it is not a simple chemical.  Alcohol is a very complex chemical, and it is not a simple chemical.  Alcohol is a very complex chemical, and it is not a simple chemical.  Alcohol is a very complex chemical, and it is not a simple chemical.  Alcohol is a very complex chemical, and it is not a simple chemical.  Alcohol is a very complex chemical, and it is not a simple chemical.  Alcohol is a very complex chemical, and it is not a simple chemical.  Alcohol is a very complex chemical, and it is not a simple chemical.  Alcohol is a very complex chemical, and it is not a simple chemical.  Alcohol is a very complex chemical, and it is not a simple chemical.  Alcohol is a very complex chemical, and it is not a simple chemical.  Alcohol is a very complex chemical, and\n",
            "effect. Thus it's quite possible that the expectation of different behavior when consuming different drinks could lead to different behavior.\n",
            "74\n",
            ") and the other two are the same.  The reason for this is that the two are not mutually exclusive.  The reason for this is that the two are mutually exclusive.  The reason for this is that the two are mutually exclusive.  The reason for this is that the two are mutually exclusive.  The reason for this is that the two are mutually exclusive.  The reason for this is that the two are mutually exclusive.  The reason for this is that the two are mutually exclusive.  The reason for this is that the two are mutually exclusive.  The reason for this is that the two are mutually exclusive.  The reason for this is that the two are mutually exclusive.  The reason for this is that the two are mutually exclusive.  The reason for this is that the two are mutually exclusive.  The reason for this is that the two are mutually exclusive.  The reason for this is that the two are mutually exclusive.  The reason for this is that the two are mutually exclusive.  The reason for this is that the two are mutually exclusive.  The reason for this is that the two are mutually exclusive.  The reason for this is that the two are mutually exclusive.\n",
            "\n",
            "75\n",
            "on this, but I'm sure it's a good idea to look at it.\n",
            "on this specific question, however.\n",
            "76\n",
            "and I'm not sure if it's true.\n",
            "really really interesting: _URL_1_\n",
            "77\n",
            "a lot of the questions that I have asked.\n",
            "your questions nicely: _URL_0_\n",
            "78\n",
            "core is absorbed by the core.  The heat in the core is absorbed by the core.  The heat in the core is absorbed by the core.  The heat in the core is absorbed by the core.  The heat in the core is absorbed by the core.  The heat in the core is absorbed by the core.  The heat in the core is absorbed by the core.  The heat in the core is absorbed by the core.  The heat in the core is absorbed by the core.  The heat in the core is absorbed by the core.  The heat in the core is absorbed by the core.  The heat in the core is absorbed by the core.  The heat in the core is absorbed by the core.  The heat in the core is absorbed by the core.  The heat in the core is absorbed by the core.  The heat in the core is absorbed by the core.  The heat in the core is absorbed by the core.  The heat in the core is absorbed by the core.  The heat in the core is absorbed by the core.  The heat in the core is absorbed by the core.  The heat in\n",
            "earth is mostly the result of:\n",
            "79\n",
            "sun is absorbed by the skin. This heat is absorbed by the skin. This heat is absorbed by the skin. This heat is absorbed by the skin. This heat is absorbed by the skin. This heat is absorbed by the skin. This heat is absorbed by the skin. This heat is absorbed by the skin. This heat is absorbed by the skin. This heat is absorbed by the skin. This heat is absorbed by the skin. This heat is absorbed by the skin. This heat is absorbed by the skin. This heat is absorbed by the skin. This heat is absorbed by the skin. This heat is absorbed by the skin. This heat is absorbed by the skin. This heat is absorbed by the skin. This heat is absorbed by the skin. This heat is absorbed by the skin. This heat is absorbed by the skin. This heat is absorbed by the skin. This heat is absorbed by the skin. This heat is absorbed by the skin. This heat is absorbed by the skin. This heat is absorbed by the skin. This heat is absorbed by the skin. This heat is absorbed by the skin. This heat is absorbed by the skin. This heat is absorbed by the skin. This heat is\n",
            "formation of the planet.\n",
            "80\n",
            "the body is a very strong force.  The force of gravity is the force of gravity.  The force of gravity is the force of gravity.  The force of gravity is the force of gravity.  The force of gravity is the force of gravity.  The force of gravity is the force of gravity.  The force of gravity is the force of gravity.  The force of gravity is the force of gravity.  The force of gravity is the force of gravity.  The force of gravity is the force of gravity.  The force of gravity is the force of gravity.  The force of gravity is the force of gravity.  The force of gravity is the force of gravity.  The force of gravity is the force of gravity.  The force of gravity is the force of gravity.  The force of gravity is the force of gravity.  The force of gravity is the force of gravity.  The force of gravity is the force of gravity.  The force of gravity is the force of gravity.  The force of gravity is the force of gravity.  The force of gravity is the force of gravity.  The force of gravity is the force of gravity.  The force\n",
            "the core rotating against each other.\n",
            "81\n",
            "you a scientist? I'm not a scientist. I'm not a scientist. I'm not a scientist. I'm not a scientist. I'm not a scientist. I'm not a scientist. I'm not a scientist. I'm not a scientist. I'm not a scientist. I'm not a scientist. I'm not a scientist. I'm not a scientist. I'm not a scientist. I'm not a scientist. I'm not a scientist. I'm not a scientist. I'm not a scientist. I'm not a scientist. I'm not a scientist. I'm not a scientist. I'm not a scientist. I'm not a scientist. I'm not a scientist. I'm not a scientist. I'm not a scientist. I'm not a scientist. I'm not a scientist. I'm not a scientist. I'm not a scientist. I'm not a scientist. I'm not a scientist. I'm not a scientist. I'm not a scientist. I'm not a scientist. I'm not a scientist. I\n",
            "you saying the individuals that are recessive [aa] **never breed** with the individuals that have the dominant trait [AA] or [Aa]?\n",
            "82\n",
            "by [aa] to completely out-compete [AA] by [aa] to completely out-compete [AA] by [aa] to completely out-compete [AA] by [aa] to completely out-compete [AA] by [aa] to completely out-compete [AA] by [aa] to completely out-compete [AA] by [aa] to completely out-compete [AA] by [aa] to completely out-compete [AA] by [aa] to completely out-compete [AA] by [aa] to completely out-compete [AA] by [aa] to completely out-compete [AA] by [aa] to completely out-compete [AA] by [aa] to completely out-compete [AA] by [aa] to completely out-compete [AA] by [aa] to completely out-compete [AA] by [aa] to completely out-compete [AA] by [aa] to completely out-comp\n",
            "and [Aa] and push them out of the ecosystem or push them to extinction. Which *can* happen. Absolutely that can happen.\n",
            "83\n",
            "allele, then there is no reason to think that the allele will be recessive if there is no variant allele that is dominant over it.  If there is a mutation that creates a new dominant [A^new ] allele, then there is no reason to think that the allele will be recessive if there is no variant allele that is dominant over it.  If there is a mutation that creates a new dominant [A^new ] allele, then there is no reason to think that the allele will be recessive if there is no variant allele that is dominant over it.  If there is a mutation that creates a new dominant [A^new ] allele, then there is no reason to think that the allele will be recessive if there is no variant allele that is dominant over it.  If there is a mutation that creates a new dominant [A^new ] allele, then there is no reason to think that the allele will be recessive if there is no variant allele that is\n",
            "then [a] could reasonably be referred to as a recessive allele again.To address the first paragraph of the claim, this describes ionizing radiation. Microwaves do not have enough energy to ionize substances.\n",
            "84\n",
            "time.  The reason is that the heat is absorbed by the air, so the heat is absorbed by the air.  The heat is absorbed by the air, so the heat is absorbed by the air.  The heat is absorbed by the air, so the heat is absorbed by the air.  The heat is absorbed by the air, so the heat is absorbed by the air.  The heat is absorbed by the air, so the heat is absorbed by the air.  The heat is absorbed by the air, so the heat is absorbed by the air.  The heat is absorbed by the air, so the heat is absorbed by the air.  The heat is absorbed by the air, so the heat is absorbed by the air.  The heat is absorbed by the air, so the heat is absorbed by the air.  The heat is absorbed by the air, so the heat is absorbed by the air.  The heat is absorbed by the air, so the heat is absorbed by the air.  The heat is absorbed by the air, so the\n",
            "times, so things cooked in microwaves will retain most of their nutrients unlike things fried or sautéed, which will have a good bit of their nutrients destroyed.\n",
            "85\n",
            "is a very important nutrient for plants to grow.  Water is a very important nutrient for plants to grow.  Water is a very important nutrient for plants to grow.  Water is a very important nutrient for plants to grow.  Water is a very important nutrient for plants to grow.  Water is a very important nutrient for plants to grow.  Water is a very important nutrient for plants to grow.  Water is a very important nutrient for plants to grow.  Water is a very important nutrient for plants to grow.  Water is a very important nutrient for plants to grow.  Water is a very important nutrient for plants to grow.  Water is a very important nutrient for plants to grow.  Water is a very important nutrient for plants to grow.  Water is a very important nutrient for plants to grow.  Water is a very important nutrient for plants to grow.  Water is a very important nutrient for plants to grow.  Water is a very important nutrient for plants to grow.  Water is a very important nutrient for plants to grow.  Water is a very important nutrient for\n",
            "is H2O no matter how many times you microwave. And there are no nutrients in water to be denatured even if microwaves could do that.\n",
            "86\n",
            "be eaten by humans.  They will eat it in a very small amount of time.  They will eat it in a very small amount of time.  They will eat it in a very small amount of time.  They will eat it in a very small amount of time.  They will eat it in a very small amount of time.  They will eat it in a very small amount of time.  They will eat it in a very small amount of time.  They will eat it in a very small amount of time.  They will eat it in a very small amount of time.  They will eat it in a very small amount of time.  They will eat it in a very small amount of time.  They will eat it in a very small amount of time.  They will eat it in a very small amount of time.  They will eat it in a very small amount of time\n",
            "get stuck, die, and can get surrounded by the sap.  The tree sap then hardens and, under the right conditions, it can fossilize, preserving the animals that are inside it.>  then aren't we proposing that not only is it not constant, but that light can actually have multiple speeds at the same time to different observers?\n",
            "87\n",
            ". So, if you're driving on the highway and someone passes you, they might be traveling 10km/hr faster than you, so it looks like they're traveling 10km/hr faster than you, so it looks like they're traveling 10km/hr faster than you, so it looks like they're traveling 10km/hr faster than you, so it looks like they're traveling 10km/hr faster than you, so it looks like they're traveling 10km/hr faster than you, so it looks like they're traveling 10km/hr faster than you, so it looks like they're traveling 10km/hr faster than you, so it looks like they're traveling\n",
            "frame, but you know that since you're traveling 100km/hr, that their speed with respect to the road must be 110km/hr. Furthermore, you expect everyone else to be able to measure that cars speed with respect to the road to be 110km/hr, regardless of their motion. Unfortunately, none of these expectations are true in relativity. There is no fixed background with which to measure objects velocity, only relative velocities, and different observers don't always agree on the relative velocity of objects.\n",
            "88\n",
            "ize the speed of light to the speed of light. The speed of light is determined by the relative motion of the observer. The speed of light is determined by the relative motion of the observer. The speed of light is determined by the relative motion of the observer. The speed of light is determined by the relative motion of the observer. The speed of light is determined by the relative motion of the observer. The speed of light is determined by the relative motion of the observer. The speed of light is determined by the relative motion of the observer. The speed of light is determined by the relative motion of the observer. The speed of light is determined by the relative motion of the observer. The speed of light is determined by the relative motion\n",
            "velocities of objects change depending on the observers motion. You can google these things to find out more; at the end of the day the whole thing hangs together to create a self-consistent, but weird, framework.Water in liquid form is both cohesive and adhesive, meaning it will stick to surfaces (provided they aren't hydrophobic) and will also stick to other water molecules readily. When you shake the bottle, the water molecules are being thrown into the sides and top of the bottle and some of the molecules are adhering to the surface.\n",
            "89\n",
            "into the bottom of the bottle.  The molecules that stuck to the bottom of the bottle will continue to flow down into the bottom of the bottle, and will continue to flow down into the bottom of the bottle.  The molecules that stuck to the bottom of the bottle will continue to flow down into the bottom of the bottle, and will continue to flow down into the bottom of the bottle.  The molecules that stuck to the bottom of the bottle will continue to flow down into the bottom of the bottle, and will continue to flow down into the bottom of the bottle.  The molecules that stuck to the bottom of the bottle will continue to flow down into the bottom of the bottle, and will continue to flow down into the bottom of the bottle.  The molecules that stuck to the bottom of the bottle will continue to flow down into the bottom of the bottle, and will continue to flow down into the bottom of the bottle.  The molecules that stuck to the bottom of the bottle will continue to flow down into the bottom of the bottle, and will continue to flow down into the\n",
            "the sides.Not a physicist, and didn't watch the video, but i know what you're talking about and I'm an avid diver....and it's kind of lung-related....\n",
            "90\n",
            "when you are in a position where you are in a position where you are in a position where you are in a position where you are in a position where you are in a position where you are in a position where you are in a position where you are in a position where you are in a position where you are in a position where you are in a position where you are in a position where you are in a position where you are in a position where you are in a position where you are in a position where you are in a position where you are in a position where you are in a position where you are in a position where you are in a position where you are in a position where you are in a position where you are in a position where you are in a position where you are in a position where you are in a position where you are in a position where you are in a position where you are in a position where you are in a position where you are in a position where you are in a position where you are in a position where you\n",
            "in the first 10m; the volume of air in your lungs will drop by half in that distance. This decreases your water displacement, decreasing buoyancy, and makes you sink faster.\n",
            "91\n",
            "the weak force introduces some violations of matter-antimatter symmetry.  The weak force introduces some violations of matter-antimatter symmetry, but the weak force introduces some violations of matter-antimatter symmetry.  The weak force introduces some violations of matter-antimatter symmetry, but the\n",
            "unless you are probing weak force phenomena like beta-decay, you won't notice this.Basically, we have these units in our muscle cells called sarcomeres. These things run down the whole length of our muscle. They basically look like interlocking fingers. The \"fingers\", known as the thin and thick filaments\", are composed of proteins. Whenever our nervous system sends a message to contract a certain muscle (therefore the cells that comprise it), there's a sudden surge in calcium within the cells. This calcium essentially causes the \"fingers\" to interlock more through thick and thin filament interactions (the thick filament has proteins that actually \"walk\" across the thin filament). The combined effort of thousands of sarcomeres shortening down the length of the muscle causes what we know as muscle contraction.\n",
            "92\n",
            "'d like.The cells are actually bound to the ECM. Cell detachment occurs when a cell unbinds from the ECM \"skeleton\" and this activates a specific process of apoptosis known as anoikis. I'm not sure how in depth of an explanation you want on anoikis, so if you just google/wiki it you can go as in depth as you'd like.The cells are actually bound to the ECM. Cell detachment occurs when a cell unbinds from the ECM \"skeleton\" and this activates a specific process of apoptosis known as anoikis. I'm not sure how in depth of an\n",
            "want.As far as I know, poison ivy produces an allergen called [urishiol](_URL_0_).  Urishiol is a skin irritant, which means that it will cause a minor reaction in almost everyone.  However, many people, on top of that minor reaction, are actually allergic to urishiol.  That means that, after a first exposure, if you get urishiol on your skin, your immune systems starts to hard-core attack it.  That's how the severe poison ivy reactions start.\n",
            "93\n",
            "is called \"toxic shock\".  The shock is caused by the release of the Na/K-ATPas, which is what causes the cell to stop working.  The Na/K-ATPas is a chemical reaction that causes the cell to stop working.  The Na/K-ATPas is a chemical reaction that causes the cell\n",
            "will cause an influx of Na and cause the cell to become hypertonic and swell due to osmosis, causing damage. The switch from aerobic to anaerobic glycolysis will cause an accumulation of lactic acid, lowering pH which in turn decreases activity of many intracellular enzymes. An influx of Ca will also occur due to failure of Ca-pumps, activating intracellular enzymes (e.g. protease and phospholipase) and causing membrane and mitochondrial damage amongst other things. Defect mitochondria will produce reacive oxygen species to a larger degree (and less ATP) and might leak pro-apoptotic proteins like cytochrome c and anti-IAPs (IAP = Inhibitor of Apoptosis). Reactive Oxygen Species will cause membrane and DNA damage (later causing apoptosis).\n",
            "94\n",
            "and the subsequent death of the patient. This is a very important factor in the development of a heart attack.  The heart is not a perfect organ, but it is a very important organ.  The heart is not a perfect organ, but it is a very important organ.  The heart is not a perfect organ, but it is a very important organ.  The heart is not a perfect organ, but it is a very important organ.  The heart is not a perfect organ, but it is a very important organ.  The heart is not a perfect organ, but it is a very important organ.  The heart is not a perfect organ, but it is a very important organ.  The heart is not a perfect organ, but it is a very important organ.  The heart is not a perfect organ, but it is a very important organ.  The heart is not a perfect organ, but it is a very important organ.  The heart is not a perfect organ, but it is a very important\n",
            "and calcium (influx due to previous membrane damage) and leukocytes (causing an inflammatory reaction and release of free radicals, e.g. due to damage-associated molecular patterns).\n",
            "95\n",
            "the core is not a sufficient source for the damage.  The core is not a sufficient source for the damage, but the core is failure of ion pumps and the core is not a sufficient source for the damage.  The core is not a sufficient source for the damage, but the core is failure of ion pumps and the core is not a sufficient source for the damage.  The core is not a sufficient source for the damage, but the core is failure of ion pumps and the core is not a sufficient source for the damage.  The core is not a sufficient source for the damage, but the core is failure of ion pumps and the core is not a sufficient source for the damage.  The core is not a sufficient source for the damage, but the core is failure of ion pumps and the core is not a sufficient source for the damage.  The core is not a sufficient source for the damage, but the core is failure of ion pumps and the core is not a sufficient source for the damage.  The core is not a sufficient source for the damage, but the core is failure\n",
            "eventually mitochondrial damage. I.e. The fact that they stop working sometimes causes irreversible damage. The dose makes the poison.\n",
            "96\n",
            "1 kg. The velocity of the rock is 1 kg, and the velocity of the rock is 1 kg. The velocity of the rock is 1 kg, and the velocity of the rock is 1 kg. The velocity of the rock is 1 kg, and the velocity of the rock is 1 kg. The velocity of the rock is 1 kg, and the velocity of the rock is 1 kg. The velocity of the rock is 1 kg, and the velocity of the rock is 1 kg. The velocity of the rock is 1 kg, and the velocity of the rock is 1 kg. The velocity of the rock is 1 kg, and the velocity of the rock is 1 kg. The velocity of the rock is 1 kg, and the velocity of the rock is 1 kg. The velocity of the rock is 1 kg, and\n",
            "70 kg, and that you can throw the rock at 20 m/s. Conservation of momentum tells us that you will recoil with about 0.3 m/s which will get you to the space station in just 18 and a half hours.The tesla house battery is a basically a lithium Ion battery,same as yor phone just in Large. Here's a pretty good [link](_URL_0_) to how they work.\n",
            "97\n",
            "is a good example of this.\n",
            "weighs 100KG an can store up to 13.5 Kw/H. That equates to ~4KG of diesel.\n",
            "98\n",
            "to the fact that the charge is not always the same as the charge itself.  The charge is also a very small charge, so it is not always the same as the charge itself.  The charge is also a very small charge, so it is not always the same as the charge itself.  The charge is also a very small charge, so it is not always the same as the charge itself.  The charge is also a very small charge, so it is not always the same as the charge itself.  The charge is also a very small charge, so it is not always the same as the charge itself.  The charge is also a very small charge, so it is not always the same as the charge itself.  The charge is also a very small charge, so it is not always the same as the charge itself.  The charge is also a very small charge, so it is not always the same as the charge itself.  The charge is also a very small charge, so it is not always the same as the charge itself.  The charge is also a very small charge, so it is not always the same as the charge itself.  The charge is\n",
            "to leak currents and even by high temperature.\n",
            "99\n",
            "\n",
            "And likely to not change all to fast, after all li batterys were around ~1915.\n",
            "100\n",
            "of the material. The energy of the material is determined by the amount of energy that is generated by the material. The energy of the material is determined by the amount of energy that is generated by the material. The energy of the material is determined by the amount of energy that is generated by the material. The energy of the material is determined by the amount of energy that is generated by the material. The energy of the material is determined by the amount of energy that is generated by the material. The energy of the material is determined by the amount of energy that is generated by the material. The energy of the material is determined by the amount of energy that is generated by the material. The energy of the material is determined by the amount of energy that is generated by the material. The energy of the material is determined by the amount of energy that is generated by the material. The energy of the material is determined by the amount of energy that is generated by the material. The energy of the material is determined by the amount of\n",
            "levels of the electrons in the molecule using quantum mechanics. The light that is absorbed and re-emitted (reflection on a microscopic scale) depends on the difference between these levels.So a few points on this...\n",
            "101\n",
            "best way to do it.\n",
            "Gulf Stream responsible for the warmer-than-expected temperatures for Europe. Other leading theories include:\n",
            "102\n",
            "into the ocean. This means that the ocean is more likely to be warmer than the Atlantic, and that the ocean is more likely to be warmer than the Atlantic.  This means that the ocean is more likely to be warmer than the Atlantic, and that the ocean is more likely to be warmer than the Atlantic.  This means that the ocean is more likely to be warmer than the Atlantic, and that the ocean is more likely to be warmer than the Atlantic.  This means that the ocean is more likely to be warmer than the Atlantic, and that the ocean is more likely to be warmer than the Atlantic.  This means that the ocean is more likely to be warmer than the Atlantic, and that the ocean is more likely to be warmer than the Atlantic.  This means that the ocean is more likely to be warmer than the Atlantic, and that the ocean is more likely to be warmer than the Atlantic.  This means that the ocean is more likely to be warmer than the Atlantic, and that the ocean is more likely to be warmer than the Atlantic.\n",
            "during the winter, and the prevailing jet stream carries that heat eastwards from the Atlantic over the European continent. [This PDF](_URL_0_) has a more technical read on that.\n",
            "103\n",
            "downwind. This is why the Rockies are so hot, and why the Rockies are so hot. The Rockies are also the only place in the world where the Rockies are hot. The Rockies are also the only place in the world where the Rockies are hot.The Rockies are also the only place in the world where the Rockies are hot. The Rockies are also the only place in the world where the Rockies are hot. The Rockies are also the only place in the world where the Rockies are hot.The Rockies are also the only place in the world where the Rockies are hot. The Rockies are also the only place in the world where the Rockies are hot.The Rockies are also the only place in the world where the Rockies are hot. The Rockies are also the only place in the world where the Rockies are hot.The Rockies are also the only place in the world where the Rockies are hot. The Rockies are also the only place in the world where the Rockies are hot.The Rockies are also the only place in the world where\n",
            "downwards to bring colder air south over Eastern North America. As the jet stream continues around the globe, the upswing of that wave then brings warm air northwards over Europe. More on that in [this PDF](_URL_1_).\n",
            "104\n",
            "the different factors that make up the equation.  The first is that the two factors are not mutually exclusive.  The second is that the two factors are mutually exclusive.  The third is that the two factors are mutually exclusive.  The fourth is that the two factors are mutually exclusive.  The fourth is that the two factors are mutually exclusive.  The fourth is that the two factors are mutually exclusive.  The fourth is that the two factors are mutually exclusive.  The fourth is that the two factors are mutually exclusive.  The fourth is that the two factors are mutually exclusive.  The fourth is that the two factors are mutually exclusive.  The fourth is that the two factors are mutually exclusive.  The fourth is that the two factors are mutually exclusive.  The fourth is that the two factors are mutually exclusive.  The fourth is that the two factors are mutually exclusive.  The fourth is that the two factors are mutually exclusive.  The fourth is that the two factors are mutually exclusive.  The fourth is that the two factors are mutually exclusive.  The fourth is that the two factors are mutually exclusive.  The fourth is that the two factors are mutually exclusive.  The\n",
            "three, though how much is still under debate.\n",
            "105\n",
            "the only state in the United States with a very high water temperature. The reason for this is that the Gulf Stream is a very large, well-dwelling, well-dwelling, well-dwelling, well-dwelling, well-dwelling. The reason for this is that the Gulf Stream is a very large, well-dwelling, well-dwelling, well-dwelling, well-dwelling, well-dwelling, well-dwelling, well-dwelling, well-dwelling, well-dwelling, well-dwelling, well-dwelling, well-dwelling, well-dwelling, well-dwelling, well-dwelling, well-dwelling, well-dwelling, well-dwelling, well-dwelling, well-dwelling, well-dwelling, well-dwelling, well-dwelling, well-dwelling, well-\n",
            "actually located farther north than Monterey, CA; however, Virginia Beach ocean temperatures can reach 30 C (83 F) in summer, while Monterey barely reaches 16 C (60 F) in summer.\n",
            "106\n",
            "any of the same. The Atlantic Ocean is a bit of a stretch, but it's a good place to start. The Atlantic Ocean is a bit of a stretch, but it's a good place to start. The Atlantic Ocean is a bit of a stretch, but it's a good place to start. The Atlantic Ocean is a bit of a stretch, but it's a good place to start. The Atlantic Ocean is a bit of a stretch, but it's a good place to start. The Atlantic Ocean is a bit of a stretch, but it's a good place to start. The Atlantic Ocean is a bit of a stretch, but it's a good place to start. The Atlantic Ocean is a bit of a stretch, but it's a good place to start. The Atlantic Ocean is a bit of a stretch, but it's a good place to start. The Atlantic Ocean is a bit of a stretch, but it's a good place to start. The Atlantic Ocean is\n",
            "much of the Gulf Stream's heat. Additionally, that atmospheric wave set up by the Rockies tends to pull colder air southwards over the region, cooling Eastern North America further.[Sort of](_URL_0_). This study shows small gains from higher temperatures.\n",
            "107\n",
            "the length of the hand washing.  The longer the hand washing is, the longer the hand washing is.  The longer the hand washing is, the longer the hand washing is.  The longer the hand washing is, the longer the hand washing is.  The longer the hand washing is, the longer the hand washing is.  The longer the hand washing is, the longer the hand washing is.  The longer the hand washing is, the longer the hand washing is.  The longer the hand washing is, the longer the hand washing is.  The longer the hand washing is, the longer the hand washing is.  The longer the hand washing is, the longer the hand washing is.  The longer the hand washing is, the longer the hand washing is.  The longer the hand washing is, the longer the hand washing is.  The longer the hand washing is, the longer the hand washing is.  The longer the hand washing is, the longer the hand washing is.  The longer the hand washing is, the longer the hand washing is.  The longer the hand washing is, the longer the hand washing is.  The longer the hand\n",
            "the water temperature.That often quoted claim is a bit misleading.\n",
            "108\n",
            "of the ocean.  The surface of the ocean we have had relatively easy access to most of for millenia - for the harder to get at parts of the ocean.  The surface of the ocean we have had relatively easy access to most of for millenia - for the harder to get at parts of the ocean.  The surface of the ocean we have had relatively easy access to most of for millenia - for the harder to get at parts of the ocean.  The surface of the ocean we have had relatively easy access to most of for millenia - for the harder to get at parts of the ocean.  The surface of the ocean we have had relatively easy access to most of for millenia - for the harder to get at parts of the ocean.  The surface of the ocean we have had relatively easy access to most of for millenia - for the harder to get at parts of the ocean.  The surface of the ocean we have had relatively easy access to most of for millenia\n",
            "[the polar oceans and seas] a bit more than a century. In the last decades or so, we've added satellite-based observational capacity. So we know the surface waters quite well.\n",
            "109\n",
            "it is not there.  The reason why life is so abundant is because it is not there is no reason to believe that life is there.  The reason why life is so abundant is because it is not there.  The reason why life is so abundant is because it is not there.  The reason why life is so abundant is because it is not there.  The reason why life is so abundant is because it is not there.  The reason why life is so abundant is because it is not there.  The reason why life is so abundant is because it is not there.  The reason why life is so abundant is because it is not there.  The reason why life is so abundant is because it is not there.  The reason why life is so abundant is because it is not there.  The reason why life is so abundant is because it is not there.  The reason why life is so abundant is because it is not there.  The reason why life is so abundant is because it is not there.  The\n",
            "photosynthesis. This is where plancton abounds, and the food chain which depends on plancton. So the part of the ocean richest in life is also the one we have easiest access to.\n",
            "110\n",
            "clouds are visible.  The sun is also visible from the sun.  The sun is also visible from the sun.  The sun is also visible from the sun.  The sun is also visible from the sun.  The sun is also visible from the sun.  The sun is also visible from the sun.  The sun is also visible from the sun.  The sun is also visible from the sun.  The sun is also visible from the sun.  The sun is also visible from the sun.  The sun is also visible from the sun.  The sun is also visible from the sun.  The sun is also visible from the sun.  The sun is also visible from the sun.  The sun is also visible from the sun.  The sun is also visible from the sun.  The sun is also visible from the sun.  The sun is also visible from the sun.  The sun is also visible from the sun.  The sun is also visible from the sun.  The sun is also visible from the sun.  The sun is\n",
            "and larger critters croak and sink, but otherwise this immense volume of water is comparative desert next to the photic zone.\n",
            "111\n",
            "is the water that is fed by the water. The third is fed by the water that is fed by the water. The fourth is fed by the water that is fed by the water. The fourth is fed by the water that is fed by the water.The fourth is fed by the water that is fed by the water. The fifth is fed by the water that is fed by the water.The fourth is fed by the water that is fed by the water. The fourth is fed by the water that is fed by the water.The fourth is fed by the water that is fed by the water. The fourth is fed by the water that is fed by the water.The fourth is fed by the water that is fed by the water. The fourth is fed by the water that is fed by the water.The fourth is fed by the water that is fed by the water. The fourth\n",
            "[as in \"few and far between\"], is fed by chemautotrophic reactions around black smokers on the bottom. The source of energy here *is not* the sun. It is energy released the transformation of specific chemical compounds [H2S, SO4, CH4, etc.] by bacteria, which are often symbiotic.\n",
            "112\n",
            "of them are not. So the question is, what is the answer?Well, the answer is yes. The answer is yes. The answer is yes. The answer is yes. The answer is yes. The answer is yes. The answer is yes. The answer is yes. The answer is yes. The answer is yes. The answer is yes. The answer is yes. The answer is yes. The answer is yes. The answer is yes. The answer is yes. The answer is yes. The answer is yes. The answer is yes. The answer is yes. The answer is yes. The answer is yes. The answer is yes. The answer is yes. The answer is yes. The answer is\n",
            "of these new species rely on genetic confirmation and observation of full specimens - casual observers of live specimens would just see a few whale-backs cavorting next to their boat and move on with their lives, so these new species may have been unknowingly observed for years prior to us realizing they are new. A live giant reptile would be immediately obvious, and we haven't seen any of those yet, so that makes their survival unlikely in the extreme.\n",
            "113\n",
            "that the species that survived were the ones that survived.  The species that survived were the ones that survived were the ones that survived.  The species that survived were the ones that survived were the ones that survived.  The species that survived were the ones that survived were the ones that survived.  The species that survived were the ones that survived.  The species that survived were the ones that survived.  The species that survived were the ones that survived.  The species that survived were the ones that survived.  The species that survived were the ones that survived.  The species that survived were the ones that survived.  The species that survived were the ones that survived.  The species that survived were the ones that survived.  The species that survived.  The species that survived.  The\n",
            "that there are various ways a \"prehistoric survivor\" may be found - one such is taxonomic revision. For instance, Stromatoporoïds were believed to be extinct since the Paleozoic. Recent studies have however found them to be closely related to a surviving, albeit rare, type of sponge. The same happened with Chaetetids, initially believed to be a group of extinct corals but rediscovered as a unique type of sponge.\n",
            "114\n",
            "water, but it's not used for much.  The reason why it's used is because it's a very important tool for the preservation of the environment.  The reason why it's used is because it's a very important tool for the preservation of the environment.  The reason why it's used is because it's a very important tool for the preservation of the environment.  The reason why it's used is because it's a very important tool for the preservation of the environment.  The reason why it's used is because it's a very important tool for the preservation of the environment.  The reason why it's used is because it's a very important tool for the preservation of the environment.  The reason why it's used is because it's a very important tool for the preservation of the environment.  The reason why\n",
            "neutrons in Nuclear reactors. Theodore Gray, who made the visual elements books sums it up pretty well- \"Look up dysprosium, and you have to go to the fourth page of results before finding anything that isn't a periodic table website's entry for dysprosium, usually an obligatory 'It's an element, so we have to have a page about it' sort of page.\"**Left to Right**\n",
            "115\n",
            "is a very complex system.\n",
            "hits the closer ear first\n",
            "116\n",
            "more than the average of the two.\n",
            "louder at the closer ear\n",
            "117\n",
            "is a term for the distribution of the vertical localization of the vertical localization of the vertical localization of the vertical localization of the vertical localization of the vertical localization of the vertical localization of the vertical localization of the vertical localization of the vertical localization of the vertical localization of the vertical localization of the vertical localization of the vertical localization of the vertical localization of the vertical localization of the vertical localization of the vertical localization of the vertical localization of the vertical localization of the vertical localization of the vertical localization of the vertical localization of the vertical localization of the vertical localization of the vertical localization of the vertical localization of the vertical localization of the vertical localization of the vertical localization of the vertical localization of the vertical localization of the vertical localization of the vertical localization of the vertical localization of the vertical localization of the vertical localization of the vertical localization of the vertical localization of the vertical localization of the vertical localization of the vertical localization of the vertical localization of the vertical localization of the vertical localization of the vertical localization of the vertical localization of the vertical\n",
            "*\n",
            "118\n",
            "the brain is not a \"brain\" but rather a \"brain\" that is \"brain\" that is \"brain\" that is \"brain\" that is \"brain\" that is \"brain\" that is \"brain\" that is \"brain\" that is \"brain\" that is \"brain\" that is \"brain\" that is \"brain\" that is \"brain\" that is \"brain\" that is \"brain\" that is \"brain\" that is \"brain\" that is \"brain\" that is \"brain\" that is \"brain\" that is \"brain\" that is \"brain\" that is \"brain\" that is \"brain\" that is \"brain\" that is \"brain\" that is \"brain\" that is \"brain\" that is \"brain\" that is \"brain\" that is \"brain\" that is \"brain\" that is \"brain\" that is \"brain\" that is \"brain\" that is \"brain\" that is \"brain\" that is \"brain\" that is \"brain\" that is \"brain\" that is \"brain\" that is \"brain\" that is \"brain\" that is \"\n",
            "your shoulders will either muffle or reflect sound depending on the source height.\n",
            "119\n",
            "backwards, the Earth is a very small planet, and the Earth is a very large planet.  The Earth is a very small planet, and the Earth is a very large planet.  The Earth is a very small planet, and the Earth is a very large planet.  The Earth is a very small planet, and the Earth is a very large planet.  The Earth is a very small planet, and the Earth is a very large planet.  The Earth is a very small planet, and the Earth is a very large planet.  The Earth is a very small planet, and the Earth is a very large planet.  The Earth is a very small planet, and the Earth is a very large planet.  The Earth is a very small planet, and the Earth is a very large planet.  The Earth is a very small planet, and the Earth is a very large planet.  The Earth is a very small planet, and the Earth is a very large planet.  The Earth is a very small planet, and the Earth is a very large planet.  The Earth is a very small planet, and the Earth is a very large planet.  The Earth is a very small planet, and the\n",
            "backwards**\n",
            "120\n",
            "between the two planes.  The ears are symmetrical in the plane, but the ears are symmetrical in the plane.  The ears are symmetrical in the plane, but the ears are symmetrical in the plane.  The ears are symmetrical in the plane, but the ears are symmetrical in the plane.  The ears are symmetrical in the plane, but the ears are symmetrical in the plane.  The ears are symmetrical in the plane, but the ears are symmetrical in the plane.  The ears are symmetrical in the plane, but the ears are symmetrical in the plane.  The ears are symmetrical in the plane, but the ears are symmetrical in the plane.  The ears are symmetrical in the plane, but the ears are symmetrical in the plane.  The ears are symmetrical in the plane, but the ears are symmetrical in the plane.  The ears are symmetrical in the plane, but the ears are symmetrical in the plane.  The ears are symmetrical in the plane\n",
            "in the time delay and amplitude of certain frequencies, as they are either reflected or 'muffled' by the outer ear. More authoritative data would certainly be welcomed.\n",
            "121\n",
            "as the reactions that release the energy of the food you eat.  The reaction that releases the energy of the food you eat is the reaction that releases the energy of the food you eat.  The reaction that releases the energy of the food you eat is the reaction that releases the energy of the food you eat.  The reaction that releases the energy of the food you eat is the reaction that releases the energy of the food you eat.  The reaction that releases the energy of the food you eat is the reaction that releases the energy of the food you eat.  The reaction that releases the energy of the food you eat is the reaction that releases the energy of the food you eat.  The reaction that releases the energy of the food you eat is the reaction that releases the energy of the food you eat.  The reaction that releases the energy of the food you eat is the reaction that releases the energy of the food you eat.  The reaction that releases the energy of the food you eat is the reaction that releases the energy of the food you eat.  The reaction that releases\n",
            "reactions of lighting said food on fire, but slowed down and controlled so that the energy is useful to you, rather than just coming out as heat.\n",
            "122\n",
            "and then use it to form a solid solid. The water is then heated to a point where it can be heated to a point where it can be heated to a point where it can be heated to a point where it can be heated to a point where it can be heated to a point where it can be heated to a point where it can be heated to a point where it can be heated to a point where it can be heated to a point where it can be heated to a point where it can be heated to a point where it can be heated to a point where it can be heated to a point where it can be heated to a point where it can be heated to a point where it can be heated to a point where it can be heated to a point where it can be heated to a point where it can be heated to a point where it can be heated to a point where it can be heated to a point where it can be heated to a point where it can be heated to a point where it can be heated to a point where it can be heated to a point where it can be heated\n",
            "combining what's left to make sugars (C6H12O6)n and free oxygen (O2) as a waste product.\n",
            "123\n",
            "a very long time for the atoms to bond.  The energy of the atoms is very small, and the energy of the atoms is very small.  The energy of the atoms is very small, and the energy of the atoms is very small.  The energy of the atoms is very small, and the energy of the atoms is very small.  The energy of the atoms is very small, and the energy of the atoms is very small.  The energy of the atoms is very small, and the energy of the atoms is very small.  The energy of the atoms is very small, and the energy of the atoms is very small.  The energy of the atoms is very small, and the energy of the atoms is very small.  The energy of the atoms is very small, and the energy of the atoms is very small.  The energy of the atoms is very small, and the energy of the atoms is very small.  The energy of the atoms is very small, and the energy of the atoms is very small.  The energy of the atoms is very small,\n",
            "a lot of energy to break those bonds. The separated sugar and oxygen molecules have weaker bonds, and thus aren't as stable, and are stuck in a high-energy state.\n",
            "124\n",
            "body is not able to re-combine with the sugar, so it is not able to re-combine with the sugar.  This is why you can't re-combine with the sugar.  This is why you can't re-combine with the sugar.  This is why you can't re-combine with the sugar.  This is why you can't re-combine with the sugar.  This is why you can't re-combine with the sugar.  This is why you can't re-combine with the sugar.  This is why you can't re-combine with the sugar.  This is why you can't re-combine with the sugar.  This is why you can't re-combine with the sugar.  This is why you can't re-combine with the sugar.  This is why you can't re-combine with\n",
            "body doesn't do this reaction in one step, but instead forces it to proceed through a lot of intermediate cellular machinery which siphons off a large fraction of that energy, which is then used to preform all the essential functions of life.\n",
            "125\n",
            "shapes, and the shape of the ice is different.  The shape of the ice is different, and the shape of the ice is different.  The shape of the ice is different, and the shape of the ice is different.  The shape of the ice is different, and the shape of the ice is different.  The shape of the ice is different, and the shape of the ice is different.  The shape of the ice is different, and the shape of the ice is different.  The shape of the ice is different\n",
            "kinds of halos when light reflects from the inside surface of the crystal. Sometimes they can be circular, sometimes curved or upright pillars like this. More information [here](_URL_0_). Click on the different types of pillars on the left hand side for pictures of how the light reflects inside the crystals.>  So, my understanding is that you take matter and transfer its \"information\" (quantum state, etc) to a medium--thereby destroying the original (doesn't violate Heisenberg), and recreate the same \"information\" in matter at some distant area... hence, teleportation.\n",
            "126\n",
            "particular species.\n",
            "sci-fi concept which we have no reason to believe could work in reality.\n",
            "127\n",
            "on the subject.\n",
            "on [Quantum Teleportation](_URL_0_):\n",
            "128\n",
            ", because it is not a \"quantum teleportation\" method.  Quantum teleportation is a process by which a qubit (the basic unit of quantum information) can be transmitted exactly (in principle) from one location to another, without the qubit being transmitted through the intervening space. It is useful for quantum information processing, however, because it is not a \"quantum teleportation\" method.  Quantum teleportation is a process by which a qubit (the basic unit of quantum information) can be transmitted exactly (in principle) from one location to another, without the qubit being transmitted through the intervening space. It is useful for quantum information processing, however, because it is not a \"quantum teleportation\" method.  Quantum teleportation is a process by which a qubit (the basic unit of quantum information) can be transmitted exactly (in principle) from one location to another, without the qubit being transmitted through\n",
            "it does not immediately transmit classical information, and therefore cannot be used for communication at superluminal (faster than light) speed. Quantum teleportation is unrelated to the common term teleportation - it does not transport the system itself, and does not concern rearranging particles to copy the form of an object.\"\n",
            "129\n",
            "neighbor.  This is a very simple process, but it's not a very efficient way to do it.  The problem is that the entanglement approach is not very efficient.  The problem is that the entanglement approach is not very efficient.  The problem is that the entanglement approach is not very efficient.  The problem is that the entanglement approach is not very efficient.  The problem is that the entanglement approach is not very efficient.  The problem is that the entanglement approach is not very efficient.  The problem is that the entanglement approach is not very efficient.  The problem is that the entanglement approach is not very efficient.  The problem is that the entanglement approach is not very efficient.  The problem is that the entanglement approach is not very efficient.  The problem is that the entanglement approach is not very efficient.  The problem is\n",
            "location.  Only then can you perform \"teleportation\", and what you're actually teleporting are quantum states.  That's why the Chinese experiments use photons: they're quick and relatively easy to move around (at the speed of light) without becoming entangled with something else along the way, ruining the experiment.\n",
            "130\n",
            "same way.  But you'd have to do it in a different way.  So, you'd have to do it in different ways.  So, you'd have to do it in different ways.  So, you'd have to do it in different ways.  So, you'd have to do it in different ways.  So, you'd have to do it in different ways.  So, you'd have to do it in different ways.  So, you'd have to do it in different ways.  So, you'd have to do it in different ways.  So, you'd have to do it in different ways.  So, you'd have to do it in different ways.  So, you'd have to do it in different ways.  So, you'd have to do it in different ways.  So, you'd have to do it in different ways.  So, you'd have to do it in different ways.  So, you'd have to do it in different ways.  So, you'd have to do it in different ways.  So, you\n",
            "entangled matter to the distant location, which rather puts a damper on the whole \"beam me up\" thing.\n",
            "131\n",
            "is not a constant). So if you want to use a 100% efficiency, you need to use a 100% efficiency. The main difference is that the current will be a constant, so you can't use a 100% efficiency.The main difference is that the current will be a constant, so you can't use a 100% efficiency. The main difference is that the current will be a constant, so you can't use a 100% efficiency. The main difference is that the current will be a constant, so you can't use a 100% efficiency. The main difference is that the current will be a constant, so you can't\n",
            "better have a power rating of 264.5W or higher otherwise it'll smoke real quick). However if you decrease the load resistance thus increasing current you will eventually reach the point at which the transformer will struggle to maintain its voltage because power must be conserved. Therefore the voltage on the secondary will droop to accommodate the increased current. This also results on lots of heat and eventually the transformer or circuit will destroy itself unless added protections are added (voltage monitors, fuses, etc.)\n",
            "132\n",
            "the other half of the whale's skull is more likely to be a bit more accurate.  The fact that the whale's skull is more likely to be a bit more accurate is due to the fact that the whale's skull is more likely to be a bit more accurate.  The fact that the whale's skull is more likely to be a bit more accurate is due to the fact that the whale's skull is more likely to be a bit more accurate.  The fact that the whale's skull is more likely to be a bit more accurate is due to the fact that the whale's skull is more likely to be a bit more accurate.  The fact that the whale's skull is more likely to be a bit more accurate is due to the fact that the whale's skull is more likely to be a bit more accurate is due to the fact that the whale's skull is more likely to be a bit more accurate.  The fact that the whale's skull is more likely\n",
            "sharks bite and get the flavor and mouth-feel.  So it's probably a lot easier for the killer whale to \"see\" from a distance that a human is not ordinary food, while a shark wouldn't necessarily even know until it had already taken a bite.\n",
            "133\n",
            "extinction have occurred in the past.  The fact that the whales are more likely to be killed by humans is a major reason why the whales are so often killed by humans is a major reason why the whales are so often killed by humans.  The fact that the whales are more likely to be killed by humans is a major reason why the whales are so often killed by humans is a major reason why the whales are so often killed by humans is a major reason why the whales are so often killed by humans is a major reason why the whales are so often killed by humans is a major reason why the whales are so often killed by humans is a major reason why the whales are so often killed by humans is a major reason why the whales are so often killed by humans is a major reason why the whales are so often killed by humans is a major reason why the whales are so often killed by humans is a major reason why the whales are so often killed by humans is a major reason why the whales are so often killed by humans is a major reason why\n",
            "attacks on humans are known.Some people would deny that this is even a scientific question, because there isn't a good definition of 'consciousness'. Here's my replies from a previous similar question:\n",
            "134\n",
            "Intelligence.\n",
            "Intelligence who has read a lot about the 'consciousness' debate.\n",
            "135\n",
            "\n",
            "I think a lot of people who believe in the mystery of consciousness are closet dualists who want to believe in the soul.\n",
            "136\n",
            ", and others.\n",
            "and Hoftstadter in the last 30 years. I would specifically recommend 'Consciousness Explained\" by Dennett, and this wikipedia page:\n",
            "137\n",
            ") and the other two are the same.  The first is that the two are the same, and the second is that the two are the same.  The third is that the two are the same, and the third is that the two are the same.  The fourth is that the two are the same, and the fourth is that the two are the same.  The fourth is that the two are the same, and the fourth is that the two are the same.  The fourth is that the two are the same, and the fourth is that the two are the same.  The fourth is that the two are the same, and the fourth is that the two are the same.  The fourth is that the two are the same, and the fourth is that the two are the same.  The fourth is that the two are the same, and the fourth is that the two are the same.  The fourth is that the two are the same, and the fourth is that the two are the same.  The fourth is that the two are the same, and the fourth is that the two are the same.  The fourth is that the two are the same, and the fourth is that\n",
            "\n",
            "138\n",
            "and that's why we're so excited about it.\n",
            "like vision and attention, proprioception, motor activity... and some processes we know less about like language and memory.\n",
            "139\n",
            "and even the elderly.  The most common form of sensory deprivation is the use of a computer to control the movements of the brain.  The most common form of sensory deprivation is the use of a computer to control the movements of the brain.  The most common form of sensory deprivation is the use of a computer to control the movements of the brain.  The most common form of sensory deprivation is the use of a computer to control the movements of the brain.  The most common form of sensory deprivation is the use of a computer to control the movements of the brain.  The most common form of sensory deprivation is the use of a computer to control the movements of the brain.  The most common form of sensory deprivation is the use of a computer to control the movements of the brain.  The most common form of sensory deprivation is the use of a computer to control the movements of the brain.  The most common form of sensory deprivation is the use of a computer to control the movements of the brain.\n",
            "monkeys, slugs, Cyborg Stephen Hawking, amoebae... they all experience information and take action, and in between process the information in some way. There's no level of processing at which we suddenly say \"this thing has the special property of experiencing consciousness\".\n",
            "140\n",
            "like to think of as \"thought\", then we can use the term \"thought\" to describe them. The first is that we can use the term \"thought\" to describe them. The second is that we can use the term \"thought\" to describe them. The third is that we can use the term \"thought\" to describe them. The fourth is that we can use the term \"thought\" to describe them. The fourth is that we can use the term \"thought\" to describe them. The fourth is that we can use the term \"thought\" to describe them. The fourth is that we can use the term \"thought\" to describe them. The fourth is that we can use the term \"thought\" to describe them. The fourth is that we can use the term \"thought\" to describe them. The fourth is that we can use the term \"thought\" to describe them. The fourth is that we can use the term \"thought\" to describe them. The fourth is that we can use the term \"thought\" to describe them. The fourth is that we can use\n",
            "understand quite well, like the early stages of vision, we have a good understanding of exactly how neurons compute and transform images:\n",
            "141\n",
            ") and the other two are the same.  The reason for this is that the two are not mutually exclusive.  The reason for this is that the two are mutually exclusive.  The reason for this is that the two are mutually exclusive.  The reason for this is that the two are mutually exclusive.  The reason for this is that the two are mutually exclusive.  The reason for this is that the two are mutually exclusive.  The reason for this is that the two are mutually exclusive.  The reason for this is that the two are mutually exclusive.  The reason for this is that the two are mutually exclusive.  The reason for this is that the two are mutually exclusive.  The reason for this is that the two are mutually exclusive.  The reason for this is that the two are mutually exclusive.  The reason for this is that the two are mutually exclusive.  The reason for this is that the two are mutually exclusive.  The reason for this is that the two are mutually exclusive.  The reason for this is that the two are mutually exclusive.  The reason for this is that the two are mutually exclusive.  The reason for this is that the two are mutually exclusive.\n",
            "\n",
            "142\n",
            "that we are not conscious, and that we are not conscious. But if you are conscious, then you are not conscious. If you are not conscious, then you are not conscious. If you are not conscious, then you are not conscious. If you are not conscious, then you are not conscious. If you are not conscious, then you are not conscious. If you are not conscious, then you are not conscious. If you are not conscious, then you are not conscious. If you are not conscious, then you are not conscious. If you are not conscious, then you are not conscious. If you are not conscious, then you are not conscious. If you are not conscious, then you are not conscious. If you are not conscious, then you are not conscious. If you are not conscious, then you are not conscious. If you are not conscious, then you are not conscious. If you are not conscious, then you are not conscious. If you are not conscious, then you are not conscious. If you are not conscious, then you are not conscious. If you are not conscious, then you are not conscious\n",
            "our thought \"emerges\" from or is \"an emergent property of\" the low-level functioning of all of our neurons.\n",
            "143\n",
            "complex that we can't really know how the ants build together.  The ants are just a bunch of ants that are just a bunch of ants that are just a bunch of ants that are just a bunch of ants that are just a bunch of ants that are just a bunch of ants that are just a bunch of ants that are just a bunch of ants that are just a bunch of ants that are just a bunch of ants that are just a bunch of ants that are just a bunch of ants that are just a bunch of ants that are just a bunch of ants that are just a bunch of ants that are just a bunch of ants that are just a bunch of ants that are just a bunch of ants that are just a bunch of ants that are just a bunch of ants that are just a bunch of ants that are just a bunch of ants that are just a bunch of ants that are just a bunch of ants that are just a\n",
            "dynamic as to be analogous to the weather - we understand low-level physics very well, but we still can't say if it'll rain in Boston in 6 days time - the processes are just too complex.To expand on Search_Bot with some other differences between black holes and our universe:\n",
            "144\n",
            "else. The universe is expanding, and the universe is expanding. The universe is expanding. The universe is expanding. The universe is expanding. The universe is expanding. The universe is expanding. The universe is expanding. The universe is expanding. The universe is expanding. The universe is expanding. The universe is expanding. The universe is expanding. The universe is expanding. The universe is expanding. The universe is expanding. The universe is expanding. The universe is expanding. The universe is expanding. The universe is expanding. The universe is expanding. The universe is expanding. The universe is expanding. The universe is expanding. The universe is expanding. The universe is expanding. The universe is expanding. The universe is expanding. The universe is expanding. The universe is expanding. The universe is expanding. The universe is expanding. The universe is expanding. The universe is expanding. The universe is expanding. The universe is expanding. The universe is expanding. The universe is expanding. The universe is expanding. The universe\n",
            "else (that is, inflation is happening *everywhere*). Regardless of whether any of the black hole theories are correct (and there is no evidence suggesting they are), we definitely are not \"literally\" inside of a black hole.In fact, this was asked [just today](_URL_0_).\n",
            "145\n",
            "the same speed.  The reason is that the speed of light is dependent on the speed of light.  The speed of light is dependent on the speed of light.  The speed of light is dependent on the speed of light.  The speed of light is dependent on the speed of light.  The speed of light is dependent on the speed of light.  The speed of light is dependent on the speed of light.  The speed of light is dependent on the speed of light.  The speed of light is dependent on the speed of light.  The speed of light is dependent on the speed of light.  The speed of light is dependent on the speed of light.  The speed of light is dependent on the speed of light.  The speed of light is dependent on the speed of light.  The speed of light is dependent on the speed of light.  The speed of light is dependent on the speed of light.  The speed of light is dependent on the speed of light.  The speed of light is dependent on the speed of light.  The speed of light is dependent on the speed\n",
            "each other to exert a force. I'd recommend reading [this article](_URL_1_) which clarifies things quite nicely.Non-Newtonian Fluids\n",
            "146\n",
            ") and the other two are the same.  The reason for this is that the two are not mutually exclusive.  The reason for this is that the two are mutually exclusive.  The reason for this is that the two are mutually exclusive.  The reason for this is that the two are mutually exclusive.  The reason for this is that the two are mutually exclusive.  The reason for this is that the two are mutually exclusive.  The reason for this is that the two are mutually exclusive.  The reason for this is that the two are mutually exclusive.  The reason for this is that the two are mutually exclusive.  The reason for this is that the two are mutually exclusive.  The reason for this is that the two are mutually exclusive.  The reason for this is that the two are mutually exclusive.  The reason for this is that the two are mutually exclusive.  The reason for this is that the two are mutually exclusive.  The reason for this is that the two are mutually exclusive.  The reason for this is that the two are mutually exclusive.  The reason for this is that the two are mutually exclusive.  The reason for this is that the two are mutually exclusive.\n",
            "\n",
            "147\n",
            ", but it will not shatter.  You can also use a toothbrush to make a toothbrush.  You can also use a toothbrush to make a toothbrush.  You can also use a toothbrush to make a toothbrush.  You can also use a toothbrush to make a toothbrush.  You can also use a toothbrush to make a toothbrush.  You can also use a toothbrush to make a toothbrush.  You can also use a toothbrush to make a toothbrush.  You can also use a toothbrush to make a toothbrush.  You can also use a toothbrush to make a toothbrush.  You can also use a toothbrush to make a toothbrush.  You can also use a toothbrush to make a toothbrush.  You can also use a toothbrush to make a toothbrush.  You can also use a toothbrush to make a toothbrush.  You can also use a toothbrush to make a toothbrush.  You can also use a toothbrush to make a toothbrush.  You can also use a toothbrush to\n",
            "and then pour it through a funnel.Wow, I'm surprised to see a question that is right up my alley!\n",
            "148\n",
            "similarity to the \"pilus\" and \"pilus\" structures.  \"pilus\" is a very similar structure to the \"pilus\" and \"pilus\" structures.  \"pilus\" is a very similar structure to the \"pilus\" and \"pilus\" structures.  \"pilus\" is a very similar structure to the \"pilus\" and \"pilus\" structures.  \"pilus\" is a very similar structure to the \"pilus\" and \"pilus\" structures.  \"pilus\" is a very similar structure to the \"pilus\" and \"pilus\" structures.  \"pilus\" is a very similar structure to the \"pilus\" and \"pilus\" structures.  \"pilus\" is a very similar structure to the \"pilus\" and \"pilus\" structures.  \"pilus\" is a very similar structure to the \"pilus\" and \"pilus\" structures.  \"pilus\" is a very similar structure to the \"pilus\" and \"p\n",
            "resemblance to pili in terms of their composition, but are used for excreting other compounds such as the proteins you have listed.\n",
            "149\n",
            "have a nucleus, and a nucleus will have a nucleus. The nucleus will have a nucleus, and a nucleus will have a nucleus. The nucleus will have a nucleus, and a nucleus will have a nucleus. The nucleus will have a nucleus, and a nucleus will have a nucleus. The nucleus will have a nucleus, and a nucleus will have a nucleus. The nucleus will have a nucleus, and a nucleus will have a nucleus. The nucleus will have a nucleus, and a nucleus will have a nucleus. The nucleus will have a nucleus, and a nucleus will have a nucleus. The nucleus will have a nucleus, and a nucleus will have a nucleus. The nucleus will have a nucleus, and a nucleus will have a nucleus. The nucleus will have a nucleus, and a nucleus will have a nucleus. The nucleus will have a nucleus, and a nucleus will have a nucleus. The nucleus will have a nucleus, and a nucleus will have a nucleus. The nucleus will have a nucleus, and a nucleus will have a nucleus. The nucleus will have a nucleus, and a nucleus will have a nucleus. The nucleus will have a\n",
            "not annihilate with an antiproton, but they will repel each other because they are both negatively charged.\n",
            "150\n",
            "other diseases are all caused by the same process.  The same process is called the \"toxic reaction\" of the protons.  The protons are released into the atmosphere and are released into the atmosphere.  The protons are released into the atmosphere and are released into the atmosphere.  The protons are released into the atmosphere and are released into the atmosphere.  The protons are released into the atmosphere and are released into the atmosphere.  The protons are released into the atmosphere and are released into the atmosphere.  The protons are released into the atmosphere and are released into the atmosphere.  The protons are released into the atmosphere and are released into the atmosphere.  The protons are released into the atmosphere and are released into the atmosphere.  The protons are released into the atmosphere and are released into the atmosphere.  The protons are released into the atmosphere and are released into the atmosphere.  The protons are released into the atmosphere and are released into the atmosphere.  The protons are released into the atmosphere and are\n",
            "chlamydia can all cause hematuria. Technically HIV can cause hematuria if one has renal damage due to the disease progression.\n",
            "151\n",
            "you have hematuria, hematuria is not a strong marker for an STD.  Hematuria is a weak marker for an STD.  Hematuria is a weak marker for an STD.  Hematuria is a weak marker for an STD.  Hematuria is a weak marker for an STD.  Hematuria is a weak marker for an STD.  Hematuria is a weak marker for an STD.  Hematuria is a weak marker for an STD.  Hematuria is a weak marker for an STD.  Hematuria is a weak marker for an STD.  Hematuria is a weak marker for an STD.  Hematuria is a weak marker for an STD.  Hematuria is a weak marker for an STD.  Hematuria is a weak marker for an STD.  Hematuria is a weak marker for an STD.  Hematuria is a weak marker for an STD.  Hematuria is a weak marker for an STD.  Hematuria is a weak marker for an STD.  Hematuria is a\n",
            "someone presents with hematuria we don't immediately jump to STDs as the cause.\n",
            "152\n",
            "are designed to carry the weight of the aircraft. The wing-loading capability of the aircraft is not a problem. The wing-loading capability of the aircraft is not a problem. The wing-loading capability of the aircraft is not a problem.The wing-loading capability of the aircraft is not a problem. The wing-loading capability of the aircraft is not a problem. The wing-loading capability of the aircraft is not a problem.The wing-loading capability of the aircraft is not a problem. The wing-loading capability of the aircraft is not a problem. The wing-loading capability of the aircraft is not a problem.The wing-loading capability of the aircraft is not a problem. The wing-loading capability of the aircraft is not a problem. The wing-loading capability of the aircraft is not a problem.The wing-loading capability of the aircraft is not a problem. The wing-loading capability of the aircraft is not a problem. The wing-loading capability of the\n",
            "are very high performance machines that can fly into extreme maneuvers at high speeds, and it is pretty easy to enter a climb/bank which makes the plane want to enter travel in a different direction than you are very quickly.\n",
            "153\n",
            "be too heavy to withstand the load.The wingsuit is designed to withstand the load of the aircraft. The wingsuit is designed to withstand the load of the aircraft. The wingsuit is designed to withstand the load of the aircraft. The wingsuit is designed to withstand the load of the aircraft.The wingsuit is designed to withstand the load of the aircraft. The wingsuit is designed to withstand the load of the aircraft. The wingsuit is designed to withstand the load of the aircraft. The wingsuit is designed to withstand the load of the aircraft.The wingsuit is designed to withstand the load of the aircraft. The wingsuit is designed to withstand the load of the aircraft. The wingsuit is designed to withstand the load of the aircraft. The wingsuit is designed to withstand the load of the aircraft. The wingsuit is designed to withstand the load of the aircraft.The wingsuit is designed to withstand the load of the aircraft. The wingsuit is designed to withstand the load of the aircraft\n",
            "simply rip apart well before it could apply any significant force to the pilot in order to make them black out.The two units measure the same thing, but they differ by 1000.  It's the same as meters and millimeters.\n",
            "154\n",
            "of charge.\n",
            "of electrical current for 1 hour, 1 amp for 1 millihour, etc.  Ah is \"amp hours\".\n",
            "155\n",
            "found that the density of the graphite was significantly higher than the density of the graphite. The density of the graphite was also significantly higher than the density of the graphite.The graphite is a very thin material, and is very brittle. It is brittle, and has a very high density of the graphite. The density of the graphite is very brittle, and has a very high density of the graphite. The density of the graphite is very brittle, and has a very high density of the graphite. The density of the graphite is very brittle, and has a very high density of the graph\n",
            "find that a simple van der Waals model is not sufficient for an accurate description of interplanar bonding in graphite, the contribution from van der Waals interactions only accounting for ca. 8meV/C of the cohesive energy compared to the total energy of  20meV/C. The rest of the cohesive energy is provided by a variety of \"metallic\" interactions that account for the interaction of electrons in one plane interacting with the ions and electrons in neighboring planes of graphite.This is commonly referred to as a \"Death Spiral\"\n",
            "156\n",
            "not sure if you're familiar with the [6 Simple Steps](_URL_1_), but I'm sure you'll find a lot of them.  The [6 Simple Steps](_URL_2_) is a great example of this.  The [6 Simple Steps](_URL_3_) is a great example of this.  The [6 Simple Steps](_URL_4_) is a great example of this.  The [6 Simple Steps](_URL_5_) is a great example of this.  The [6 Simple Steps](_URL_6_) is a great example of this.  The [6 Simple Steps](_URL_7_) is a great example of this.  The [6 Simple Steps](_URL_8_) is a great example of this.  The [6 Simple Steps](_URL_9_) is a great example of this\n",
            "not sure what level they expect you to be at already, but Feynman was an outstanding teacher, one of the world's best in my opinion.You could give yourself water intoxication if you drink lots of water in a hot climate.\n",
            "157\n",
            "not going to be enough to keep you hydrated.\n",
            "that chemical imbalance that's dangerousFrancis Crick - Molecular Structure of Nucleic acids(DNA)\n",
            "158\n",
            ") and the other two are the same.  The reason for this is that the two are not mutually exclusive.  The reason for this is that the two are mutually exclusive.  The reason for this is that the two are mutually exclusive.  The reason for this is that the two are mutually exclusive.  The reason for this is that the two are mutually exclusive.  The reason for this is that the two are mutually exclusive.  The reason for this is that the two are mutually exclusive.  The reason for this is that the two are mutually exclusive.  The reason for this is that the two are mutually exclusive.  The reason for this is that the two are mutually exclusive.  The reason for this is that the two are mutually exclusive.  The reason for this is that the two are mutually exclusive.  The reason for this is that the two are mutually exclusive.  The reason for this is that the two are mutually exclusive.  The reason for this is that the two are mutually exclusive.  The reason for this is that the two are mutually exclusive.  The reason for this is that the two are mutually exclusive.  The reason for this is that the two are mutually exclusive.\n",
            "\n",
            "159\n",
            "beam from the ground, and then bouncing it back and forth. The second measurement involved bouncing a focused light beam from the ground, and then bouncing it back and forth. The third measurement involved bouncing a focused light beam from the ground, and then bouncing it back and forth.The fourth measurement involved bouncing a focused light beam from the ground, and then bouncing it back and forth. The fourth measurement involved bouncing a focused light beam from the ground, and then bouncing it back and forth.The fourth measurement involved bouncing a focused light beam from the ground, and then bouncing it back and forth.The fourth measurement involved bouncing a focused light beam from the ground, and then bouncing it back and forth.The fourth measurement involved bouncing a focused light beam from the ground, and then bouncing it back and forth.The fourth measurement involved bouncing a focused light beam from the ground, and then bouncing it back and forth.The fourth measurement involved bouncing a focused light beam from the ground, and then bouncing it back and forth.The fourth measurement involved bouncing a focused light beam from the ground, and then bouncing it back and forth.The fourth measurement involved bouncing a focused light beam from\n",
            "off a mirror several kilometers a way and seeing if it was reflected through a gap in a rotating cog.\n",
            "160\n",
            "it is a very small number.  The Fourier transform is the result of the fact that the light is in a very small area.  The Fourier transform is the result of the fact that the light is in a very small area.  The Fourier transform is the result of the fact that the light is in a very small area.  The Fourier transform is the result of the fact that the light is in a very small area.  The Fourier transform is the result of the fact that the light is in a very small area.  The Fourier transform is the result of the fact that the light is in a very small area.  The Fourier transform is the result of the fact that the light is in a very small area.  The Fourier transform is the result of the fact that the light is in a very small area.  The Fourier transform is the result of the fact that the light is in a very small area.  The Fourier transform is the result of the fact that the light is in a\n",
            "of the geometry of the underlying space that we work with.  There is a [very general notion of Fourier Transform](_URL_0_) that works in very weird spaces.\n",
            "161\n",
            "a different one.  The answer is yes.  The answer is yes.  The answer is yes.  The answer is yes.  The answer is yes.  The answer is yes.  The answer is yes.  The answer is yes.  The answer is yes.  The answer is yes.  The answer is yes.  The answer is yes.  The answer is yes.  The answer is yes.  The answer is yes.  The answer is yes.  The answer is yes.  The answer is yes.  The answer is yes.  The answer is yes.  The answer is yes.  The answer is yes.  The answer is yes.  The answer is yes.  The answer is yes.  The answer is yes.  The answer is yes.  The answer is yes.  The answer is yes.  The answer is yes.  The answer is yes.  The answer is yes.  The answer is yes\n",
            "some other quantity that we already know about. If you don't use flat geometry, then you just don't use flat geometry, there are ways around this and we already do it all the time, so it isn't really that big of a deal.\n",
            "162\n",
            "detect them. The most common source of time interference is the \"time\" of the light. The light is not moving at all, it's moving at a slower rate than the light is moving at a faster rate. The light is moving at a slower rate than the light is moving at a slower rate. The light is moving at a slower rate than the light is moving at a slower rate. The light is moving at a slower rate than the light is moving at a slower rate.The light is moving at a slower rate than the light is moving at a slower rate. The light is moving at a slower rate than the light is moving at a slower rate. The light is moving at a slower rate than the light is moving at a slower rate. The light is moving at a slower rate than the light is moving at a slower rate.The light\n",
            "get extremely deterministic timings if you configure the system correctly. I work in a field called \"real-time computing\", where \"real-time\" means that systems are highly predictable rather than fast, and we target safety-critical applications like avionics and industrial control. I have about six years of experience in running time-sensitive workloads, so this is going to be rather long:\n",
            "163\n",
            ". This is because the code is not being read by the computer. This is because the code is being read by the computer. This is because the code is being read by the computer. This is because the code is being read by the computer. This is because the code is being read by the computer. This is because the code is being read by the computer. This is because the code is being read by the computer. This is because the code is being read by the computer. This is because the code is being read by the computer. This is because the code is being read by the computer. This is because the code is being read by the computer. This is because the code is being read by the computer. This is because the code is being read by the computer. This is because the code is being read by the computer. This is because the code is being read by the computer. This is because the code is being read by the computer. This is because the code is being read by the computer. This is because the code is being read by the computer. This is because the code is being read by the computer. This is because the code is being read\n",
            "and other code runs instead. There are three major sources:\n",
            "164\n",
            "a web browser.  The system is also running a lot of other services that consume CPU time, and the system is also running a lot of other services that consume CPU time.  The system is also running a lot of other services that consume CPU time, and the system is also running a lot of other services that consume CPU time.  The system is also running a lot of other services that consume CPU time, and the system is also running a lot of other services that consume CPU time.  The system is also running a lot of other services that consume CPU time, and the system is also running a lot of other services that consume CPU time.  The system is also running a lot of other services that consume CPU time, and the system is also running a lot of other services that consume CPU time.  The system is also running a lot of other services that consume CPU time, and the system is\n",
            "the Read-Copy-Update (RCU) garbage collector on Linux. On Linux it's actually fairly easy to eliminate this interference- using \"real-time\" priorities you're able to prioritize your program above all other programs running on the system- even the operating system itself. This guarantees that no other program runs when your program is trying to run.\n",
            "165\n",
            "to the processor, which is why the OS can't run the appropriate hardware drivers. This is why the OS can't run the appropriate hardware drivers.The problem is that the OS can't run the appropriate hardware drivers. The OS can't run the appropriate hardware drivers. The OS can't run the appropriate hardware drivers. The OS can't run the appropriate hardware drivers. The OS can't run the appropriate hardware drivers. The OS can't run the appropriate hardware drivers. The OS can't run the appropriate hardware drivers. The OS can't run the appropriate hardware drivers. The OS can't run the appropriate hardware drivers. The OS can't run the appropriate hardware drivers. The OS can't run the appropriate hardware drivers. The OS can't run the appropriate hardware drivers. The OS can't run the appropriate hardware drivers. The OS can't run the appropriate hardware drivers. The OS can't run the appropriate hardware drivers. The OS can't run the appropriate hardware drivers. The OS can't run\n",
            "to the system and are necessary to its function, so they can't be eliminated, but you can manage them pretty effectively on multi-core machines by sacrificing one core. You can see how many interrupts are serviced by what processors by looking at /proc/interrupts on Linux.\n",
            "166\n",
            "devices. This is why you can't mask the device's hardware. This is why you can't mask the device's hardware. This is why you can't mask the device's hardware. This is why you can't mask the device's hardware. This is why you can't mask the device's hardware. This is why you can't mask the device's hardware. This is why you can't mask the device's hardware. This is why you can't mask the device's hardware. This is why you can't mask the device's hardware. This is why you can't mask the device's hardware. This is why you can't mask the device's hardware. This is why you can't mask the device's hardware. This is why you can't mask the device's hardware. This is why you can't mask the device's hardware. This is why you can't mask the device's hardware. This is why you can't mask the device's hardware. This is why you can't mask the device's hardware. This is why you can't mask the device\n",
            "processors, so you can dedicate a single processor core (core 0 usually) to handle all maskable interrupts. Then you can tell the OS to never use that core for your program.\n",
            "167\n",
            ", which is a very important part of the system. The main thing that is missing is the [NMR](_URL_0_) which is a very important part of the system. The main thing that is missing is the [NMR](_URL_1_) which is a very important part of the system. The main thing that is missing is the [NMR](_URL_2_) which is a very important part of the system. The main thing that is missing is the [NMR](_URL_3_) which is a very important part of the system. The main thing that is missing is the [NMR](_URL_4_) which is a very important part of the system. The main thing that is missing is the [NMR](_URL_5_) which is a very important part of the system. The main thing that is missing is\n",
            "timer interrupt, but some types of computer hardware will generate them (and with some frequency as well). Fortunately the system designers are aware of these issues, so NMIs tend to be extremely consistent and are exceedingly fast, so they show up in timing measurements as a small inflation of execution time.\n",
            "168\n",
            "of the kernel. This is a very useful tool for dealing with the kernel.The kernel is a very good example of how to do this. The kernel is a very good example of how to do this. The kernel is a very good example of how to do this. The kernel is a very good example of how to do this. The kernel is a very good example of how to do this. The kernel is a very good example of how to do this. The kernel is a very good example of how to do this. The kernel is a very good example of how to do this. The kernel is a very good example of how to do this. The kernel is a very good example of how to do this. The kernel is a very good example of how to do this. The kernel is a very good example of how to do this. The kernel is a very good example of how to do this. The kernel is a very good example\n",
            "of many interrupts serviced by the processors, which means in practice that as much interrupt handling work as possible is deferred until later and run as regular-priority, non-real-time so as not to interfere with a currently running task.\n",
            "169\n",
            "this a \"code failure\". The problem is that the OS is not running on the computer hardware, it's running on the computer hardware. The OS is running on the computer hardware, and the OS is running on the computer hardware. The OS is running on the computer hardware, and the OS is running on the computer hardware. The OS is running on the computer hardware, and the OS is running on the computer hardware. The OS is running on the computer hardware, and the OS is running on the computer hardware. The OS is running on the computer hardware, and the OS is running on the computer hardware. The OS is running on the computer hardware, and the OS is running on the computer hardware. The OS is running on the computer hardware, and the OS is running on the computer hardware. The OS is running on the computer hardware, and the OS is running on the computer hardware. The OS is running on the computer hardware, and the OS is running on the computer hardware. The OS is\n",
            "a lot of functions they didn't write, but they must be very careful about doing so or else they can get bitten by performance bugs. For example, a major source of timing variability is allocators and garbage collectors.\n",
            "170\n",
            "a vector, you're still pushing a lot of space. So, if you push a vector, you're still pushing a lot of space. So, if you push a vector, you're still pushing a lot of space. So, if you push a vector, you're still pushing a lot of space. So, if you push a vector, you're still pushing a lot of space. So, if you push a vector, you're still pushing a lot of space. So, if you push a vector, you're still pushing a lot of space. So, if you push a vector, you're still pushing a lot of space. So, if you push a vector, you're still pushing a lot of space. So, if you push a vector, you're still pushing a lot of space. So, if you push a vector, you're still pushing a\n",
            "the 2048th element that operation takes a huge amount of time. Well, unbeknownst to your C++ vector suddenly ran out of allocated space and suddenly had to call malloc() to get more space on the heap, and malloc() had to call sbrk() to get more memory from the OS, and the OS had to evict some pages from memory to make room, and so forth.\n",
            "171\n",
            "and the garbage collector will not be able to detect the garbage. This is because the garbage collector will not be able to detect the garbage. The garbage collector will not be able to detect the garbage. The garbage collector will not be able to detect the garbage. The garbage collector will not be able to detect the garbage. The garbage collector will not be able to detect the garbage. The garbage collector will not be able to detect the garbage. The garbage collector will not be able to detect the garbage. The garbage collector will not be able to detect the garbage. The garbage collector will not be able to detect the garbage. The garbage collector will not be able to detect the garbage. The garbage collector will not be able to detect the garbage. The garbage collector will not be able to detect the garbage. The garbage collector will not be able to detect the garbage. The garbage collector will not be able to detect the garbage. The garbage collector will not be able to detect the garbage. The garbage collector will not be able to detect the garbage. The garbage collector will not be able to detect the garbage. The garbage collector will not be able to detect the garbage\n",
            "which is obviously bad when you're trying to measure execution time of parts of your code.\n",
            "172\n",
            "life, you'll be able to use the language of your choice to make your life easier.  This is because you're not the only one who has a good understanding of the language of your choice.  You can also use the language of your choice to make your life easier.  This is because you're not the only one who has a good understanding of the language of your choice.  You can also use the language of your choice to make your life easier.  This is because you're not the only one who has a good understanding of the language of your choice.  You can also use the language of your choice to make your life easier.  This is because you're not the only one who has a good understanding of the language of your choice.  You can also use the language of your choice to make your life easier.  This is because you're not the only one who has a good understanding of the language of your choice.  You can also use the language of your choice to make your life\n",
            "program (before you start measuring time) you pre-allocate all of the memory you'll ever need (under worst-case assumptions) and then you lock that into memory using mlockall() (on Linux) so your memory can't be paged out.\n",
            "173\n",
            "to your code.  The problem is that the code that you are using is not the same as the code that you are using, but rather the same code that you are using.  The problem is that the code that you are using is not the same as the code that you are using, but rather the same code that you are using.  The problem is that the code that you are using is not the same as the code that you are using.  The problem is that the code that you are using is not the same as the code that you are using.  The problem is that the code that you are using is not the same as the code that you are using.  The problem is that the code that you are using is not the same as the code that you are using.  The problem is that the code that you are using is not the same as the code that you are using.  The problem is that the code that you are using is not the same as the code that you are using.  The problem is that the code that you are using is not the same as the\n",
            "to or interfere with your time measurements. There are other sources of timing error in a computer system.\n",
            "174\n",
            "scaling. The first is that the voltage is proportional to the voltage. The second is that the voltage is proportional to the voltage. The third is that the voltage is proportional to the voltage. The fourth is that the voltage is proportional to the voltage. The fourth is that the voltage is proportional to the voltage. The fourth is that the voltage is proportional to the voltage. The fourth is that the voltage is proportional to the voltage. The fourth is that the voltage is proportional to the voltage. The fourth is that the voltage is proportional to the voltage. The fourth is that the voltage is proportional to the voltage. The fourth is that the voltage is proportional to the voltage. The fourth is that the voltage is proportional to the voltage. The fourth is that the voltage is proportional to the voltage. The fourth is that the voltage is proportional to the voltage. The fourth is that the voltage is proportional to the voltage. The fourth is that the voltage is proportional to the voltage. The fourth is that the voltage is proportional to the voltage. The fourth is that the voltage is proportional to the voltage.\n",
            "scaling, and the whole technology is usually referred to in the same breath as dynamic voltage and frequency scaling (DVFS).\n",
            "175\n",
            "speed, and you can't run at full speed. This means that you can't run at full speed, and you can't run at full speed. This means that you can't run at full speed, and you can't run at full speed. This means that you can't run at full speed, and you can't run at full speed. This means that you can't run at full speed, and you can't run at full speed. This means that you can't run at full speed, and you can't run at full speed. This means that you can't run at full speed, and you can't run at full speed. This means that you can't run at full speed, and you can't run at full speed. This means that you can't run at full speed, and you can't run at full speed. This means that you can't run at full speed, and you can't run at full speed. This means that you can't run at full speed, and you can't run at full speed. This means that\n",
            "speed all of the time and when there is nothing to do it is simply executing the OS idle loop, usually just checking to see if there's anything new to do.\n",
            "176\n",
            "looking at the [URL](_URL_0_) of the [URL](_URL_1_).\n",
            "Googling for CPU governors.\n",
            "177\n",
            "by the CPU. The CPU sleeps in the same state as the CPU, and the CPU sleeps in the same state as the CPU. The CPU sleeps in the same state as the CPU, and the CPU sleeps in the same state as the CPU.The CPU sleeps in the same state as the CPU, and the CPU sleeps in the same state as the CPU. The CPU sleeps in the same state as the CPU, and the CPU sleeps in the same state as the CPU.The CPU sleeps in the same state as the CPU, and the CPU sleeps in the same state as the CPU. The CPU sleeps in the same state as the CPU, and the CPU sleeps in the same state as the CPU.The CPU sleeps in the same state as the CPU, and the CPU sleeps in the same state as the CPU. The CPU sleeps in the same state as the CPU, and the CPU sleeps in the same state as the CPU.The CPU sleeps in the same state as the CPU, and the CPU sleeps in the same state as the CPU. The CPU sleeps in the same state as the CPU, and the CPU sleeps in\n",
            "at a BIOS level by the Advanced Configuration and Power Interface (ACPI) that should be disabled in the BIOS.\n",
            "178\n",
            "to do this. The problem is that the CPU is not able to do this. The CPU can't do this. The CPU can't do this. The CPU can't do this. The CPU can't do this. The CPU can't do this. The CPU can't do this. The CPU can't do this. The CPU can't do this. The CPU can't do this. The CPU can't do this. The CPU can't do this. The CPU can't do this. The CPU can't do this. The CPU can't do this. The CPU can't do this. The CPU can't do this. The CPU can't do this. The CPU can't do this. The CPU can't do this. The CPU can't do this. The\n",
            "to provide nanosecond-level resolution, but there are still a lot of scenarios out there where resolution is limited. For example, a classic time source is the Programmable Interrupt Timer (PIT) which has a basic frequency of 1193182Hz, meaning a fundamental resolution of 0.84 microseconds. Older systems (Linux particularly) may have a fundamental resolution of 1 millisecond due to the way that time and timer events were managed.\n",
            "179\n",
            "the full list of the steps.  The clock_getres() man page is a very useful tool for getting started on Linux.  The clock_getres() man page is a very useful tool for getting started on Linux.  The clock_getres() man page is a very useful tool for getting started on Linux.  The clock_getres() man page is a very useful tool for getting started on Linux.  The clock_getres() man page is a very useful tool for getting started on Linux.  The clock_getres() man page is a very useful tool for getting started on Linux.  The clock_getres() man page is a very useful tool for getting started on Linux.  The clock_getres() man page is a very useful tool for getting started on Linux.  The clock_getres() man page is a very useful tool for getting started on Linux.  The clock_getres() man page is a very useful tool for getting started on Linux.  The clock_getres() man page is a very useful tool for getting started on Linux.  The clock_getres() man\n",
            "instructions on determining your timer resolution:\n",
            "180\n",
            ") and the other two are the same.  The first is that the two are the same, and the second is that the two are the same.  The third is that the two are the same, and the third is that the two are the same.  The fourth is that the two are the same, and the fourth is that the two are the same.  The fourth is that the two are the same, and the fourth is that the two are the same.  The fourth is that the two are the same, and the fourth is that the two are the same.  The fourth is that the two are the same, and the fourth is that the two are the same.  The fourth is that the two are the same, and the fourth is that the two are the same.  The fourth is that the two are the same, and the fourth is that the two are the same.  The fourth is that the two are the same, and the fourth is that the two are the same.  The fourth is that the two are the same, and the fourth is that the two are the same.  The fourth is that the two are the same, and the fourth is that\n",
            "\n",
            "181\n",
            "computer, I have a timer that is about 1ns. So I can tell you that the time of the event is 1ns. So I can tell you that the time of the event is 1ns. So I can tell you that the time of the event is 1ns. So I can tell you that the time of the event is 1ns. So I can tell you that the time of the event is 1ns. So I can tell you that the time of the event is 1ns. So I can tell you that the time of the event is 1ns. So I can tell you that the time of the event is 1ns. So I can tell you that the time of the event is 1ns. So I can tell you that the time of the event is 1ns. So I can tell you that the time of the event is 1ns. So I can tell you that the time of the event is 1ns. So I can tell you that the time of\n",
            "machine I'm sitting at it takes about 50,000ns just to call the code to ask what time it is. This causes a whole separate issue called jitter which may cause problems in different types of applications.\n",
            "182\n",
            "doesn't work.  The problem is that the algorithm is not deterministic, and the algorithm is not deterministic.  The problem is that the algorithm is deterministic, and the algorithm is not deterministic.  The problem is that the algorithm is deterministic, and the algorithm is not deterministic.  The problem is that the algorithm is deterministic, and the algorithm is not deterministic.  The problem is that the algorithm is deterministic, and the algorithm is not deterministic.  The problem is that the algorithm is deterministic, and the algorithm is not deterministic.  The problem is that the algorithm is deterministic, and the algorithm is not deterministic.  The problem is that the algorithm is deterministic, and the algorithm is not deterministic.  The problem is that the algorithm is deterministic, and the algorithm is not deterministic.  The problem is that the algorithm is\n",
            "so happens that size=150 happens to take longer than both 100 and 200 due to a weird cache conflict. That's an undesirable result you might want to investigate and eliminate, but the behavior at this point should be consistent that size=150 always takes longer than the other two sizes.\n",
            "183\n",
            "The more you do, the more likely you will be able to get a better understanding of the code.  The more you do, the more likely you will be able to get a better understanding of the code.  The more you do, the more likely you will be able to get a better understanding of the code.  The more you do, the more likely you will be able to get a better understanding of the code.  The more you do, the more likely you will be able to get a better understanding of the code.  The more you do, the more likely you will be able to get a better understanding of the code.  The more you do, the more likely you will be able to get a better understanding of the code.  The more you do, the more likely you will be able to get a better understanding of the code.  The more you do, the more likely you will be able to get a better understanding of the code.  The more you do, the more likely you will be able to get a better understanding of\n",
            "Intel produced a pretty good white paper on the topic, but this is really only for when you care about cycles rather than nanoseconds or higher:\n",
            "184\n",
            ") and the other two are the same.  The reason for this is that the two are not mutually exclusive.  The reason for this is that the two are mutually exclusive.  The reason for this is that the two are mutually exclusive.  The reason for this is that the two are mutually exclusive.  The reason for this is that the two are mutually exclusive.  The reason for this is that the two are mutually exclusive.  The reason for this is that the two are mutually exclusive.  The reason for this is that the two are mutually exclusive.  The reason for this is that the two are mutually exclusive.  The reason for this is that the two are mutually exclusive.  The reason for this is that the two are mutually exclusive.  The reason for this is that the two are mutually exclusive.  The reason for this is that the two are mutually exclusive.  The reason for this is that the two are mutually exclusive.  The reason for this is that the two are mutually exclusive.  The reason for this is that the two are mutually exclusive.  The reason for this is that the two are mutually exclusive.  The reason for this is that the two are mutually exclusive.\n",
            "\n",
            "185\n",
            "for food. The only thing that's really interesting is that the turtle blood is actually a very different substance than the human blood. The human blood is actually a very different substance than the human blood. The human blood is actually a very different substance than the human blood. The human blood is actually a very different substance than the human blood. The human blood is actually a very different substance than the human blood. The human blood is actually a very different substance than the human blood. The human blood is actually a very different substance than the human blood. The human blood is actually a very different substance than the human blood. The human blood is actually a very different substance than the human blood. The human\n",
            "for fish eyes for the liquid and vitamins.Radioactivity doesn't depend on density.  It depends on stability of the nucleus (which does depend on density a bit but there are other factors).  Basically can the neutrons and protons stay bonded together.  If they can't, then some form of decay will occur to make it more stable.  Tritium is not as stable as He-3, so the neutron decays into a proton in order for the system to reach a stable arrangement.HAZMAT tech here.\n",
            "186\n",
            "to burn a substance that is not a fuel.The Flaming O oxidizing agent symbol is there because the substance is not a fuel, but an Oxidizer. The presence of Oxidizing agents can greatly accelerate the combustion of other materials, or even cause things that are not normally flammable to burn. It also broadens the flammability limits of most substances by lowering the LFL and raising the UFL. In other words, it becomes much easier to burn a substance that is not a fuel, but an Oxidizer.The Flaming O oxidizing agent symbol is there because the substance is not a fuel, but an Oxidizer. The presence of Oxidizing agents can greatly accelerate the combustion of other materials, or even cause things that are not normally flammable to burn.\n",
            "for materials to burn at lower temperatures and at a wider range of air/fuel mixtures. A small oxygen leak, for example, can turn what would otherwise be a simple structure fire into a very intense, and possibly explosive inferno. Even a slight increase in the oxygen content of air above its usual 21 vol % will greatly increase the rate of oxidation or combustion of many substances.\n",
            "187\n",
            "agent in the universe.\n",
            "agent that can do this.\n",
            "188\n",
            "Nitrous oxide is a very good oxidizer. Nitrous oxide is a very good oxidizer. Nitrous oxide is a very good oxidizer. Nitrous oxide is a very good oxidizer. Nitrous oxide is a very good oxidizer. Nitrous oxide is a very good oxidizer. Nitrous oxide is a very good oxidizer. Nitrous oxide is a very good oxidizer. Nitrous oxide is a very good oxidizer. Nitrous oxide is a very good oxidizer. Nitrous oxide is a very good oxidizer. Nitrous oxide is a very good oxidizer. Nitrous oxide is a very good oxidizer. Nitrous oxide is a very good oxidizer. Nitrous oxide is a very good oxidizer. Nitrous oxide is a very good oxidizer. Nitrous oxide is a very good oxidizer. Nitrous oxide is a very good oxidizer. Nitrous oxide is a very good oxidizer. Nitrous oxide is a very good oxidizer. Nitrous oxide is a very good oxidizer. Nitrous oxide is a very good oxidizer. Nitrous oxide is a very good oxidizer.\n",
            "But it will gladly support combustion in the place of atmospheric oxygen.\n",
            "189\n",
            "is a chemical that is used to make a lot of oxygen. It is a chemical that is used to make a lot of oxygen. It is a chemical that is used to make a lot of oxygen. It is a chemical that is used to make a lot of oxygen. It is a chemical that is used to make a lot of oxygen. It is a chemical that is used to make a lot of oxygen. It is a chemical that is used to make a lot of oxygen. It is a chemical that is used to make a lot of oxygen. It is a chemical that is used to make a lot of oxygen. It is a chemical that is used to make a lot of oxygen. It is a chemical that is used to make a lot of oxygen. It is a chemical that is used to make a lot of oxygen. It is a chemical that is used to make a lot of oxygen. It is a\n",
            "(the active component of most super glues) reacts with some fabrics to produce a lot of heat and a white smoke that is very irritating to eyes/mouth/lungs. I don't recall exactly what it is, but if it was a small amount of glue (it sounds like it was), you should be fine.\n",
            "190\n",
            "for me, but I'm sure it's a good idea to use a different method.  I'm not sure if it's a good idea to use a different method.  I'm sure it's a good idea to use a different method.  I'm sure it's a good idea to use a different method.  I'm sure it's a good idea to use a different method.  I'm sure it's a good idea to use a different method.  I'm sure it's a good idea to use a different method.  I'm sure it's a good idea to use a different method.  I'm sure it's a good idea to use a different method.  I'm sure it's a good idea to use a different method.  I'm sure it's a good idea to use a different method.  I'm sure it's a good idea to use a different method.  I'm sure it's a good idea to use a different method.  I'm sure it's a good idea to use a different method.\n",
            "for all applications in Linux.  Ctrl-C most often sends a SIGINT to the current foreground process (in most any shell), which can be easily ignored:\n",
            "191\n",
            "p> <p> <p> <p> <p> <p> <p> <p> <p> <p> <p> <p> <p> <p> <p> <p> <p> <p> <p> <p> <p> <p> <p> <p> <p> <p> <p> <p> <p> <p> <p> <p> <p> <p> <p> <p> <p> <p> <p> <p> <p> <p> <p> <p> <p> <p> <p> <p> <p> <p> <p> <p> <p> <p> <p> <p> <p> <p> <p> <p> <p> <p> <p> <p> <p> <p> <p> <p> <p> <p> <p> <p> <p> <p> <p> <p> <p> <p> <p> <p> <p> <p> <\n",
            "signal.h >\n",
            "192\n",
            "p> <p> <p> <p> <p> <p> <p> <p> <p> <p> <p> <p> <p> <p> <p> <p> <p> <p> <p> <p> <p> <p> <p> <p> <p> <p> <p> <p> <p> <p> <p> <p> <p> <p> <p> <p> <p> <p> <p> <p> <p> <p> <p> <p> <p> <p> <p> <p> <p> <p> <p> <p> <p> <p> <p> <p> <p> <p> <p> <p> <p> <p> <p> <p> <p> <p> <p> <p> <p> <p> <p> <p> <p> <p> <p> <p> <p> <p> <p> <p> <p> <p> <\n",
            "unistd.h >\n",
            "193\n",
            "p> <p> <p> <p> <p> <p> <p> <p> <p> <p> <p> <p> <p> <p> <p> <p> <p> <p> <p> <p> <p> <p> <p> <p> <p> <p> <p> <p> <p> <p> <p> <p> <p> <p> <p> <p> <p> <p> <p> <p> <p> <p> <p> <p> <p> <p> <p> <p> <p> <p> <p> <p> <p> <p> <p> <p> <p> <p> <p> <p> <p> <p> <p> <p> <p> <p> <p> <p> <p> <p> <p> <p> <p> <p> <p> <p> <p> <p> <p> <p> <p> <p> <\n",
            "stdio.h >\n",
            "194\n",
            "( int ( int ( int ( int ( int ( int ( int ( int ( int ( int ( int ( int ( int ( int ( int))))))))))))))))))))))))))))))))))))))))))))))))))))))))))))))))))))))))))))))))))))))))))))))))))))))))))))))))))))))))))))))))))))))))))))))))))))))))))))))))))))))))))))))))))))))))))))))))))))))))))))))))))))))))))))))))))))))))))))))))))))))))))))))))))))))))))))))))))))))))))))))))))))))))))))))))))))))))))))))))))))))))))))))))))))))))))))))))))))))))))))))))))))))))))))))))))))))))))))))))))))))))))))))))))))))))))))))))\n",
            "sig ){\n",
            "195\n",
            "_\")_)_)_)_)_)_)_)_)_)_)_)_)_)_)_)_)_)_)_)_)_)_)_)_)_)_)_)_)_)_)_)_)_)_)_)_)_)_)_)_)_)_)_)_)_)_)_)_)_)_)_)_)_)_)_)_)_)_)_)_)_)_)_)_)_)_)_)_)_)_)_)_)_)_)_)_)_)_)_)_)_)_)_)_)_)_)_)_)_)_)_)_)_)_)_)_)_)_)_)_)_)_)_)_)_)_)_)_)_)_)_)_)_)_)_)_)_)_)_)_)_)_\n",
            "harder\\n\" );\n",
            "196\n",
            "the same thing.\n",
            "\n",
            "197\n",
            "int argv) is a function that returns a value of the type \"x\" in the function. The function is a function that returns a value of the type \"y\" in the function. The function is a function that returns a value of the type \"x\" in the function. The function is a function that returns a value of the type \"x\" in the function. The function is a function that returns a value of the type \"x\" in the function. The function is a function that returns a value of the type \"x\" in the function. The function is a function that returns a value of the type \"x\" in the function. The function is a function that returns a value of the type \"x\" in the function. The function is a function that returns a value of the type \"x\" in the function. The function is a function that returns a value of the type \"x\" in the function. The function is a function that returns a value of the type \"x\" in the function. The function is a function that returns a value of the type \"x\" in the function. The function is a function that returns a value of the type \"\n",
            "char *argv[] ){\n",
            "198\n",
            "_URL_0_) and _URL_1_). The two are the same, but the two are different.  The first is that the two are different, and the second is that the two are different.  The second is that the two are different.  The third is that the two are different.  The fourth is that the two are different.  The fourth is that the two are different.  The fourth is that the two are different.  The fourth is that the two are different.  The fourth is that the two are different.  The fourth is that the two are different.  The fourth is that the two are different.  The fourth is that the two are different.  The fourth is that the two are different.  The fourth is that the two are different.  The fourth is that the two are different.  The fourth is that the two are different.  The fourth is that the two are different.  The fourth is that the two are different.  The fourth is that the two are different.  The fourth is that the two are different.  The fourth is that the two are different.  The fourth is that the two are different\n",
            "& lol );\n",
            "199\n",
            "196\n",
            "200\n",
            "200\n"
          ]
        },
        {
          "output_type": "stream",
          "name": "stderr",
          "text": [
            "Some weights of the model checkpoint at bert-base-uncased were not used when initializing BertModel: ['cls.predictions.transform.dense.bias', 'cls.predictions.transform.LayerNorm.bias', 'cls.predictions.bias', 'cls.predictions.transform.LayerNorm.weight', 'cls.predictions.transform.dense.weight', 'cls.seq_relationship.weight', 'cls.seq_relationship.bias']\n",
            "- This IS expected if you are initializing BertModel from the checkpoint of a model trained on another task or with another architecture (e.g. initializing a BertForSequenceClassification model from a BertForPreTraining model).\n",
            "- This IS NOT expected if you are initializing BertModel from the checkpoint of a model that you expect to be exactly identical (initializing a BertForSequenceClassification model from a BertForSequenceClassification model).\n"
          ]
        },
        {
          "output_type": "stream",
          "name": "stdout",
          "text": [
            "Mean F1 BERTScore: 0.3399568200111389\n"
          ]
        },
        {
          "output_type": "stream",
          "name": "stderr",
          "text": [
            "Warning: Empty candidate sentence detected; setting raw BERTscores to 0.\n",
            "Warning: Empty reference sentence detected; setting raw BERTScores to 0.\n",
            "Warning: Empty candidate sentence detected; setting raw BERTscores to 0.\n",
            "Warning: Empty reference sentence detected; setting raw BERTScores to 0.\n",
            "Warning: Empty candidate sentence detected; setting raw BERTscores to 0.\n",
            "Warning: Empty reference sentence detected; setting raw BERTScores to 0.\n",
            "Warning: Empty reference sentence detected; setting raw BERTScores to 0.\n"
          ]
        }
      ]
    },
    {
      "cell_type": "code",
      "source": [],
      "metadata": {
        "id": "p0KqhRp8V918"
      },
      "execution_count": null,
      "outputs": []
    }
  ],
  "metadata": {
    "colab": {
      "provenance": [],
      "gpuType": "T4"
    },
    "kernelspec": {
      "display_name": "Python 3",
      "name": "python3"
    },
    "language_info": {
      "codemirror_mode": {
        "name": "ipython",
        "version": 3
      },
      "file_extension": ".py",
      "mimetype": "text/x-python",
      "name": "python",
      "nbconvert_exporter": "python",
      "pygments_lexer": "ipython3",
      "version": "3.10.8"
    },
    "accelerator": "GPU",
    "widgets": {
      "application/vnd.jupyter.widget-state+json": {
        "70948450102d4959bd4d4ce8810fea11": {
          "model_module": "@jupyter-widgets/controls",
          "model_name": "HBoxModel",
          "model_module_version": "1.5.0",
          "state": {
            "_dom_classes": [],
            "_model_module": "@jupyter-widgets/controls",
            "_model_module_version": "1.5.0",
            "_model_name": "HBoxModel",
            "_view_count": null,
            "_view_module": "@jupyter-widgets/controls",
            "_view_module_version": "1.5.0",
            "_view_name": "HBoxView",
            "box_style": "",
            "children": [
              "IPY_MODEL_1f769202ccd441e68d4dc65d3e9bb4de",
              "IPY_MODEL_495d99d8cf6341afb0ce8827bef749f7",
              "IPY_MODEL_8a92c60560b14ab0bcbef5cfd4bbdcc9"
            ],
            "layout": "IPY_MODEL_77bc94813a7941be955ca32d3a34e95f"
          }
        },
        "1f769202ccd441e68d4dc65d3e9bb4de": {
          "model_module": "@jupyter-widgets/controls",
          "model_name": "HTMLModel",
          "model_module_version": "1.5.0",
          "state": {
            "_dom_classes": [],
            "_model_module": "@jupyter-widgets/controls",
            "_model_module_version": "1.5.0",
            "_model_name": "HTMLModel",
            "_view_count": null,
            "_view_module": "@jupyter-widgets/controls",
            "_view_module_version": "1.5.0",
            "_view_name": "HTMLView",
            "description": "",
            "description_tooltip": null,
            "layout": "IPY_MODEL_fd4f1ad8ecbb48c1b4722bc107339ce4",
            "placeholder": "​",
            "style": "IPY_MODEL_9cfd012410a843e8af43d0130b4120b5",
            "value": "100%"
          }
        },
        "495d99d8cf6341afb0ce8827bef749f7": {
          "model_module": "@jupyter-widgets/controls",
          "model_name": "FloatProgressModel",
          "model_module_version": "1.5.0",
          "state": {
            "_dom_classes": [],
            "_model_module": "@jupyter-widgets/controls",
            "_model_module_version": "1.5.0",
            "_model_name": "FloatProgressModel",
            "_view_count": null,
            "_view_module": "@jupyter-widgets/controls",
            "_view_module_version": "1.5.0",
            "_view_name": "ProgressView",
            "bar_style": "success",
            "description": "",
            "description_tooltip": null,
            "layout": "IPY_MODEL_127332d3bd4245468d982a04de7bff44",
            "max": 2,
            "min": 0,
            "orientation": "horizontal",
            "style": "IPY_MODEL_64f3c1af34654b22867ca09e888e4c37",
            "value": 2
          }
        },
        "8a92c60560b14ab0bcbef5cfd4bbdcc9": {
          "model_module": "@jupyter-widgets/controls",
          "model_name": "HTMLModel",
          "model_module_version": "1.5.0",
          "state": {
            "_dom_classes": [],
            "_model_module": "@jupyter-widgets/controls",
            "_model_module_version": "1.5.0",
            "_model_name": "HTMLModel",
            "_view_count": null,
            "_view_module": "@jupyter-widgets/controls",
            "_view_module_version": "1.5.0",
            "_view_name": "HTMLView",
            "description": "",
            "description_tooltip": null,
            "layout": "IPY_MODEL_8eb21439ee524a0ebe8c92c99bdcdbb9",
            "placeholder": "​",
            "style": "IPY_MODEL_87f6ed2bc05f46e7a114b3dc9d189b89",
            "value": " 2/2 [00:00&lt;00:00, 54.72it/s]"
          }
        },
        "77bc94813a7941be955ca32d3a34e95f": {
          "model_module": "@jupyter-widgets/base",
          "model_name": "LayoutModel",
          "model_module_version": "1.2.0",
          "state": {
            "_model_module": "@jupyter-widgets/base",
            "_model_module_version": "1.2.0",
            "_model_name": "LayoutModel",
            "_view_count": null,
            "_view_module": "@jupyter-widgets/base",
            "_view_module_version": "1.2.0",
            "_view_name": "LayoutView",
            "align_content": null,
            "align_items": null,
            "align_self": null,
            "border": null,
            "bottom": null,
            "display": null,
            "flex": null,
            "flex_flow": null,
            "grid_area": null,
            "grid_auto_columns": null,
            "grid_auto_flow": null,
            "grid_auto_rows": null,
            "grid_column": null,
            "grid_gap": null,
            "grid_row": null,
            "grid_template_areas": null,
            "grid_template_columns": null,
            "grid_template_rows": null,
            "height": null,
            "justify_content": null,
            "justify_items": null,
            "left": null,
            "margin": null,
            "max_height": null,
            "max_width": null,
            "min_height": null,
            "min_width": null,
            "object_fit": null,
            "object_position": null,
            "order": null,
            "overflow": null,
            "overflow_x": null,
            "overflow_y": null,
            "padding": null,
            "right": null,
            "top": null,
            "visibility": null,
            "width": null
          }
        },
        "fd4f1ad8ecbb48c1b4722bc107339ce4": {
          "model_module": "@jupyter-widgets/base",
          "model_name": "LayoutModel",
          "model_module_version": "1.2.0",
          "state": {
            "_model_module": "@jupyter-widgets/base",
            "_model_module_version": "1.2.0",
            "_model_name": "LayoutModel",
            "_view_count": null,
            "_view_module": "@jupyter-widgets/base",
            "_view_module_version": "1.2.0",
            "_view_name": "LayoutView",
            "align_content": null,
            "align_items": null,
            "align_self": null,
            "border": null,
            "bottom": null,
            "display": null,
            "flex": null,
            "flex_flow": null,
            "grid_area": null,
            "grid_auto_columns": null,
            "grid_auto_flow": null,
            "grid_auto_rows": null,
            "grid_column": null,
            "grid_gap": null,
            "grid_row": null,
            "grid_template_areas": null,
            "grid_template_columns": null,
            "grid_template_rows": null,
            "height": null,
            "justify_content": null,
            "justify_items": null,
            "left": null,
            "margin": null,
            "max_height": null,
            "max_width": null,
            "min_height": null,
            "min_width": null,
            "object_fit": null,
            "object_position": null,
            "order": null,
            "overflow": null,
            "overflow_x": null,
            "overflow_y": null,
            "padding": null,
            "right": null,
            "top": null,
            "visibility": null,
            "width": null
          }
        },
        "9cfd012410a843e8af43d0130b4120b5": {
          "model_module": "@jupyter-widgets/controls",
          "model_name": "DescriptionStyleModel",
          "model_module_version": "1.5.0",
          "state": {
            "_model_module": "@jupyter-widgets/controls",
            "_model_module_version": "1.5.0",
            "_model_name": "DescriptionStyleModel",
            "_view_count": null,
            "_view_module": "@jupyter-widgets/base",
            "_view_module_version": "1.2.0",
            "_view_name": "StyleView",
            "description_width": ""
          }
        },
        "127332d3bd4245468d982a04de7bff44": {
          "model_module": "@jupyter-widgets/base",
          "model_name": "LayoutModel",
          "model_module_version": "1.2.0",
          "state": {
            "_model_module": "@jupyter-widgets/base",
            "_model_module_version": "1.2.0",
            "_model_name": "LayoutModel",
            "_view_count": null,
            "_view_module": "@jupyter-widgets/base",
            "_view_module_version": "1.2.0",
            "_view_name": "LayoutView",
            "align_content": null,
            "align_items": null,
            "align_self": null,
            "border": null,
            "bottom": null,
            "display": null,
            "flex": null,
            "flex_flow": null,
            "grid_area": null,
            "grid_auto_columns": null,
            "grid_auto_flow": null,
            "grid_auto_rows": null,
            "grid_column": null,
            "grid_gap": null,
            "grid_row": null,
            "grid_template_areas": null,
            "grid_template_columns": null,
            "grid_template_rows": null,
            "height": null,
            "justify_content": null,
            "justify_items": null,
            "left": null,
            "margin": null,
            "max_height": null,
            "max_width": null,
            "min_height": null,
            "min_width": null,
            "object_fit": null,
            "object_position": null,
            "order": null,
            "overflow": null,
            "overflow_x": null,
            "overflow_y": null,
            "padding": null,
            "right": null,
            "top": null,
            "visibility": null,
            "width": null
          }
        },
        "64f3c1af34654b22867ca09e888e4c37": {
          "model_module": "@jupyter-widgets/controls",
          "model_name": "ProgressStyleModel",
          "model_module_version": "1.5.0",
          "state": {
            "_model_module": "@jupyter-widgets/controls",
            "_model_module_version": "1.5.0",
            "_model_name": "ProgressStyleModel",
            "_view_count": null,
            "_view_module": "@jupyter-widgets/base",
            "_view_module_version": "1.2.0",
            "_view_name": "StyleView",
            "bar_color": null,
            "description_width": ""
          }
        },
        "8eb21439ee524a0ebe8c92c99bdcdbb9": {
          "model_module": "@jupyter-widgets/base",
          "model_name": "LayoutModel",
          "model_module_version": "1.2.0",
          "state": {
            "_model_module": "@jupyter-widgets/base",
            "_model_module_version": "1.2.0",
            "_model_name": "LayoutModel",
            "_view_count": null,
            "_view_module": "@jupyter-widgets/base",
            "_view_module_version": "1.2.0",
            "_view_name": "LayoutView",
            "align_content": null,
            "align_items": null,
            "align_self": null,
            "border": null,
            "bottom": null,
            "display": null,
            "flex": null,
            "flex_flow": null,
            "grid_area": null,
            "grid_auto_columns": null,
            "grid_auto_flow": null,
            "grid_auto_rows": null,
            "grid_column": null,
            "grid_gap": null,
            "grid_row": null,
            "grid_template_areas": null,
            "grid_template_columns": null,
            "grid_template_rows": null,
            "height": null,
            "justify_content": null,
            "justify_items": null,
            "left": null,
            "margin": null,
            "max_height": null,
            "max_width": null,
            "min_height": null,
            "min_width": null,
            "object_fit": null,
            "object_position": null,
            "order": null,
            "overflow": null,
            "overflow_x": null,
            "overflow_y": null,
            "padding": null,
            "right": null,
            "top": null,
            "visibility": null,
            "width": null
          }
        },
        "87f6ed2bc05f46e7a114b3dc9d189b89": {
          "model_module": "@jupyter-widgets/controls",
          "model_name": "DescriptionStyleModel",
          "model_module_version": "1.5.0",
          "state": {
            "_model_module": "@jupyter-widgets/controls",
            "_model_module_version": "1.5.0",
            "_model_name": "DescriptionStyleModel",
            "_view_count": null,
            "_view_module": "@jupyter-widgets/base",
            "_view_module_version": "1.2.0",
            "_view_name": "StyleView",
            "description_width": ""
          }
        }
      }
    }
  },
  "nbformat": 4,
  "nbformat_minor": 0
}